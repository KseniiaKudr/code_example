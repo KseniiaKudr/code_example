{
 "cells": [
  {
   "cell_type": "code",
   "execution_count": 1,
   "id": "c69ffd86",
   "metadata": {},
   "outputs": [],
   "source": [
    "import pandas as pd\n",
    "import numpy as np\n",
    "import seaborn as sns\n",
    "import matplotlib.pyplot as plt\n",
    "import multiprocessing\n",
    "from sklearn.naive_bayes import BernoulliNB\n",
    "from sklearn.feature_extraction.text import CountVectorizer, TfidfVectorizer\n",
    "from sklearn.decomposition import LatentDirichletAllocation\n",
    "from sklearn.pipeline import make_pipeline\n",
    "from tqdm.notebook import tqdm\n",
    "import nltk\n",
    "from nltk.corpus import words\n",
    "from sklearn.model_selection import train_test_split\n",
    "import gensim\n",
    "from gensim.models import Word2Vec\n",
    "import time\n",
    "import tensorflow as tf\n",
    "from keras import optimizers\n",
    "from keras.models import Sequential\n",
    "from keras.layers import Dense, Embedding, Dropout, LSTM, Bidirectional, Activation\n",
    "from tensorflow.keras.preprocessing.text import Tokenizer, text_to_word_sequence\n",
    "from tensorflow.keras.preprocessing.sequence import pad_sequences\n",
    "from tensorflow.keras.layers import SpatialDropout1D\n",
    "from tensorflow.keras.optimizers import Adam\n",
    "from gensim.models import KeyedVectors\n",
    "from gensim.models.doc2vec import Doc2Vec, TaggedDocument\n",
    "from datetime import datetime\n",
    "from sklearn.metrics import classification_report\n",
    "import os"
   ]
  },
  {
   "cell_type": "code",
   "execution_count": 4,
   "id": "168680cd",
   "metadata": {},
   "outputs": [],
   "source": [
    "callback = tf.keras.callbacks.EarlyStopping(monitor='loss', patience=3)"
   ]
  },
  {
   "cell_type": "code",
   "execution_count": 5,
   "id": "7e064c25",
   "metadata": {},
   "outputs": [],
   "source": [
    "#pip install C:\\\\Users\\\\super\\\\OneDrive\\\\fastText-0.9.2"
   ]
  },
  {
   "cell_type": "code",
   "execution_count": 2,
   "id": "1884cd74",
   "metadata": {},
   "outputs": [],
   "source": [
    "data = pd.read_csv(\"lemma_clean.csv\")"
   ]
  },
  {
   "cell_type": "code",
   "execution_count": 3,
   "id": "34a454da",
   "metadata": {},
   "outputs": [
    {
     "data": {
      "text/html": [
       "<div>\n",
       "<style scoped>\n",
       "    .dataframe tbody tr th:only-of-type {\n",
       "        vertical-align: middle;\n",
       "    }\n",
       "\n",
       "    .dataframe tbody tr th {\n",
       "        vertical-align: top;\n",
       "    }\n",
       "\n",
       "    .dataframe thead th {\n",
       "        text-align: right;\n",
       "    }\n",
       "</style>\n",
       "<table border=\"1\" class=\"dataframe\">\n",
       "  <thead>\n",
       "    <tr style=\"text-align: right;\">\n",
       "      <th></th>\n",
       "      <th>label</th>\n",
       "      <th>text_lemma</th>\n",
       "    </tr>\n",
       "  </thead>\n",
       "  <tbody>\n",
       "    <tr>\n",
       "      <th>0</th>\n",
       "      <td>0.0</td>\n",
       "      <td>murdoch toxic sexist culture exposed former em...</td>\n",
       "    </tr>\n",
       "    <tr>\n",
       "      <th>1</th>\n",
       "      <td>0.0</td>\n",
       "      <td>hello i love</td>\n",
       "    </tr>\n",
       "    <tr>\n",
       "      <th>2</th>\n",
       "      <td>0.0</td>\n",
       "      <td>i miss sweet tea</td>\n",
       "    </tr>\n",
       "    <tr>\n",
       "      <th>3</th>\n",
       "      <td>0.0</td>\n",
       "      <td>i can not believe eye working grad school</td>\n",
       "    </tr>\n",
       "    <tr>\n",
       "      <th>4</th>\n",
       "      <td>0.0</td>\n",
       "      <td>soul man spiritual path sobriety week</td>\n",
       "    </tr>\n",
       "    <tr>\n",
       "      <th>...</th>\n",
       "      <td>...</td>\n",
       "      <td>...</td>\n",
       "    </tr>\n",
       "    <tr>\n",
       "      <th>199829</th>\n",
       "      <td>1.0</td>\n",
       "      <td>looking friend talk relateable level anywhere ...</td>\n",
       "    </tr>\n",
       "    <tr>\n",
       "      <th>199830</th>\n",
       "      <td>1.0</td>\n",
       "      <td>i feel like i should killed myself year ago i ...</td>\n",
       "    </tr>\n",
       "    <tr>\n",
       "      <th>199831</th>\n",
       "      <td>1.0</td>\n",
       "      <td>anyone else like i wanted see anyone else felt...</td>\n",
       "    </tr>\n",
       "    <tr>\n",
       "      <th>199832</th>\n",
       "      <td>1.0</td>\n",
       "      <td>leaving need place rant i want fucking kill my...</td>\n",
       "    </tr>\n",
       "    <tr>\n",
       "      <th>199833</th>\n",
       "      <td>1.0</td>\n",
       "      <td>morbid curiosity i see many people angry paren...</td>\n",
       "    </tr>\n",
       "  </tbody>\n",
       "</table>\n",
       "<p>199834 rows × 2 columns</p>\n",
       "</div>"
      ],
      "text/plain": [
       "        label                                         text_lemma\n",
       "0         0.0  murdoch toxic sexist culture exposed former em...\n",
       "1         0.0                                       hello i love\n",
       "2         0.0                                   i miss sweet tea\n",
       "3         0.0          i can not believe eye working grad school\n",
       "4         0.0              soul man spiritual path sobriety week\n",
       "...       ...                                                ...\n",
       "199829    1.0  looking friend talk relateable level anywhere ...\n",
       "199830    1.0  i feel like i should killed myself year ago i ...\n",
       "199831    1.0  anyone else like i wanted see anyone else felt...\n",
       "199832    1.0  leaving need place rant i want fucking kill my...\n",
       "199833    1.0  morbid curiosity i see many people angry paren...\n",
       "\n",
       "[199834 rows x 2 columns]"
      ]
     },
     "execution_count": 3,
     "metadata": {},
     "output_type": "execute_result"
    }
   ],
   "source": [
    "data"
   ]
  },
  {
   "cell_type": "code",
   "execution_count": 5,
   "id": "34b2de90",
   "metadata": {},
   "outputs": [
    {
     "name": "stderr",
     "output_type": "stream",
     "text": [
      "[nltk_data] Downloading package words to\n",
      "[nltk_data]     C:\\Users\\super\\AppData\\Roaming\\nltk_data...\n",
      "[nltk_data]   Package words is already up-to-date!\n"
     ]
    }
   ],
   "source": [
    "# Load the English words corpus\n",
    "nltk.download('words')\n",
    "english_words = set(words.words())"
   ]
  },
  {
   "cell_type": "code",
   "execution_count": 6,
   "id": "2aca3e4a",
   "metadata": {},
   "outputs": [],
   "source": [
    "# Function to filter out non-existing words\n",
    "def filter_non_existing_words(text):\n",
    "    words_list = text.split()\n",
    "    filtered_words = [word for word in words_list if word.lower() in english_words]\n",
    "    return ' '.join(filtered_words)"
   ]
  },
  {
   "cell_type": "code",
   "execution_count": 7,
   "id": "7f2c3b20",
   "metadata": {},
   "outputs": [],
   "source": [
    "data['text_tostring'] = data['text_lemma'].apply(lambda x: str(x))"
   ]
  },
  {
   "cell_type": "code",
   "execution_count": 8,
   "id": "27039c1c",
   "metadata": {},
   "outputs": [],
   "source": [
    "data['text_tostring'] = data['text_tostring'].apply(filter_non_existing_words)"
   ]
  },
  {
   "cell_type": "code",
   "execution_count": 9,
   "id": "1ad6b2b1",
   "metadata": {},
   "outputs": [],
   "source": [
    "X_train, X_test, y_train, y_test = train_test_split(data['text_tostring'], \n",
    "                                                          data['label'], \n",
    "                                                          stratify=data['label'],\n",
    "                                                          random_state = 42, \n",
    "                                                          test_size=0.2)"
   ]
  },
  {
   "cell_type": "code",
   "execution_count": 10,
   "id": "440daf98",
   "metadata": {},
   "outputs": [
    {
     "data": {
      "text/plain": [
       "142082    i decided i would counselor problem advice wor...\n",
       "159903      difference believing millennial unsure supposed\n",
       "186772    i revenge i hurt i tell word towards head wate...\n",
       "197213    broke heart dating nearly seven month i could ...\n",
       "57641     annoying part feeling like not should everyone...\n",
       "                                ...                        \n",
       "152826    i not anything life far i want preface little ...\n",
       "175788    thought life not suicidal i really hate cultur...\n",
       "164701    sympathize extremely negative friend since pos...\n",
       "53009                                                  find\n",
       "62402                                               academy\n",
       "Name: text_tostring, Length: 159867, dtype: object"
      ]
     },
     "execution_count": 10,
     "metadata": {},
     "output_type": "execute_result"
    }
   ],
   "source": [
    "X_train"
   ]
  },
  {
   "cell_type": "code",
   "execution_count": 11,
   "id": "dc11f01c",
   "metadata": {},
   "outputs": [
    {
     "data": {
      "text/plain": [
       "44872                           should not need feel better\n",
       "178936    not much i want die much really i not think i ...\n",
       "72278     strict basically i want know whether not stric...\n",
       "9596                                        different gravy\n",
       "117766    anyone else loss appetite period i i female fr...\n",
       "                                ...                        \n",
       "84453                   time kick play arsonist simulator i\n",
       "100875    i think dumb enforce gender role show role rea...\n",
       "107124    honker ever yes honker delightful soft plump j...\n",
       "60334                                                      \n",
       "3439              working incredibly hard week shut weekend\n",
       "Name: text_tostring, Length: 39967, dtype: object"
      ]
     },
     "execution_count": 11,
     "metadata": {},
     "output_type": "execute_result"
    }
   ],
   "source": [
    "X_test"
   ]
  },
  {
   "cell_type": "code",
   "execution_count": 14,
   "id": "47cfb60e",
   "metadata": {},
   "outputs": [
    {
     "data": {
      "text/plain": [
       "1.0    0.500266\n",
       "0.0    0.499734\n",
       "Name: label, dtype: float64"
      ]
     },
     "execution_count": 14,
     "metadata": {},
     "output_type": "execute_result"
    }
   ],
   "source": [
    "# Checking if splitting is balanced\n",
    "class_counts = pd.Series(y_train).value_counts()\n",
    "class_proportions = class_counts / len(X_train)\n",
    "class_proportions"
   ]
  },
  {
   "cell_type": "code",
   "execution_count": 15,
   "id": "0ccbf109",
   "metadata": {},
   "outputs": [
    {
     "data": {
      "text/html": [
       "<div>\n",
       "<style scoped>\n",
       "    .dataframe tbody tr th:only-of-type {\n",
       "        vertical-align: middle;\n",
       "    }\n",
       "\n",
       "    .dataframe tbody tr th {\n",
       "        vertical-align: top;\n",
       "    }\n",
       "\n",
       "    .dataframe thead th {\n",
       "        text-align: right;\n",
       "    }\n",
       "</style>\n",
       "<table border=\"1\" class=\"dataframe\">\n",
       "  <thead>\n",
       "    <tr style=\"text-align: right;\">\n",
       "      <th></th>\n",
       "      <th>label</th>\n",
       "      <th>text_lemma</th>\n",
       "      <th>text_tostring</th>\n",
       "    </tr>\n",
       "  </thead>\n",
       "  <tbody>\n",
       "  </tbody>\n",
       "</table>\n",
       "</div>"
      ],
      "text/plain": [
       "Empty DataFrame\n",
       "Columns: [label, text_lemma, text_tostring]\n",
       "Index: []"
      ]
     },
     "execution_count": 15,
     "metadata": {},
     "output_type": "execute_result"
    }
   ],
   "source": [
    "data[data['text_tostring'].str.contains('aaffffffff')]"
   ]
  },
  {
   "cell_type": "code",
   "execution_count": 16,
   "id": "f64201b4",
   "metadata": {},
   "outputs": [],
   "source": [
    "MAX_LEN = 200 # Maximum number of words in a comment to be used.\n",
    "NUM_WORDS = 5000 # Number of unique words to be used.\n",
    "WORD_VEC_SIZE = 100 # Size of each word vector."
   ]
  },
  {
   "cell_type": "code",
   "execution_count": 17,
   "id": "85b21a37",
   "metadata": {},
   "outputs": [],
   "source": [
    "import fasttext\n",
    "model_ft = fasttext.train_supervised('train.txt', wordNgrams = 2)"
   ]
  },
  {
   "cell_type": "code",
   "execution_count": 18,
   "id": "1e963461",
   "metadata": {},
   "outputs": [],
   "source": [
    "train_vectors = []\n",
    "for sentence in X_train:\n",
    "    train_vectors.append(model_ft.get_sentence_vector(sentence))"
   ]
  },
  {
   "cell_type": "code",
   "execution_count": 19,
   "id": "865e7418",
   "metadata": {},
   "outputs": [],
   "source": [
    "test_vectors = []\n",
    "for sentence in X_test:\n",
    "    test_vectors.append(model_ft.get_sentence_vector(sentence))"
   ]
  },
  {
   "cell_type": "code",
   "execution_count": 20,
   "id": "950f756a",
   "metadata": {},
   "outputs": [],
   "source": [
    "# # Convert NumPy arrays to lists of strings\n",
    "tokenizer = Tokenizer()\n",
    "tokenizer.fit_on_texts(X_train)\n",
    "\n",
    "# Convert text to sequences\n",
    "X_train_sequences = tokenizer.texts_to_sequences(X_train)\n",
    "X_test_sequences = tokenizer.texts_to_sequences(X_test)\n",
    "\n",
    "# Pad sequences\n",
    "X_train_padded = pad_sequences(X_train_sequences, maxlen=MAX_LEN, truncating='post' , padding='post')\n",
    "X_test_padded = pad_sequences(X_test_sequences, maxlen=MAX_LEN, truncating='post' , padding='post')"
   ]
  },
  {
   "cell_type": "code",
   "execution_count": 21,
   "id": "30c842b5",
   "metadata": {},
   "outputs": [],
   "source": [
    "word_to_index = tokenizer.word_index"
   ]
  },
  {
   "cell_type": "code",
   "execution_count": 22,
   "id": "440170fb",
   "metadata": {},
   "outputs": [],
   "source": [
    "vocab_size = len(tokenizer.word_index) + 1"
   ]
  },
  {
   "cell_type": "code",
   "execution_count": 23,
   "id": "9c5850e9",
   "metadata": {},
   "outputs": [],
   "source": [
    "vocab_size = len(tokenizer.word_index) + 1\n",
    "embedding_dim = model_ft.get_dimension()\n",
    "\n",
    "embedding_matrix = np.zeros((vocab_size, embedding_dim))\n",
    "for word, index in word_to_index.items():\n",
    "    if word in model_ft:\n",
    "        embedding_matrix[index] = model_ft.get_word_vector(word)"
   ]
  },
  {
   "cell_type": "code",
   "execution_count": 22,
   "id": "8120a456",
   "metadata": {},
   "outputs": [],
   "source": [
    "# glove_dictionary = dict()\n",
    "# with open(\"glove.twitter.27B.100d.txt\", encoding=\"utf8\") as f:\n",
    "#     for line in f:\n",
    "#         line = line.split()\n",
    "#         word, coefficients = line[0], line[1:]\n",
    "#         glove_dictionary[word] = np.asarray(coefficients, dtype='float32')"
   ]
  },
  {
   "cell_type": "code",
   "execution_count": 26,
   "id": "10bc701d",
   "metadata": {},
   "outputs": [],
   "source": [
    "def build_model(embedding_matrix):\n",
    "    \"\"\"\n",
    "    Build the LSTM model.\n",
    "    \n",
    "    :param embedding_matrix: a matrix with the corresponding embedding of all words.\n",
    "    :return: the created LSTM model.\n",
    "    \"\"\"\n",
    "    optimzer=Adam(learning_rate=1e-5)\n",
    "    # Input layer.\n",
    "    inp = tf.keras.layers.Input(shape=(MAX_LEN,), name=\"input\")\n",
    "\n",
    "    # Add embedding layer.\n",
    "    x = tf.keras.layers.Embedding(vocab_size, embedding_dim, \n",
    "                                  weights=[embedding_matrix], \n",
    "                                  trainable=False, mask_zero=True)(inp)\n",
    "\n",
    "    # Add LSTM layer.\n",
    "    x = tf.keras.layers.LSTM(128)(x)\n",
    "\n",
    "    # Output layer.\n",
    "    x = tf.keras.layers.Dense(1, activation='sigmoid', name=\"output\")(x)\n",
    "    \n",
    "    model = tf.keras.models.Model(inputs=inp, outputs=x)\n",
    "    \n",
    "    model.compile(loss='binary_crossentropy', \n",
    "                  optimizer=optimzer, \n",
    "                  metrics=['accuracy'])\n",
    "                  \n",
    "    return model"
   ]
  },
  {
   "cell_type": "code",
   "execution_count": 34,
   "id": "040bfaa6",
   "metadata": {},
   "outputs": [
    {
     "name": "stdout",
     "output_type": "stream",
     "text": [
      "Model: \"model\"\n",
      "_________________________________________________________________\n",
      " Layer (type)                Output Shape              Param #   \n",
      "=================================================================\n",
      " input (InputLayer)          [(None, 200)]             0         \n",
      "                                                                 \n",
      " embedding (Embedding)       (None, 200, 100)          2297400   \n",
      "                                                                 \n",
      " lstm (LSTM)                 (None, 128)               117248    \n",
      "                                                                 \n",
      " output (Dense)              (None, 1)                 129       \n",
      "                                                                 \n",
      "=================================================================\n",
      "Total params: 2,414,777\n",
      "Trainable params: 117,377\n",
      "Non-trainable params: 2,297,400\n",
      "_________________________________________________________________\n"
     ]
    }
   ],
   "source": [
    "model = build_model(embedding_matrix)\n",
    "model.summary()"
   ]
  },
  {
   "cell_type": "code",
   "execution_count": null,
   "id": "9ea97e0e",
   "metadata": {},
   "outputs": [],
   "source": [
    "#pip install graphviz\n",
    "#pip install pydot"
   ]
  },
  {
   "cell_type": "code",
   "execution_count": 35,
   "id": "6ba596fa",
   "metadata": {},
   "outputs": [
    {
     "data": {
      "image/png": "[encoded data removed]",
      "text/plain": [
       "<IPython.core.display.Image object>"
      ]
     },
     "execution_count": 35,
     "metadata": {},
     "output_type": "execute_result"
    }
   ],
   "source": [
    "tf.keras.utils.plot_model(model, to_file='LSTM_model.png', show_shapes=True, \n",
    "                          show_dtype=False, show_layer_names=True, dpi=96)"
   ]
  },
  {
   "cell_type": "code",
   "execution_count": 36,
   "id": "76ab3210",
   "metadata": {},
   "outputs": [
    {
     "name": "stdout",
     "output_type": "stream",
     "text": [
      "Epoch 1/15\n",
      "1000/1000 [==============================] - 368s 364ms/step - loss: 0.5278 - accuracy: 0.8172 - val_loss: 0.3929 - val_accuracy: 0.8726\n",
      "Epoch 2/15\n",
      "1000/1000 [==============================] - 369s 369ms/step - loss: 0.3613 - accuracy: 0.8785 - val_loss: 0.3523 - val_accuracy: 0.8752\n",
      "Epoch 3/15\n",
      "1000/1000 [==============================] - 363s 364ms/step - loss: 0.3347 - accuracy: 0.8800 - val_loss: 0.3367 - val_accuracy: 0.8763\n",
      "Epoch 4/15\n",
      "1000/1000 [==============================] - 363s 363ms/step - loss: 0.3248 - accuracy: 0.8802 - val_loss: 0.3289 - val_accuracy: 0.8774\n",
      "Epoch 5/15\n",
      "1000/1000 [==============================] - 359s 359ms/step - loss: 0.3184 - accuracy: 0.8810 - val_loss: 0.3243 - val_accuracy: 0.8780\n",
      "Epoch 6/15\n",
      "1000/1000 [==============================] - 360s 360ms/step - loss: 0.3141 - accuracy: 0.8811 - val_loss: 0.3204 - val_accuracy: 0.8771\n",
      "Epoch 7/15\n",
      "1000/1000 [==============================] - 358s 358ms/step - loss: 0.3111 - accuracy: 0.8815 - val_loss: 0.3182 - val_accuracy: 0.8772\n",
      "Epoch 8/15\n",
      "1000/1000 [==============================] - 355s 355ms/step - loss: 0.3086 - accuracy: 0.8818 - val_loss: 0.3161 - val_accuracy: 0.8782\n",
      "Epoch 9/15\n",
      "1000/1000 [==============================] - 354s 354ms/step - loss: 0.3068 - accuracy: 0.8821 - val_loss: 0.3145 - val_accuracy: 0.8783\n",
      "Epoch 10/15\n",
      "1000/1000 [==============================] - 356s 356ms/step - loss: 0.3055 - accuracy: 0.8821 - val_loss: 0.3135 - val_accuracy: 0.8782\n",
      "Epoch 11/15\n",
      "1000/1000 [==============================] - 367s 368ms/step - loss: 0.3044 - accuracy: 0.8823 - val_loss: 0.3123 - val_accuracy: 0.8787\n",
      "Epoch 12/15\n",
      "1000/1000 [==============================] - 368s 368ms/step - loss: 0.3034 - accuracy: 0.8825 - val_loss: 0.3117 - val_accuracy: 0.8782\n",
      "Epoch 13/15\n",
      "1000/1000 [==============================] - 365s 365ms/step - loss: 0.3027 - accuracy: 0.8824 - val_loss: 0.3113 - val_accuracy: 0.8792\n",
      "Epoch 14/15\n",
      "1000/1000 [==============================] - 359s 359ms/step - loss: 0.3019 - accuracy: 0.8827 - val_loss: 0.3102 - val_accuracy: 0.8792\n",
      "Epoch 15/15\n",
      "1000/1000 [==============================] - 365s 365ms/step - loss: 0.3013 - accuracy: 0.8825 - val_loss: 0.3099 - val_accuracy: 0.8790\n"
     ]
    }
   ],
   "source": [
    "history = model.fit(X_train_padded, y_train.ravel(), epochs=15, batch_size=128, verbose=1, validation_split=0.2)"
   ]
  },
  {
   "cell_type": "code",
   "execution_count": 4,
   "id": "57984f10",
   "metadata": {},
   "outputs": [],
   "source": [
    "# # Add 10 more epochs to the existing history\n",
    "# extended_history = model.fit(X_train_padded, y_train.ravel(), epochs=20, batch_size=128, verbose=1, validation_split=0.2)\n",
    "\n",
    "# # Combine the histories\n",
    "# combined_history = {}\n",
    "# combined_history['loss'] = history.history['loss'] + extended_history.history['loss']\n",
    "# combined_history['accuracy'] = history.history['accuracy'] + extended_history.history['accuracy']\n",
    "# combined_history['val_loss'] = history.history['val_loss'] + extended_history.history['val_loss']\n",
    "# combined_history['val_accuracy'] = history.history['val_accuracy'] + extended_history.history['val_accuracy']"
   ]
  },
  {
   "cell_type": "code",
   "execution_count": 37,
   "id": "019018df",
   "metadata": {},
   "outputs": [
    {
     "name": "stdout",
     "output_type": "stream",
     "text": [
      "1249/1249 [==============================] - 138s 111ms/step - loss: 0.3222 - accuracy: 0.8735\n"
     ]
    }
   ],
   "source": [
    "_, accuracy  = model.evaluate(X_test_padded, y_test.ravel(), verbose=1)"
   ]
  },
  {
   "cell_type": "code",
   "execution_count": 38,
   "id": "0c5c0431",
   "metadata": {},
   "outputs": [],
   "source": [
    "model.save('fasttext_model.h5')"
   ]
  },
  {
   "cell_type": "code",
   "execution_count": 7,
   "id": "d975f374",
   "metadata": {},
   "outputs": [],
   "source": [
    "# import pickle\n",
    "\n",
    "# # Save the history object to a file\n",
    "# with open('history_w2v.pkl', 'wb') as file:\n",
    "#     pickle.dump(history.history, file)"
   ]
  },
  {
   "cell_type": "markdown",
   "id": "3acdf95d",
   "metadata": {},
   "source": [
    "### Possible improvment"
   ]
  },
  {
   "cell_type": "code",
   "execution_count": 28,
   "id": "0309e4a0",
   "metadata": {},
   "outputs": [],
   "source": [
    "# Stack multiple recurrent layers:\n",
    "model1 = tf.keras.models.Sequential([\n",
    "    tf.keras.layers.Embedding(vocab_size, embedding_dim, weights=[embedding_matrix], trainable=False, mask_zero=True),\n",
    "    tf.keras.layers.LSTM(128, return_sequences=True),  # This LSTM will return sequences\n",
    "    tf.keras.layers.LSTM(64),  # This LSTM will return the last output only\n",
    "    tf.keras.layers.Dense(1, activation='sigmoid')\n",
    "])\n",
    "\n",
    "model1.compile(loss='binary_crossentropy', \n",
    "               optimizer='adam', \n",
    "               metrics=['accuracy'])"
   ]
  },
  {
   "cell_type": "code",
   "execution_count": 29,
   "id": "05a016c3",
   "metadata": {},
   "outputs": [
    {
     "name": "stdout",
     "output_type": "stream",
     "text": [
      "Epoch 1/15\n",
      "1000/1000 [==============================] - 693s 685ms/step - loss: 0.3158 - accuracy: 0.8771 - val_loss: 0.3077 - val_accuracy: 0.8809\n",
      "Epoch 2/15\n",
      "1000/1000 [==============================] - 674s 674ms/step - loss: 0.2912 - accuracy: 0.8834 - val_loss: 0.3014 - val_accuracy: 0.8797\n",
      "Epoch 3/15\n",
      "1000/1000 [==============================] - 654s 654ms/step - loss: 0.2866 - accuracy: 0.8841 - val_loss: 0.2967 - val_accuracy: 0.8824\n",
      "Epoch 4/15\n",
      "1000/1000 [==============================] - 646s 646ms/step - loss: 0.2838 - accuracy: 0.8853 - val_loss: 0.2927 - val_accuracy: 0.8819\n",
      "Epoch 5/15\n",
      "1000/1000 [==============================] - 657s 657ms/step - loss: 0.2822 - accuracy: 0.8855 - val_loss: 0.2925 - val_accuracy: 0.8821\n",
      "Epoch 6/15\n",
      "1000/1000 [==============================] - 652s 652ms/step - loss: 0.2814 - accuracy: 0.8862 - val_loss: 0.2891 - val_accuracy: 0.8838\n",
      "Epoch 7/15\n",
      "1000/1000 [==============================] - 658s 658ms/step - loss: 0.2801 - accuracy: 0.8862 - val_loss: 0.2917 - val_accuracy: 0.8838\n",
      "Epoch 8/15\n",
      "1000/1000 [==============================] - 647s 647ms/step - loss: 0.2789 - accuracy: 0.8868 - val_loss: 0.2884 - val_accuracy: 0.8854\n",
      "Epoch 9/15\n",
      "1000/1000 [==============================] - 641s 641ms/step - loss: 0.2777 - accuracy: 0.8877 - val_loss: 0.2896 - val_accuracy: 0.8850\n",
      "Epoch 10/15\n",
      "1000/1000 [==============================] - 652s 652ms/step - loss: 0.2769 - accuracy: 0.8872 - val_loss: 0.2880 - val_accuracy: 0.8847\n",
      "Epoch 11/15\n",
      "1000/1000 [==============================] - 655s 655ms/step - loss: 0.2758 - accuracy: 0.8881 - val_loss: 0.2867 - val_accuracy: 0.8848\n",
      "Epoch 12/15\n",
      "1000/1000 [==============================] - 663s 664ms/step - loss: 0.2751 - accuracy: 0.8884 - val_loss: 0.2869 - val_accuracy: 0.8850\n",
      "Epoch 13/15\n",
      "1000/1000 [==============================] - 662s 662ms/step - loss: 0.2743 - accuracy: 0.8887 - val_loss: 0.2891 - val_accuracy: 0.8844\n",
      "Epoch 14/15\n",
      "1000/1000 [==============================] - 659s 659ms/step - loss: 0.2733 - accuracy: 0.8892 - val_loss: 0.2876 - val_accuracy: 0.8852\n",
      "Epoch 15/15\n",
      "1000/1000 [==============================] - 657s 657ms/step - loss: 0.2725 - accuracy: 0.8897 - val_loss: 0.2871 - val_accuracy: 0.8853\n"
     ]
    }
   ],
   "source": [
    "history1 = model1.fit(X_train_padded, y_train.ravel(), epochs=15, batch_size=128, verbose=1, validation_split=0.2)"
   ]
  },
  {
   "cell_type": "code",
   "execution_count": 31,
   "id": "87550df2",
   "metadata": {},
   "outputs": [],
   "source": [
    "model1.save('fasttext_model_2layers.h5')"
   ]
  },
  {
   "cell_type": "code",
   "execution_count": 33,
   "id": "6fb56d20",
   "metadata": {},
   "outputs": [],
   "source": [
    "import pickle\n",
    "\n",
    "# After training the model and obtaining the `history1` object\n",
    "history_file = 'history1.pkl'\n",
    "with open(history_file, 'wb') as file:\n",
    "    pickle.dump(history1.history, file)"
   ]
  },
  {
   "cell_type": "code",
   "execution_count": null,
   "id": "6116db1d",
   "metadata": {},
   "outputs": [],
   "source": [
    "# import pickle\n",
    "\n",
    "# history_file = 'history1.pkl'\n",
    "# with open(history_file, 'rb') as file:\n",
    "#     loaded_history1 = pickle.load(file)\n"
   ]
  },
  {
   "cell_type": "code",
   "execution_count": 30,
   "id": "d193289b",
   "metadata": {},
   "outputs": [
    {
     "name": "stdout",
     "output_type": "stream",
     "text": [
      "Epoch 1/15\n",
      "1000/1000 [==============================] - 712s 704ms/step - loss: 0.3166 - accuracy: 0.8776 - val_loss: 0.2999 - val_accuracy: 0.8802\n",
      "Epoch 2/15\n",
      "1000/1000 [==============================] - 663s 663ms/step - loss: 0.3001 - accuracy: 0.8807 - val_loss: 0.3041 - val_accuracy: 0.8811\n",
      "Epoch 3/15\n",
      "1000/1000 [==============================] - 664s 665ms/step - loss: 0.2891 - accuracy: 0.8839 - val_loss: 0.2932 - val_accuracy: 0.8828\n",
      "Epoch 4/15\n",
      "1000/1000 [==============================] - 664s 665ms/step - loss: 0.2869 - accuracy: 0.8847 - val_loss: 0.2977 - val_accuracy: 0.8791\n",
      "Epoch 5/15\n",
      "1000/1000 [==============================] - 668s 668ms/step - loss: 0.2853 - accuracy: 0.8851 - val_loss: 0.2941 - val_accuracy: 0.8811\n",
      "Epoch 6/15\n",
      "1000/1000 [==============================] - 665s 665ms/step - loss: 0.2832 - accuracy: 0.8856 - val_loss: 0.2899 - val_accuracy: 0.8837\n",
      "Epoch 7/15\n",
      "1000/1000 [==============================] - 666s 666ms/step - loss: 0.2823 - accuracy: 0.8858 - val_loss: 0.2891 - val_accuracy: 0.8842\n",
      "Epoch 8/15\n",
      "1000/1000 [==============================] - 667s 667ms/step - loss: 0.2814 - accuracy: 0.8860 - val_loss: 0.2924 - val_accuracy: 0.8822\n",
      "Epoch 9/15\n",
      "1000/1000 [==============================] - 666s 666ms/step - loss: 0.2818 - accuracy: 0.8859 - val_loss: 0.2894 - val_accuracy: 0.8837\n",
      "Epoch 10/15\n",
      "1000/1000 [==============================] - 665s 665ms/step - loss: 0.2799 - accuracy: 0.8869 - val_loss: 0.2885 - val_accuracy: 0.8837\n",
      "Epoch 11/15\n",
      "1000/1000 [==============================] - 674s 674ms/step - loss: 0.2789 - accuracy: 0.8875 - val_loss: 0.2889 - val_accuracy: 0.8837\n",
      "Epoch 12/15\n",
      "1000/1000 [==============================] - 675s 675ms/step - loss: 0.2786 - accuracy: 0.8870 - val_loss: 0.2925 - val_accuracy: 0.8811\n",
      "Epoch 13/15\n",
      "1000/1000 [==============================] - 669s 669ms/step - loss: 0.2783 - accuracy: 0.8871 - val_loss: 0.2891 - val_accuracy: 0.8830\n",
      "Epoch 14/15\n",
      "1000/1000 [==============================] - 670s 670ms/step - loss: 0.2780 - accuracy: 0.8871 - val_loss: 0.2882 - val_accuracy: 0.8842\n",
      "Epoch 15/15\n",
      "1000/1000 [==============================] - 671s 671ms/step - loss: 0.2765 - accuracy: 0.8878 - val_loss: 0.2872 - val_accuracy: 0.8842\n"
     ]
    }
   ],
   "source": [
    "model2 = tf.keras.models.Sequential([\n",
    "    tf.keras.layers.Embedding(vocab_size, embedding_dim, weights=[embedding_matrix], trainable=False, mask_zero=True),\n",
    "    tf.keras.layers.LSTM(128, return_sequences=True),  # This LSTM will return sequences\n",
    "    tf.keras.layers.Dropout(0.2),  # Add dropout layer with dropout rate of 0.2\n",
    "    tf.keras.layers.LSTM(64),  # This LSTM will return the last output only\n",
    "    tf.keras.layers.Dropout(0.2),  # Add another dropout layer\n",
    "    tf.keras.layers.Dense(1, activation='sigmoid')\n",
    "])\n",
    "model2.compile(loss='binary_crossentropy', \n",
    "               optimizer='adam', \n",
    "               metrics=['accuracy'])\n",
    "history2 = model2.fit(X_train_padded, y_train.ravel(), epochs=15, batch_size=128, verbose=1, validation_split=0.2)"
   ]
  },
  {
   "cell_type": "code",
   "execution_count": 32,
   "id": "2bb838d3",
   "metadata": {},
   "outputs": [],
   "source": [
    "model2.save('fasttext_model_2landDropout.h5')"
   ]
  },
  {
   "cell_type": "code",
   "execution_count": 34,
   "id": "dd38c40e",
   "metadata": {},
   "outputs": [],
   "source": [
    "import pickle\n",
    "\n",
    "# After training the model and obtaining the `history1` object\n",
    "history_file = 'history2.pkl'\n",
    "with open(history_file, 'wb') as file:\n",
    "    pickle.dump(history1.history, file)"
   ]
  },
  {
   "cell_type": "code",
   "execution_count": null,
   "id": "847e51f9",
   "metadata": {},
   "outputs": [],
   "source": [
    "# different optimizers\n",
    "optimizer = tf.keras.optimizers.SGD(learning_rate=1e-5)\n",
    "model.compile(loss='binary_crossentropy', optimizer=optimizer, metrics=['accuracy'])\n"
   ]
  },
  {
   "cell_type": "code",
   "execution_count": null,
   "id": "8ccf7231",
   "metadata": {},
   "outputs": [],
   "source": [
    "# hyperparameters tuning including:\n",
    "\n",
    "# The number of LSTM units (64, 128, 256, 512)\n",
    "# The activation function ('tanh', 'relu')\n",
    "# The recurrent activation function ('sigmoid', 'hard_sigmoid')\n",
    "model = tf.keras.models.Sequential([\n",
    "    tf.keras.layers.Embedding(vocab_size, embedding_dim, weights=[embedding_matrix], trainable=False, mask_zero=True),\n",
    "    tf.keras.layers.LSTM(256, return_sequences=True, activation='tanh', recurrent_activation='hard_sigmoid'),  # First LSTM layer\n",
    "    tf.keras.layers.LSTM(512, activation='relu', recurrent_activation='sigmoid'),  # Second LSTM layer\n",
    "    tf.keras.layers.Dense(1, activation='sigmoid')\n",
    "])"
   ]
  },
  {
   "cell_type": "markdown",
   "id": "f15e1d49",
   "metadata": {},
   "source": [
    "### MODEL3"
   ]
  },
  {
   "cell_type": "code",
   "execution_count": 23,
   "id": "f44c5d6d",
   "metadata": {},
   "outputs": [
    {
     "name": "stdout",
     "output_type": "stream",
     "text": [
      "Epoch 1/15\n",
      "1000/1000 [==============================] - 618s 614ms/step - loss: 0.5816 - accuracy: 0.6735 - val_loss: 0.3466 - val_accuracy: 0.8668\n",
      "Epoch 2/15\n",
      "1000/1000 [==============================] - 635s 635ms/step - loss: 0.3168 - accuracy: 0.8788 - val_loss: 0.3118 - val_accuracy: 0.8818\n",
      "Epoch 3/15\n",
      "1000/1000 [==============================] - 611s 611ms/step - loss: 0.2709 - accuracy: 0.8965 - val_loss: 0.3093 - val_accuracy: 0.8801\n",
      "Epoch 4/15\n",
      "1000/1000 [==============================] - 614s 614ms/step - loss: 0.2398 - accuracy: 0.9076 - val_loss: 0.3173 - val_accuracy: 0.8750\n",
      "Epoch 5/15\n",
      "1000/1000 [==============================] - 627s 627ms/step - loss: 0.2152 - accuracy: 0.9170 - val_loss: 0.3378 - val_accuracy: 0.8726\n",
      "Epoch 6/15\n",
      "1000/1000 [==============================] - 624s 624ms/step - loss: 0.1927 - accuracy: 0.9256 - val_loss: 0.3476 - val_accuracy: 0.8716\n",
      "Epoch 7/15\n",
      "1000/1000 [==============================] - 628s 628ms/step - loss: 0.1735 - accuracy: 0.9323 - val_loss: 0.3787 - val_accuracy: 0.8684\n",
      "Epoch 8/15\n",
      "1000/1000 [==============================] - 634s 634ms/step - loss: 0.1574 - accuracy: 0.9392 - val_loss: 0.4161 - val_accuracy: 0.8655\n",
      "Epoch 9/15\n",
      "1000/1000 [==============================] - 627s 627ms/step - loss: 0.1448 - accuracy: 0.9441 - val_loss: 0.4241 - val_accuracy: 0.8653\n",
      "Epoch 10/15\n",
      "1000/1000 [==============================] - 646s 646ms/step - loss: 0.1320 - accuracy: 0.9486 - val_loss: 0.4823 - val_accuracy: 0.8604\n",
      "Epoch 11/15\n",
      "1000/1000 [==============================] - 646s 646ms/step - loss: 0.1228 - accuracy: 0.9521 - val_loss: 0.5120 - val_accuracy: 0.8577\n",
      "Epoch 12/15\n",
      "1000/1000 [==============================] - 644s 644ms/step - loss: 0.1148 - accuracy: 0.9549 - val_loss: 0.5257 - val_accuracy: 0.8576\n",
      "Epoch 13/15\n",
      "1000/1000 [==============================] - 646s 646ms/step - loss: 0.1055 - accuracy: 0.9584 - val_loss: 0.5881 - val_accuracy: 0.8564\n",
      "Epoch 14/15\n",
      "1000/1000 [==============================] - 642s 642ms/step - loss: 0.1005 - accuracy: 0.9607 - val_loss: 0.5800 - val_accuracy: 0.8517\n",
      "Epoch 15/15\n",
      "1000/1000 [==============================] - 636s 636ms/step - loss: 0.0962 - accuracy: 0.9624 - val_loss: 0.5933 - val_accuracy: 0.8568\n"
     ]
    }
   ],
   "source": [
    "model3 = tf.keras.models.Sequential([\n",
    "    tf.keras.layers.Embedding(vocab_size, WORD_VEC_SIZE, input_length=X_train_padded.shape[1]),\n",
    "    tf.keras.layers.LSTM(128, return_sequences=True),  # This LSTM will return sequences\n",
    "    tf.keras.layers.Dropout(0.2),  # Add dropout layer with dropout rate of 0.2\n",
    "    tf.keras.layers.LSTM(64),  # This LSTM will return the last output only\n",
    "    tf.keras.layers.Dropout(0.2),  # Add another dropout layer\n",
    "    tf.keras.layers.Dense(1, activation='sigmoid')\n",
    "])\n",
    "model3.compile(loss='binary_crossentropy', \n",
    "               optimizer='adam', \n",
    "               metrics=['accuracy'])\n",
    "history3 = model3.fit(X_train_padded, y_train.ravel(), epochs=15, batch_size=128, verbose=1, validation_split=0.2)"
   ]
  },
  {
   "cell_type": "code",
   "execution_count": 5,
   "id": "c6714516",
   "metadata": {},
   "outputs": [
    {
     "name": "stdout",
     "output_type": "stream",
     "text": [
      "[]\n"
     ]
    }
   ],
   "source": [
    "import tensorflow as tf\n",
    "print(tf.config.list_physical_devices('GPU'))"
   ]
  },
  {
   "cell_type": "code",
   "execution_count": 6,
   "id": "24aadbba",
   "metadata": {},
   "outputs": [
    {
     "name": "stdout",
     "output_type": "stream",
     "text": [
      "TensorFlow version: 2.10.0\n"
     ]
    }
   ],
   "source": [
    "print(\"TensorFlow version:\", tf.__version__)"
   ]
  },
  {
   "cell_type": "code",
   "execution_count": 11,
   "id": "8268c836",
   "metadata": {},
   "outputs": [
    {
     "data": {
      "text/plain": [
       "False"
      ]
     },
     "execution_count": 11,
     "metadata": {},
     "output_type": "execute_result"
    }
   ],
   "source": [
    "tf.test.is_built_with_cuda()"
   ]
  },
  {
   "cell_type": "code",
   "execution_count": 4,
   "id": "13242f6b",
   "metadata": {},
   "outputs": [
    {
     "name": "stdout",
     "output_type": "stream",
     "text": [
      "WARNING:tensorflow:From C:\\Users\\super\\AppData\\Local\\Temp\\1\\ipykernel_27096\\2440792694.py:1: is_gpu_available (from tensorflow.python.framework.test_util) is deprecated and will be removed in a future version.\n",
      "Instructions for updating:\n",
      "Use `tf.config.list_physical_devices('GPU')` instead.\n"
     ]
    },
    {
     "data": {
      "text/plain": [
       "False"
      ]
     },
     "execution_count": 4,
     "metadata": {},
     "output_type": "execute_result"
    }
   ],
   "source": [
    "tf.test.is_gpu_available(cuda_only = False, min_cuda_compute_capability = None)"
   ]
  },
  {
   "cell_type": "code",
   "execution_count": null,
   "id": "97fd5184",
   "metadata": {},
   "outputs": [
    {
     "name": "stdout",
     "output_type": "stream",
     "text": [
      "Epoch 1/15\n",
      "  26/1000 [..............................] - ETA: 1:14:37 - loss: 0.6902 - accuracy: 0.5472"
     ]
    }
   ],
   "source": [
    "model4 = tf.keras.models.Sequential([\n",
    "    tf.keras.layers.Embedding(vocab_size, WORD_VEC_SIZE, input_length=X_train_padded.shape[1]),\n",
    "    tf.keras.layers.LSTM(256, return_sequences=True, activation='tanh', recurrent_activation='sigmoid', dropout=0),  # First LSTM layer\n",
    "    tf.keras.layers.Dropout(0.2),  # Add another dropout layer\n",
    "    tf.keras.layers.LSTM(512, activation='tanh', recurrent_activation='sigmoid', dropout=0),  # Second LSTM layer\n",
    "    tf.keras.layers.Dropout(0.2),  # Add another dropout layer\n",
    "    tf.keras.layers.Dense(1, activation='sigmoid')\n",
    "])\n",
    "model4.compile(loss='binary_crossentropy', \n",
    "               optimizer='adam', \n",
    "               metrics=['accuracy'])\n",
    "history4 = model4.fit(X_train_padded, y_train.ravel(), epochs=15, batch_size=128, verbose=1, validation_split=0.2)"
   ]
  },
  {
   "cell_type": "code",
   "execution_count": 52,
   "id": "b364cfc2",
   "metadata": {},
   "outputs": [],
   "source": [
    "def build_model_simple(embedding_matrix):\n",
    "    \"\"\"\n",
    "    Build the LSTM model.\n",
    "    \n",
    "    :param embedding_matrix: a matrix with the corresponding embedding of all words.\n",
    "    :return: the created LSTM model.\n",
    "    \"\"\"\n",
    "    # Input layer.\n",
    "    inp = tf.keras.layers.Input(shape=(MAX_LEN,), name=\"input\")\n",
    "\n",
    "    # Add embedding layer.\n",
    "    x = tf.keras.layers.Embedding(vocab_size, WORD_VEC_SIZE, \n",
    "                                  weights=[embedding_matrix], \n",
    "                                  trainable=False)(inp)\n",
    "\n",
    "    # Add LSTM layer.\n",
    "    x = tf.keras.layers.LSTM(128)(x)\n",
    "    x = tf.keras.layers.Dropout(0.5)(x)\n",
    "\n",
    "    # Output layer.\n",
    "    x = tf.keras.layers.Dense(1, activation='sigmoid', name=\"output\")(x)\n",
    "    \n",
    "    model = tf.keras.models.Model(inputs=inp, outputs=x)\n",
    "    \n",
    "    model.compile(loss='categorical_crossentropy', \n",
    "                  optimizer='rmsprop', \n",
    "                  metrics=['acc'])\n",
    "                  \n",
    "    return model"
   ]
  },
  {
   "cell_type": "code",
   "execution_count": 53,
   "id": "1238d939",
   "metadata": {},
   "outputs": [],
   "source": [
    "model0 = build_model_simple(embedding_matrix)"
   ]
  },
  {
   "cell_type": "code",
   "execution_count": 54,
   "id": "86674a3b",
   "metadata": {},
   "outputs": [],
   "source": [
    "model0.compile(loss='binary_crossentropy', optimizer='adam', metrics=['accuracy'])"
   ]
  },
  {
   "cell_type": "code",
   "execution_count": 55,
   "id": "6d5231d4",
   "metadata": {},
   "outputs": [
    {
     "name": "stdout",
     "output_type": "stream",
     "text": [
      "Epoch 1/15\n",
      "1000/1000 [==============================] - 676s 673ms/step - loss: 0.4124 - accuracy: 0.8478 - val_loss: 0.3864 - val_accuracy: 0.8559\n",
      "Epoch 2/15\n",
      "1000/1000 [==============================] - 695s 695ms/step - loss: 0.5349 - accuracy: 0.7125 - val_loss: 0.3726 - val_accuracy: 0.8646\n",
      "Epoch 3/15\n",
      "1000/1000 [==============================] - 709s 709ms/step - loss: 0.5078 - accuracy: 0.7318 - val_loss: 0.6583 - val_accuracy: 0.6312\n",
      "Epoch 4/15\n",
      "1000/1000 [==============================] - 690s 690ms/step - loss: 0.3783 - accuracy: 0.8462 - val_loss: 0.3266 - val_accuracy: 0.8773\n",
      "Epoch 5/15\n",
      "1000/1000 [==============================] - 647s 647ms/step - loss: 0.3077 - accuracy: 0.8783 - val_loss: 0.3002 - val_accuracy: 0.8802\n",
      "Epoch 6/15\n",
      "1000/1000 [==============================] - 656s 656ms/step - loss: 0.2993 - accuracy: 0.8809 - val_loss: 0.3107 - val_accuracy: 0.8740\n",
      "Epoch 7/15\n",
      "1000/1000 [==============================] - 619s 619ms/step - loss: 0.2953 - accuracy: 0.8817 - val_loss: 0.2989 - val_accuracy: 0.8801\n",
      "Epoch 8/15\n",
      "1000/1000 [==============================] - 621s 621ms/step - loss: 0.2935 - accuracy: 0.8826 - val_loss: 0.2962 - val_accuracy: 0.8815\n",
      "Epoch 9/15\n",
      "1000/1000 [==============================] - 595s 596ms/step - loss: 0.2912 - accuracy: 0.8833 - val_loss: 0.2948 - val_accuracy: 0.8817\n",
      "Epoch 10/15\n",
      "1000/1000 [==============================] - 586s 586ms/step - loss: 0.2902 - accuracy: 0.8837 - val_loss: 0.2944 - val_accuracy: 0.8820\n",
      "Epoch 11/15\n",
      "1000/1000 [==============================] - 583s 583ms/step - loss: 0.2887 - accuracy: 0.8838 - val_loss: 0.2958 - val_accuracy: 0.8817\n",
      "Epoch 12/15\n",
      "1000/1000 [==============================] - 583s 583ms/step - loss: 0.2918 - accuracy: 0.8829 - val_loss: 0.2948 - val_accuracy: 0.8816\n",
      "Epoch 13/15\n",
      "1000/1000 [==============================] - 588s 589ms/step - loss: 0.2862 - accuracy: 0.8847 - val_loss: 0.2944 - val_accuracy: 0.8822\n",
      "Epoch 14/15\n",
      "1000/1000 [==============================] - 595s 595ms/step - loss: 0.2856 - accuracy: 0.8849 - val_loss: 0.2920 - val_accuracy: 0.8826\n",
      "Epoch 15/15\n",
      "1000/1000 [==============================] - 664s 664ms/step - loss: 0.2848 - accuracy: 0.8847 - val_loss: 0.2927 - val_accuracy: 0.8833\n"
     ]
    }
   ],
   "source": [
    "history0 = model0.fit(X_train_padded, y_train.ravel(), epochs=15, batch_size=128, verbose=1, validation_split=0.2)"
   ]
  },
  {
   "cell_type": "code",
   "execution_count": 29,
   "id": "0864d9bd",
   "metadata": {},
   "outputs": [
    {
     "name": "stdout",
     "output_type": "stream",
     "text": [
      "Epoch 1/15\n",
      "1000/1000 [==============================] - 451s 448ms/step - loss: 0.6155 - accuracy: 0.6528 - val_loss: 0.4276 - val_accuracy: 0.8307\n",
      "Epoch 2/15\n",
      "1000/1000 [==============================] - 485s 485ms/step - loss: 0.3322 - accuracy: 0.8727 - val_loss: 0.3115 - val_accuracy: 0.8797\n",
      "Epoch 3/15\n",
      "1000/1000 [==============================] - 489s 489ms/step - loss: 0.2780 - accuracy: 0.8932 - val_loss: 0.3126 - val_accuracy: 0.8775\n",
      "Epoch 4/15\n",
      "1000/1000 [==============================] - 472s 472ms/step - loss: 0.2450 - accuracy: 0.9044 - val_loss: 0.3110 - val_accuracy: 0.8832\n",
      "Epoch 5/15\n",
      "1000/1000 [==============================] - 471s 471ms/step - loss: 0.2182 - accuracy: 0.9149 - val_loss: 0.3357 - val_accuracy: 0.8723\n",
      "Epoch 6/15\n",
      "1000/1000 [==============================] - 476s 476ms/step - loss: 0.1959 - accuracy: 0.9233 - val_loss: 0.3510 - val_accuracy: 0.8734\n",
      "Epoch 7/15\n",
      "1000/1000 [==============================] - 475s 475ms/step - loss: 0.1779 - accuracy: 0.9304 - val_loss: 0.3787 - val_accuracy: 0.8685\n",
      "Epoch 8/15\n",
      "1000/1000 [==============================] - 476s 476ms/step - loss: 0.1616 - accuracy: 0.9372 - val_loss: 0.4058 - val_accuracy: 0.8683\n",
      "Epoch 9/15\n",
      "1000/1000 [==============================] - 461s 461ms/step - loss: 0.1501 - accuracy: 0.9416 - val_loss: 0.4294 - val_accuracy: 0.8616\n",
      "Epoch 10/15\n",
      "1000/1000 [==============================] - 470s 470ms/step - loss: 0.1391 - accuracy: 0.9460 - val_loss: 0.4576 - val_accuracy: 0.8587\n",
      "Epoch 11/15\n",
      "1000/1000 [==============================] - 473s 473ms/step - loss: 0.1317 - accuracy: 0.9487 - val_loss: 0.4783 - val_accuracy: 0.8606\n",
      "Epoch 12/15\n",
      "1000/1000 [==============================] - 473s 473ms/step - loss: 0.1227 - accuracy: 0.9528 - val_loss: 0.5371 - val_accuracy: 0.8623\n",
      "Epoch 13/15\n",
      "1000/1000 [==============================] - 479s 479ms/step - loss: 0.1123 - accuracy: 0.9560 - val_loss: 0.5359 - val_accuracy: 0.8630\n",
      "Epoch 14/15\n",
      "1000/1000 [==============================] - 480s 480ms/step - loss: 0.1057 - accuracy: 0.9590 - val_loss: 0.5431 - val_accuracy: 0.8625\n",
      "Epoch 15/15\n",
      "1000/1000 [==============================] - 478s 478ms/step - loss: 0.1020 - accuracy: 0.9605 - val_loss: 0.5554 - val_accuracy: 0.8612\n"
     ]
    }
   ],
   "source": [
    "model5 = tf.keras.models.Sequential([\n",
    "    tf.keras.layers.Embedding(vocab_size, WORD_VEC_SIZE, input_length=X_train_padded.shape[1]),\n",
    "    tf.keras.layers.LSTM(32, return_sequences=True),  # This LSTM will return sequences\n",
    "    tf.keras.layers.Dropout(0.2),\n",
    "    tf.keras.layers.LSTM(64),  # This LSTM will return the last output only\n",
    "    tf.keras.layers.Dropout(0.2),\n",
    "    tf.keras.layers.Dense(1, activation='sigmoid')\n",
    "])\n",
    "\n",
    "model5.compile(loss='binary_crossentropy', optimizer='adam', metrics=['accuracy'])\n",
    "history5 = model5.fit(X_train_padded, y_train.ravel(), epochs=15, batch_size=128, verbose=1, validation_split=0.2)\n"
   ]
  },
  {
   "cell_type": "code",
   "execution_count": null,
   "id": "c2055b6d",
   "metadata": {},
   "outputs": [],
   "source": [
    "import pickle\n",
    "\n",
    "# Save the model\n",
    "# model.save(\"LSTM_ontext_results/model.h5\")\n",
    "model0.save(\"LSTM_fasttext/model1.h5\")\n",
    "model2.save(\"LSTM_fasttext/model2.h5\")\n",
    "model4.save(\"LSTM_fasttext/model4.h5\")\n",
    "model5.save(\"LSTM_fasttext/model5.h5\")\n",
    "# # Save the training history\n",
    "# with open(\"LSTM_ontext_results/history.pkl\", \"wb\") as f:\n",
    "#     pickle.dump(history.history, f)\n",
    "    \n",
    "with open(\"LSTM_fasttext/history0.pkl\", \"wb\") as f:\n",
    "    pickle.dump(history1.history, f)\n",
    "    \n",
    "with open(\"LSTM_fasttext/history3.pkl\", \"wb\") as f:\n",
    "    pickle.dump(history2.history, f)\n",
    "\n",
    "with open(\"LSTM_fasttext/history4.pkl\", \"wb\") as f:\n",
    "    pickle.dump(history4.history, f)\n",
    "    \n",
    "\n",
    "with open(\"LSTM_fasttext/history5.pkl\", \"wb\") as f:\n",
    "    pickle.dump(history4.history, f)"
   ]
  },
  {
   "cell_type": "markdown",
   "id": "8e391286",
   "metadata": {},
   "source": [
    "### MODEL3"
   ]
  },
  {
   "cell_type": "code",
   "execution_count": 24,
   "id": "4d0b2eff",
   "metadata": {},
   "outputs": [],
   "source": [
    "def build_model_simple(embedding_matrix):\n",
    "    \"\"\"\n",
    "    Build the LSTM model.\n",
    "    \n",
    "    :param embedding_matrix: a matrix with the corresponding embedding of all words.\n",
    "    :return: the created LSTM model.\n",
    "    \"\"\"\n",
    "    # Input layer.\n",
    "    inp = tf.keras.layers.Input(shape=(MAX_LEN,), name=\"input\")\n",
    "\n",
    "    # Add embedding layer.\n",
    "    x = tf.keras.layers.Embedding(vocab_size, WORD_VEC_SIZE, \n",
    "                                  weights=[embedding_matrix], \n",
    "                                  trainable=False)(inp)\n",
    "\n",
    "    # Add LSTM layer.\n",
    "    x = tf.keras.layers.LSTM(128)(x)\n",
    "    x = tf.keras.layers.Dropout(0.5)(x)\n",
    "\n",
    "    # Output layer.\n",
    "    x = tf.keras.layers.Dense(1, activation='sigmoid', name=\"output\")(x)\n",
    "    \n",
    "    model = tf.keras.models.Model(inputs=inp, outputs=x)\n",
    "    \n",
    "    model.compile(loss='categorical_crossentropy', \n",
    "                  optimizer='rmsprop', \n",
    "                  metrics=['acc'])\n",
    "                  \n",
    "    return model"
   ]
  },
  {
   "cell_type": "code",
   "execution_count": 26,
   "id": "9b0290ef",
   "metadata": {},
   "outputs": [],
   "source": [
    "model0 = build_model_simple(embedding_matrix)\n",
    "model0.compile(loss='binary_crossentropy', optimizer='adam', metrics=['accuracy'])"
   ]
  },
  {
   "cell_type": "code",
   "execution_count": 27,
   "id": "52ea8a08",
   "metadata": {},
   "outputs": [
    {
     "name": "stdout",
     "output_type": "stream",
     "text": [
      "Epoch 1/15\n",
      "1000/1000 [==============================] - 321s 319ms/step - loss: 0.5484 - accuracy: 0.7144 - val_loss: 0.3839 - val_accuracy: 0.8524\n",
      "Epoch 2/15\n",
      "1000/1000 [==============================] - 336s 336ms/step - loss: 0.3351 - accuracy: 0.8722 - val_loss: 0.3046 - val_accuracy: 0.8805\n",
      "Epoch 3/15\n",
      "1000/1000 [==============================] - 340s 340ms/step - loss: 0.3013 - accuracy: 0.8820 - val_loss: 0.3002 - val_accuracy: 0.8814\n",
      "Epoch 4/15\n",
      "1000/1000 [==============================] - 341s 341ms/step - loss: 0.2951 - accuracy: 0.8837 - val_loss: 0.2980 - val_accuracy: 0.8823\n",
      "Epoch 5/15\n",
      "1000/1000 [==============================] - 348s 349ms/step - loss: 0.2920 - accuracy: 0.8844 - val_loss: 0.2958 - val_accuracy: 0.8824\n",
      "Epoch 6/15\n",
      "1000/1000 [==============================] - 351s 351ms/step - loss: 0.2887 - accuracy: 0.8849 - val_loss: 0.2936 - val_accuracy: 0.8832\n",
      "Epoch 7/15\n",
      "1000/1000 [==============================] - 350s 350ms/step - loss: 0.2883 - accuracy: 0.8850 - val_loss: 0.2943 - val_accuracy: 0.8820\n",
      "Epoch 8/15\n",
      "1000/1000 [==============================] - 355s 355ms/step - loss: 0.2865 - accuracy: 0.8856 - val_loss: 0.2953 - val_accuracy: 0.8819\n",
      "Epoch 9/15\n",
      "1000/1000 [==============================] - 357s 357ms/step - loss: 0.2851 - accuracy: 0.8852 - val_loss: 0.2917 - val_accuracy: 0.8837\n",
      "Epoch 10/15\n",
      "1000/1000 [==============================] - 353s 353ms/step - loss: 0.2843 - accuracy: 0.8859 - val_loss: 0.2925 - val_accuracy: 0.8827\n",
      "Epoch 11/15\n",
      "1000/1000 [==============================] - 361s 361ms/step - loss: 0.2828 - accuracy: 0.8868 - val_loss: 0.2925 - val_accuracy: 0.8816\n",
      "Epoch 12/15\n",
      "1000/1000 [==============================] - 354s 355ms/step - loss: 0.2826 - accuracy: 0.8860 - val_loss: 0.2907 - val_accuracy: 0.8841\n",
      "Epoch 13/15\n",
      "1000/1000 [==============================] - 347s 347ms/step - loss: 0.2816 - accuracy: 0.8867 - val_loss: 0.2896 - val_accuracy: 0.8841\n",
      "Epoch 14/15\n",
      "1000/1000 [==============================] - 352s 352ms/step - loss: 0.2813 - accuracy: 0.8870 - val_loss: 0.2896 - val_accuracy: 0.8845\n",
      "Epoch 15/15\n",
      "1000/1000 [==============================] - 356s 356ms/step - loss: 0.2798 - accuracy: 0.8878 - val_loss: 0.2875 - val_accuracy: 0.8844\n"
     ]
    }
   ],
   "source": [
    "history0 = model0.fit(X_train_padded, y_train.ravel(), epochs=15, batch_size=128, verbose=1, validation_split=0.2)"
   ]
  },
  {
   "cell_type": "code",
   "execution_count": 29,
   "id": "fd0d4b42",
   "metadata": {},
   "outputs": [],
   "source": [
    "import pickle\n",
    "\n",
    "# Save the model\n",
    "# model.save(\"LSTM_ontext_results/model.h5\")\n",
    "model0.save(\"LSTM_fasttext/model0.h5\")\n",
    "\n",
    "with open(\"LSTM_fasttext/history0.pkl\", \"wb\") as f:\n",
    "    pickle.dump(history0.history, f)"
   ]
  },
  {
   "cell_type": "code",
   "execution_count": 31,
   "id": "e4a53baa",
   "metadata": {},
   "outputs": [
    {
     "name": "stdout",
     "output_type": "stream",
     "text": [
      "1249/1249 [==============================] - 113s 90ms/step\n"
     ]
    },
    {
     "data": {
      "text/plain": [
       "<Axes: >"
      ]
     },
     "execution_count": 31,
     "metadata": {},
     "output_type": "execute_result"
    },
    {
     "data": {
      "image/png": "[encoded data removed]",
      "text/plain": [
       "<Figure size 640x480 with 2 Axes>"
      ]
     },
     "metadata": {},
     "output_type": "display_data"
    }
   ],
   "source": [
    "from sklearn.metrics import confusion_matrix\n",
    "\n",
    "y_pred = model0.predict(X_test_padded)\n",
    "y_pred_classes = (y_pred > 0.5).astype(int)\n",
    "\n",
    "cm = confusion_matrix(y_test, y_pred_classes)\n",
    "sns.heatmap(cm, annot=True, fmt='d')"
   ]
  },
  {
   "cell_type": "code",
   "execution_count": 32,
   "id": "907c47e2",
   "metadata": {},
   "outputs": [
    {
     "name": "stdout",
     "output_type": "stream",
     "text": [
      "True Positives: 16906\n",
      "True Negatives: 18203\n",
      "False Positives: 1770\n",
      "False Negatives: 3088\n"
     ]
    }
   ],
   "source": [
    "TN, FP, FN, TP = cm.ravel()\n",
    "\n",
    "print(f\"True Positives: {TP}\")\n",
    "print(f\"True Negatives: {TN}\")\n",
    "print(f\"False Positives: {FP}\")\n",
    "print(f\"False Negatives: {FN}\")"
   ]
  },
  {
   "cell_type": "code",
   "execution_count": 33,
   "id": "af7cf4c3",
   "metadata": {},
   "outputs": [
    {
     "name": "stdout",
     "output_type": "stream",
     "text": [
      "Accuracy: 0.8784497210198414\n",
      "Precision: 0.9052259584493467\n",
      "Recall: 0.84555366609983\n",
      "Specificity: 0.9113803634907125\n",
      "F1 Score: 0.8743728988880269\n"
     ]
    }
   ],
   "source": [
    "# Given values\n",
    "true_positives = TP\n",
    "true_negatives = TN\n",
    "false_positives = FP\n",
    "false_negatives = FN\n",
    "\n",
    "# Calculate metrics\n",
    "accuracy = (true_positives + true_negatives) / (true_positives + true_negatives + false_positives + false_negatives)\n",
    "precision = true_positives / (true_positives + false_positives)\n",
    "recall = true_positives / (true_positives + false_negatives)\n",
    "specificity = true_negatives / (true_negatives + false_positives)\n",
    "f1_score = 2 * (precision * recall) / (precision + recall)\n",
    "\n",
    "# Print the calculated metrics\n",
    "print(\"Accuracy:\", accuracy)\n",
    "print(\"Precision:\", precision)\n",
    "print(\"Recall:\", recall)\n",
    "print(\"Specificity:\", specificity)\n",
    "print(\"F1 Score:\", f1_score)"
   ]
  }
 ],
 "metadata": {
  "kernelspec": {
   "display_name": "Python 3 (ipykernel)",
   "language": "python",
   "name": "python3"
  },
  "language_info": {
   "codemirror_mode": {
    "name": "ipython",
    "version": 3
   },
   "file_extension": ".py",
   "mimetype": "text/x-python",
   "name": "python",
   "nbconvert_exporter": "python",
   "pygments_lexer": "ipython3",
   "version": "3.10.9"
  }
 },
 "nbformat": 4,
 "nbformat_minor": 5
}
