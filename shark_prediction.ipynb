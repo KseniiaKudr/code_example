{
 "cells": [
  {
   "cell_type": "code",
   "execution_count": 107,
   "metadata": {},
   "outputs": [],
   "source": [
    "# load data\n",
    "import pandas as pd\n",
    "import numpy as np\n",
    "import matplotlib.pyplot as plt\n"
   ]
  },
  {
   "cell_type": "code",
   "execution_count": 108,
   "metadata": {},
   "outputs": [],
   "source": [
    "df=pd.read_csv(\"sharks.csv\")"
   ]
  },
  {
   "cell_type": "code",
   "execution_count": 109,
   "metadata": {},
   "outputs": [
    {
     "data": {
      "text/html": [
       "<div>\n",
       "<style scoped>\n",
       "    .dataframe tbody tr th:only-of-type {\n",
       "        vertical-align: middle;\n",
       "    }\n",
       "\n",
       "    .dataframe tbody tr th {\n",
       "        vertical-align: top;\n",
       "    }\n",
       "\n",
       "    .dataframe thead th {\n",
       "        text-align: right;\n",
       "    }\n",
       "</style>\n",
       "<table border=\"1\" class=\"dataframe\">\n",
       "  <thead>\n",
       "    <tr style=\"text-align: right;\">\n",
       "      <th></th>\n",
       "      <th>murkiness.level</th>\n",
       "      <th>avg.dolphins.seen.per.day</th>\n",
       "      <th>previous.week.fishing</th>\n",
       "      <th>diversity.of.prey</th>\n",
       "      <th>seals.seen</th>\n",
       "      <th>water.temp</th>\n",
       "      <th>people.previous.day</th>\n",
       "      <th>seagull.density</th>\n",
       "      <th>common.surfboard.colour</th>\n",
       "      <th>overcast.weather</th>\n",
       "      <th>time.of.day</th>\n",
       "      <th>shark</th>\n",
       "      <th>ID</th>\n",
       "    </tr>\n",
       "  </thead>\n",
       "  <tbody>\n",
       "    <tr>\n",
       "      <th>0</th>\n",
       "      <td>13.11</td>\n",
       "      <td>3.421591</td>\n",
       "      <td>0.59601</td>\n",
       "      <td>34.66</td>\n",
       "      <td>6.718047</td>\n",
       "      <td>3.335635</td>\n",
       "      <td>81.0</td>\n",
       "      <td>0.69860</td>\n",
       "      <td>red</td>\n",
       "      <td>0</td>\n",
       "      <td>afternoon</td>\n",
       "      <td>1</td>\n",
       "      <td>245</td>\n",
       "    </tr>\n",
       "    <tr>\n",
       "      <th>1</th>\n",
       "      <td>11.99</td>\n",
       "      <td>2.874611</td>\n",
       "      <td>0.54274</td>\n",
       "      <td>19.39</td>\n",
       "      <td>6.242029</td>\n",
       "      <td>3.127024</td>\n",
       "      <td>49.0</td>\n",
       "      <td>0.62020</td>\n",
       "      <td>orange</td>\n",
       "      <td>0</td>\n",
       "      <td>morning</td>\n",
       "      <td>0</td>\n",
       "      <td>40</td>\n",
       "    </tr>\n",
       "    <tr>\n",
       "      <th>2</th>\n",
       "      <td>12.91</td>\n",
       "      <td>2.827774</td>\n",
       "      <td>0.52377</td>\n",
       "      <td>15.75</td>\n",
       "      <td>6.397929</td>\n",
       "      <td>3.052446</td>\n",
       "      <td>46.0</td>\n",
       "      <td>0.58235</td>\n",
       "      <td>red</td>\n",
       "      <td>0</td>\n",
       "      <td>night</td>\n",
       "      <td>0</td>\n",
       "      <td>424</td>\n",
       "    </tr>\n",
       "    <tr>\n",
       "      <th>3</th>\n",
       "      <td>12.06</td>\n",
       "      <td>2.772961</td>\n",
       "      <td>0.51963</td>\n",
       "      <td>13.25</td>\n",
       "      <td>6.278146</td>\n",
       "      <td>3.114239</td>\n",
       "      <td>43.0</td>\n",
       "      <td>0.57025</td>\n",
       "      <td>red</td>\n",
       "      <td>0</td>\n",
       "      <td>afternoon</td>\n",
       "      <td>1</td>\n",
       "      <td>17</td>\n",
       "    </tr>\n",
       "    <tr>\n",
       "      <th>4</th>\n",
       "      <td>15.06</td>\n",
       "      <td>3.271684</td>\n",
       "      <td>0.58815</td>\n",
       "      <td>47.14</td>\n",
       "      <td>6.932448</td>\n",
       "      <td>3.214831</td>\n",
       "      <td>83.0</td>\n",
       "      <td>0.71150</td>\n",
       "      <td>red</td>\n",
       "      <td>0</td>\n",
       "      <td>morning</td>\n",
       "      <td>1</td>\n",
       "      <td>283</td>\n",
       "    </tr>\n",
       "  </tbody>\n",
       "</table>\n",
       "</div>"
      ],
      "text/plain": [
       "   murkiness.level  avg.dolphins.seen.per.day  previous.week.fishing  \\\n",
       "0            13.11                   3.421591                0.59601   \n",
       "1            11.99                   2.874611                0.54274   \n",
       "2            12.91                   2.827774                0.52377   \n",
       "3            12.06                   2.772961                0.51963   \n",
       "4            15.06                   3.271684                0.58815   \n",
       "\n",
       "   diversity.of.prey  seals.seen  water.temp  people.previous.day  \\\n",
       "0              34.66    6.718047    3.335635                 81.0   \n",
       "1              19.39    6.242029    3.127024                 49.0   \n",
       "2              15.75    6.397929    3.052446                 46.0   \n",
       "3              13.25    6.278146    3.114239                 43.0   \n",
       "4              47.14    6.932448    3.214831                 83.0   \n",
       "\n",
       "   seagull.density common.surfboard.colour  overcast.weather time.of.day  \\\n",
       "0          0.69860                     red                 0   afternoon   \n",
       "1          0.62020                  orange                 0     morning   \n",
       "2          0.58235                     red                 0       night   \n",
       "3          0.57025                     red                 0   afternoon   \n",
       "4          0.71150                     red                 0     morning   \n",
       "\n",
       "   shark   ID  \n",
       "0      1  245  \n",
       "1      0   40  \n",
       "2      0  424  \n",
       "3      1   17  \n",
       "4      1  283  "
      ]
     },
     "execution_count": 109,
     "metadata": {},
     "output_type": "execute_result"
    }
   ],
   "source": [
    "df.head()"
   ]
  },
  {
   "cell_type": "code",
   "execution_count": 110,
   "metadata": {},
   "outputs": [
    {
     "data": {
      "text/plain": [
       "(456, 13)"
      ]
     },
     "execution_count": 110,
     "metadata": {},
     "output_type": "execute_result"
    }
   ],
   "source": [
    "df.shape"
   ]
  },
  {
   "cell_type": "code",
   "execution_count": 111,
   "metadata": {},
   "outputs": [],
   "source": [
    "df1=pd.read_csv(\"sharks.csv\")\n"
   ]
  },
  {
   "cell_type": "code",
   "execution_count": 113,
   "metadata": {},
   "outputs": [
    {
     "data": {
      "text/html": [
       "<div>\n",
       "<style scoped>\n",
       "    .dataframe tbody tr th:only-of-type {\n",
       "        vertical-align: middle;\n",
       "    }\n",
       "\n",
       "    .dataframe tbody tr th {\n",
       "        vertical-align: top;\n",
       "    }\n",
       "\n",
       "    .dataframe thead th {\n",
       "        text-align: right;\n",
       "    }\n",
       "</style>\n",
       "<table border=\"1\" class=\"dataframe\">\n",
       "  <thead>\n",
       "    <tr style=\"text-align: right;\">\n",
       "      <th></th>\n",
       "      <th>murkiness.level</th>\n",
       "      <th>avg.dolphins.seen.per.day</th>\n",
       "      <th>previous.week.fishing</th>\n",
       "      <th>diversity.of.prey</th>\n",
       "      <th>seals.seen</th>\n",
       "      <th>water.temp</th>\n",
       "      <th>people.previous.day</th>\n",
       "      <th>seagull.density</th>\n",
       "      <th>overcast.weather</th>\n",
       "      <th>shark</th>\n",
       "      <th>ID</th>\n",
       "    </tr>\n",
       "  </thead>\n",
       "  <tbody>\n",
       "    <tr>\n",
       "      <th>murkiness.level</th>\n",
       "      <td>1.000000</td>\n",
       "      <td>0.010255</td>\n",
       "      <td>0.012243</td>\n",
       "      <td>-0.009639</td>\n",
       "      <td>0.015894</td>\n",
       "      <td>-0.040875</td>\n",
       "      <td>-0.008686</td>\n",
       "      <td>0.013457</td>\n",
       "      <td>-0.004351</td>\n",
       "      <td>-0.031894</td>\n",
       "      <td>0.025073</td>\n",
       "    </tr>\n",
       "    <tr>\n",
       "      <th>avg.dolphins.seen.per.day</th>\n",
       "      <td>0.010255</td>\n",
       "      <td>1.000000</td>\n",
       "      <td>0.905248</td>\n",
       "      <td>0.637844</td>\n",
       "      <td>0.653907</td>\n",
       "      <td>0.431780</td>\n",
       "      <td>0.678205</td>\n",
       "      <td>0.824831</td>\n",
       "      <td>0.080362</td>\n",
       "      <td>0.564577</td>\n",
       "      <td>0.037660</td>\n",
       "    </tr>\n",
       "    <tr>\n",
       "      <th>previous.week.fishing</th>\n",
       "      <td>0.012243</td>\n",
       "      <td>0.905248</td>\n",
       "      <td>1.000000</td>\n",
       "      <td>0.693742</td>\n",
       "      <td>0.818463</td>\n",
       "      <td>0.468918</td>\n",
       "      <td>0.610326</td>\n",
       "      <td>0.917459</td>\n",
       "      <td>0.073441</td>\n",
       "      <td>0.684050</td>\n",
       "      <td>0.035608</td>\n",
       "    </tr>\n",
       "    <tr>\n",
       "      <th>diversity.of.prey</th>\n",
       "      <td>-0.009639</td>\n",
       "      <td>0.637844</td>\n",
       "      <td>0.693742</td>\n",
       "      <td>1.000000</td>\n",
       "      <td>0.708016</td>\n",
       "      <td>0.135609</td>\n",
       "      <td>0.253840</td>\n",
       "      <td>0.551867</td>\n",
       "      <td>-0.003555</td>\n",
       "      <td>0.501015</td>\n",
       "      <td>0.013810</td>\n",
       "    </tr>\n",
       "    <tr>\n",
       "      <th>seals.seen</th>\n",
       "      <td>0.015894</td>\n",
       "      <td>0.653907</td>\n",
       "      <td>0.818463</td>\n",
       "      <td>0.708016</td>\n",
       "      <td>1.000000</td>\n",
       "      <td>0.218637</td>\n",
       "      <td>0.424020</td>\n",
       "      <td>0.800077</td>\n",
       "      <td>0.029600</td>\n",
       "      <td>0.720805</td>\n",
       "      <td>0.052562</td>\n",
       "    </tr>\n",
       "    <tr>\n",
       "      <th>water.temp</th>\n",
       "      <td>-0.040875</td>\n",
       "      <td>0.431780</td>\n",
       "      <td>0.468918</td>\n",
       "      <td>0.135609</td>\n",
       "      <td>0.218637</td>\n",
       "      <td>1.000000</td>\n",
       "      <td>0.530703</td>\n",
       "      <td>0.554210</td>\n",
       "      <td>0.152494</td>\n",
       "      <td>0.330339</td>\n",
       "      <td>0.059690</td>\n",
       "    </tr>\n",
       "    <tr>\n",
       "      <th>people.previous.day</th>\n",
       "      <td>-0.008686</td>\n",
       "      <td>0.678205</td>\n",
       "      <td>0.610326</td>\n",
       "      <td>0.253840</td>\n",
       "      <td>0.424020</td>\n",
       "      <td>0.530703</td>\n",
       "      <td>1.000000</td>\n",
       "      <td>0.722532</td>\n",
       "      <td>0.280109</td>\n",
       "      <td>0.435961</td>\n",
       "      <td>0.064475</td>\n",
       "    </tr>\n",
       "    <tr>\n",
       "      <th>seagull.density</th>\n",
       "      <td>0.013457</td>\n",
       "      <td>0.824831</td>\n",
       "      <td>0.917459</td>\n",
       "      <td>0.551867</td>\n",
       "      <td>0.800077</td>\n",
       "      <td>0.554210</td>\n",
       "      <td>0.722532</td>\n",
       "      <td>1.000000</td>\n",
       "      <td>0.099585</td>\n",
       "      <td>0.698306</td>\n",
       "      <td>0.052925</td>\n",
       "    </tr>\n",
       "    <tr>\n",
       "      <th>overcast.weather</th>\n",
       "      <td>-0.004351</td>\n",
       "      <td>0.080362</td>\n",
       "      <td>0.073441</td>\n",
       "      <td>-0.003555</td>\n",
       "      <td>0.029600</td>\n",
       "      <td>0.152494</td>\n",
       "      <td>0.280109</td>\n",
       "      <td>0.099585</td>\n",
       "      <td>1.000000</td>\n",
       "      <td>0.086902</td>\n",
       "      <td>0.055968</td>\n",
       "    </tr>\n",
       "    <tr>\n",
       "      <th>shark</th>\n",
       "      <td>-0.031894</td>\n",
       "      <td>0.564577</td>\n",
       "      <td>0.684050</td>\n",
       "      <td>0.501015</td>\n",
       "      <td>0.720805</td>\n",
       "      <td>0.330339</td>\n",
       "      <td>0.435961</td>\n",
       "      <td>0.698306</td>\n",
       "      <td>0.086902</td>\n",
       "      <td>1.000000</td>\n",
       "      <td>0.032291</td>\n",
       "    </tr>\n",
       "    <tr>\n",
       "      <th>ID</th>\n",
       "      <td>0.025073</td>\n",
       "      <td>0.037660</td>\n",
       "      <td>0.035608</td>\n",
       "      <td>0.013810</td>\n",
       "      <td>0.052562</td>\n",
       "      <td>0.059690</td>\n",
       "      <td>0.064475</td>\n",
       "      <td>0.052925</td>\n",
       "      <td>0.055968</td>\n",
       "      <td>0.032291</td>\n",
       "      <td>1.000000</td>\n",
       "    </tr>\n",
       "  </tbody>\n",
       "</table>\n",
       "</div>"
      ],
      "text/plain": [
       "                           murkiness.level  avg.dolphins.seen.per.day  \\\n",
       "murkiness.level                   1.000000                   0.010255   \n",
       "avg.dolphins.seen.per.day         0.010255                   1.000000   \n",
       "previous.week.fishing             0.012243                   0.905248   \n",
       "diversity.of.prey                -0.009639                   0.637844   \n",
       "seals.seen                        0.015894                   0.653907   \n",
       "water.temp                       -0.040875                   0.431780   \n",
       "people.previous.day              -0.008686                   0.678205   \n",
       "seagull.density                   0.013457                   0.824831   \n",
       "overcast.weather                 -0.004351                   0.080362   \n",
       "shark                            -0.031894                   0.564577   \n",
       "ID                                0.025073                   0.037660   \n",
       "\n",
       "                           previous.week.fishing  diversity.of.prey  \\\n",
       "murkiness.level                         0.012243          -0.009639   \n",
       "avg.dolphins.seen.per.day               0.905248           0.637844   \n",
       "previous.week.fishing                   1.000000           0.693742   \n",
       "diversity.of.prey                       0.693742           1.000000   \n",
       "seals.seen                              0.818463           0.708016   \n",
       "water.temp                              0.468918           0.135609   \n",
       "people.previous.day                     0.610326           0.253840   \n",
       "seagull.density                         0.917459           0.551867   \n",
       "overcast.weather                        0.073441          -0.003555   \n",
       "shark                                   0.684050           0.501015   \n",
       "ID                                      0.035608           0.013810   \n",
       "\n",
       "                           seals.seen  water.temp  people.previous.day  \\\n",
       "murkiness.level              0.015894   -0.040875            -0.008686   \n",
       "avg.dolphins.seen.per.day    0.653907    0.431780             0.678205   \n",
       "previous.week.fishing        0.818463    0.468918             0.610326   \n",
       "diversity.of.prey            0.708016    0.135609             0.253840   \n",
       "seals.seen                   1.000000    0.218637             0.424020   \n",
       "water.temp                   0.218637    1.000000             0.530703   \n",
       "people.previous.day          0.424020    0.530703             1.000000   \n",
       "seagull.density              0.800077    0.554210             0.722532   \n",
       "overcast.weather             0.029600    0.152494             0.280109   \n",
       "shark                        0.720805    0.330339             0.435961   \n",
       "ID                           0.052562    0.059690             0.064475   \n",
       "\n",
       "                           seagull.density  overcast.weather     shark  \\\n",
       "murkiness.level                   0.013457         -0.004351 -0.031894   \n",
       "avg.dolphins.seen.per.day         0.824831          0.080362  0.564577   \n",
       "previous.week.fishing             0.917459          0.073441  0.684050   \n",
       "diversity.of.prey                 0.551867         -0.003555  0.501015   \n",
       "seals.seen                        0.800077          0.029600  0.720805   \n",
       "water.temp                        0.554210          0.152494  0.330339   \n",
       "people.previous.day               0.722532          0.280109  0.435961   \n",
       "seagull.density                   1.000000          0.099585  0.698306   \n",
       "overcast.weather                  0.099585          1.000000  0.086902   \n",
       "shark                             0.698306          0.086902  1.000000   \n",
       "ID                                0.052925          0.055968  0.032291   \n",
       "\n",
       "                                 ID  \n",
       "murkiness.level            0.025073  \n",
       "avg.dolphins.seen.per.day  0.037660  \n",
       "previous.week.fishing      0.035608  \n",
       "diversity.of.prey          0.013810  \n",
       "seals.seen                 0.052562  \n",
       "water.temp                 0.059690  \n",
       "people.previous.day        0.064475  \n",
       "seagull.density            0.052925  \n",
       "overcast.weather           0.055968  \n",
       "shark                      0.032291  \n",
       "ID                         1.000000  "
      ]
     },
     "execution_count": 113,
     "metadata": {},
     "output_type": "execute_result"
    }
   ],
   "source": [
    "df1.corr()"
   ]
  },
  {
   "cell_type": "code",
   "execution_count": 114,
   "metadata": {},
   "outputs": [
    {
     "data": {
      "text/plain": [
       "murkiness.level              float64\n",
       "avg.dolphins.seen.per.day    float64\n",
       "previous.week.fishing        float64\n",
       "diversity.of.prey            float64\n",
       "seals.seen                   float64\n",
       "water.temp                   float64\n",
       "people.previous.day          float64\n",
       "seagull.density              float64\n",
       "common.surfboard.colour       object\n",
       "overcast.weather               int64\n",
       "time.of.day                   object\n",
       "shark                          int64\n",
       "ID                             int64\n",
       "dtype: object"
      ]
     },
     "execution_count": 114,
     "metadata": {},
     "output_type": "execute_result"
    }
   ],
   "source": [
    "df.dtypes"
   ]
  },
  {
   "cell_type": "code",
   "execution_count": 115,
   "metadata": {},
   "outputs": [
    {
     "data": {
      "text/html": [
       "<div>\n",
       "<style scoped>\n",
       "    .dataframe tbody tr th:only-of-type {\n",
       "        vertical-align: middle;\n",
       "    }\n",
       "\n",
       "    .dataframe tbody tr th {\n",
       "        vertical-align: top;\n",
       "    }\n",
       "\n",
       "    .dataframe thead th {\n",
       "        text-align: right;\n",
       "    }\n",
       "</style>\n",
       "<table border=\"1\" class=\"dataframe\">\n",
       "  <thead>\n",
       "    <tr style=\"text-align: right;\">\n",
       "      <th></th>\n",
       "      <th>murkiness.level</th>\n",
       "      <th>avg.dolphins.seen.per.day</th>\n",
       "      <th>previous.week.fishing</th>\n",
       "      <th>diversity.of.prey</th>\n",
       "      <th>seals.seen</th>\n",
       "      <th>water.temp</th>\n",
       "      <th>people.previous.day</th>\n",
       "      <th>seagull.density</th>\n",
       "      <th>common.surfboard.colour</th>\n",
       "      <th>overcast.weather</th>\n",
       "      <th>time.of.day</th>\n",
       "      <th>shark</th>\n",
       "      <th>ID</th>\n",
       "    </tr>\n",
       "  </thead>\n",
       "  <tbody>\n",
       "    <tr>\n",
       "      <th>count</th>\n",
       "      <td>456.000000</td>\n",
       "      <td>455.000000</td>\n",
       "      <td>455.000000</td>\n",
       "      <td>455.000000</td>\n",
       "      <td>456.000000</td>\n",
       "      <td>455.000000</td>\n",
       "      <td>453.000000</td>\n",
       "      <td>456.000000</td>\n",
       "      <td>456</td>\n",
       "      <td>456.000000</td>\n",
       "      <td>456</td>\n",
       "      <td>456.000000</td>\n",
       "      <td>456.00000</td>\n",
       "    </tr>\n",
       "    <tr>\n",
       "      <th>unique</th>\n",
       "      <td>NaN</td>\n",
       "      <td>NaN</td>\n",
       "      <td>NaN</td>\n",
       "      <td>NaN</td>\n",
       "      <td>NaN</td>\n",
       "      <td>NaN</td>\n",
       "      <td>NaN</td>\n",
       "      <td>NaN</td>\n",
       "      <td>4</td>\n",
       "      <td>NaN</td>\n",
       "      <td>4</td>\n",
       "      <td>NaN</td>\n",
       "      <td>NaN</td>\n",
       "    </tr>\n",
       "    <tr>\n",
       "      <th>top</th>\n",
       "      <td>NaN</td>\n",
       "      <td>NaN</td>\n",
       "      <td>NaN</td>\n",
       "      <td>NaN</td>\n",
       "      <td>NaN</td>\n",
       "      <td>NaN</td>\n",
       "      <td>NaN</td>\n",
       "      <td>NaN</td>\n",
       "      <td>red</td>\n",
       "      <td>NaN</td>\n",
       "      <td>night</td>\n",
       "      <td>NaN</td>\n",
       "      <td>NaN</td>\n",
       "    </tr>\n",
       "    <tr>\n",
       "      <th>freq</th>\n",
       "      <td>NaN</td>\n",
       "      <td>NaN</td>\n",
       "      <td>NaN</td>\n",
       "      <td>NaN</td>\n",
       "      <td>NaN</td>\n",
       "      <td>NaN</td>\n",
       "      <td>NaN</td>\n",
       "      <td>NaN</td>\n",
       "      <td>216</td>\n",
       "      <td>NaN</td>\n",
       "      <td>172</td>\n",
       "      <td>NaN</td>\n",
       "      <td>NaN</td>\n",
       "    </tr>\n",
       "    <tr>\n",
       "      <th>mean</th>\n",
       "      <td>22.857656</td>\n",
       "      <td>3.010865</td>\n",
       "      <td>0.549480</td>\n",
       "      <td>41.681767</td>\n",
       "      <td>6.623185</td>\n",
       "      <td>3.132817</td>\n",
       "      <td>61.249448</td>\n",
       "      <td>0.613652</td>\n",
       "      <td>NaN</td>\n",
       "      <td>0.004386</td>\n",
       "      <td>NaN</td>\n",
       "      <td>0.368421</td>\n",
       "      <td>228.50000</td>\n",
       "    </tr>\n",
       "    <tr>\n",
       "      <th>std</th>\n",
       "      <td>130.770478</td>\n",
       "      <td>0.317467</td>\n",
       "      <td>0.040428</td>\n",
       "      <td>49.059173</td>\n",
       "      <td>0.563944</td>\n",
       "      <td>0.081336</td>\n",
       "      <td>27.191830</td>\n",
       "      <td>0.067054</td>\n",
       "      <td>NaN</td>\n",
       "      <td>0.066154</td>\n",
       "      <td>NaN</td>\n",
       "      <td>0.482906</td>\n",
       "      <td>131.78012</td>\n",
       "    </tr>\n",
       "    <tr>\n",
       "      <th>min</th>\n",
       "      <td>6.981000</td>\n",
       "      <td>2.718282</td>\n",
       "      <td>0.500000</td>\n",
       "      <td>6.802000</td>\n",
       "      <td>5.221436</td>\n",
       "      <td>2.926373</td>\n",
       "      <td>34.000000</td>\n",
       "      <td>0.500000</td>\n",
       "      <td>NaN</td>\n",
       "      <td>0.000000</td>\n",
       "      <td>NaN</td>\n",
       "      <td>0.000000</td>\n",
       "      <td>1.00000</td>\n",
       "    </tr>\n",
       "    <tr>\n",
       "      <th>25%</th>\n",
       "      <td>11.697500</td>\n",
       "      <td>2.796446</td>\n",
       "      <td>0.519315</td>\n",
       "      <td>17.740000</td>\n",
       "      <td>6.244118</td>\n",
       "      <td>3.076468</td>\n",
       "      <td>45.000000</td>\n",
       "      <td>0.562885</td>\n",
       "      <td>NaN</td>\n",
       "      <td>0.000000</td>\n",
       "      <td>NaN</td>\n",
       "      <td>0.000000</td>\n",
       "      <td>114.75000</td>\n",
       "    </tr>\n",
       "    <tr>\n",
       "      <th>50%</th>\n",
       "      <td>13.275000</td>\n",
       "      <td>2.888364</td>\n",
       "      <td>0.533340</td>\n",
       "      <td>24.600000</td>\n",
       "      <td>6.516562</td>\n",
       "      <td>3.127381</td>\n",
       "      <td>53.000000</td>\n",
       "      <td>0.598840</td>\n",
       "      <td>NaN</td>\n",
       "      <td>0.000000</td>\n",
       "      <td>NaN</td>\n",
       "      <td>0.000000</td>\n",
       "      <td>228.50000</td>\n",
       "    </tr>\n",
       "    <tr>\n",
       "      <th>75%</th>\n",
       "      <td>16.040000</td>\n",
       "      <td>3.123109</td>\n",
       "      <td>0.576595</td>\n",
       "      <td>45.410000</td>\n",
       "      <td>6.989334</td>\n",
       "      <td>3.181002</td>\n",
       "      <td>69.000000</td>\n",
       "      <td>0.661300</td>\n",
       "      <td>NaN</td>\n",
       "      <td>0.000000</td>\n",
       "      <td>NaN</td>\n",
       "      <td>1.000000</td>\n",
       "      <td>342.25000</td>\n",
       "    </tr>\n",
       "    <tr>\n",
       "      <th>max</th>\n",
       "      <td>1990.200000</td>\n",
       "      <td>4.629025</td>\n",
       "      <td>0.701200</td>\n",
       "      <td>542.200000</td>\n",
       "      <td>8.355615</td>\n",
       "      <td>3.487973</td>\n",
       "      <td>267.000000</td>\n",
       "      <td>0.791000</td>\n",
       "      <td>NaN</td>\n",
       "      <td>1.000000</td>\n",
       "      <td>NaN</td>\n",
       "      <td>1.000000</td>\n",
       "      <td>456.00000</td>\n",
       "    </tr>\n",
       "  </tbody>\n",
       "</table>\n",
       "</div>"
      ],
      "text/plain": [
       "        murkiness.level  avg.dolphins.seen.per.day  previous.week.fishing  \\\n",
       "count        456.000000                 455.000000             455.000000   \n",
       "unique              NaN                        NaN                    NaN   \n",
       "top                 NaN                        NaN                    NaN   \n",
       "freq                NaN                        NaN                    NaN   \n",
       "mean          22.857656                   3.010865               0.549480   \n",
       "std          130.770478                   0.317467               0.040428   \n",
       "min            6.981000                   2.718282               0.500000   \n",
       "25%           11.697500                   2.796446               0.519315   \n",
       "50%           13.275000                   2.888364               0.533340   \n",
       "75%           16.040000                   3.123109               0.576595   \n",
       "max         1990.200000                   4.629025               0.701200   \n",
       "\n",
       "        diversity.of.prey  seals.seen  water.temp  people.previous.day  \\\n",
       "count          455.000000  456.000000  455.000000           453.000000   \n",
       "unique                NaN         NaN         NaN                  NaN   \n",
       "top                   NaN         NaN         NaN                  NaN   \n",
       "freq                  NaN         NaN         NaN                  NaN   \n",
       "mean            41.681767    6.623185    3.132817            61.249448   \n",
       "std             49.059173    0.563944    0.081336            27.191830   \n",
       "min              6.802000    5.221436    2.926373            34.000000   \n",
       "25%             17.740000    6.244118    3.076468            45.000000   \n",
       "50%             24.600000    6.516562    3.127381            53.000000   \n",
       "75%             45.410000    6.989334    3.181002            69.000000   \n",
       "max            542.200000    8.355615    3.487973           267.000000   \n",
       "\n",
       "        seagull.density common.surfboard.colour  overcast.weather time.of.day  \\\n",
       "count        456.000000                     456        456.000000         456   \n",
       "unique              NaN                       4               NaN           4   \n",
       "top                 NaN                     red               NaN       night   \n",
       "freq                NaN                     216               NaN         172   \n",
       "mean           0.613652                     NaN          0.004386         NaN   \n",
       "std            0.067054                     NaN          0.066154         NaN   \n",
       "min            0.500000                     NaN          0.000000         NaN   \n",
       "25%            0.562885                     NaN          0.000000         NaN   \n",
       "50%            0.598840                     NaN          0.000000         NaN   \n",
       "75%            0.661300                     NaN          0.000000         NaN   \n",
       "max            0.791000                     NaN          1.000000         NaN   \n",
       "\n",
       "             shark         ID  \n",
       "count   456.000000  456.00000  \n",
       "unique         NaN        NaN  \n",
       "top            NaN        NaN  \n",
       "freq           NaN        NaN  \n",
       "mean      0.368421  228.50000  \n",
       "std       0.482906  131.78012  \n",
       "min       0.000000    1.00000  \n",
       "25%       0.000000  114.75000  \n",
       "50%       0.000000  228.50000  \n",
       "75%       1.000000  342.25000  \n",
       "max       1.000000  456.00000  "
      ]
     },
     "execution_count": 115,
     "metadata": {},
     "output_type": "execute_result"
    }
   ],
   "source": [
    "# data types and summary stats...\n",
    "# \"include=all\" is needed to include all columns, otherwise we'll just get stats for numeric ones\n",
    "# here, we can see that depArr has 4 values (a little suspicous); operation_mode has a mean of 1.0 std (standard deviation) of 0.0, and min/max of 1.0, so it's all 1 value.\n",
    "df.describe(include=\"all\")"
   ]
  },
  {
   "cell_type": "code",
   "execution_count": 116,
   "metadata": {},
   "outputs": [
    {
     "data": {
      "text/plain": [
       "murkiness.level              0\n",
       "avg.dolphins.seen.per.day    1\n",
       "previous.week.fishing        1\n",
       "diversity.of.prey            1\n",
       "seals.seen                   0\n",
       "water.temp                   1\n",
       "people.previous.day          3\n",
       "seagull.density              0\n",
       "common.surfboard.colour      0\n",
       "overcast.weather             0\n",
       "time.of.day                  0\n",
       "shark                        0\n",
       "ID                           0\n",
       "dtype: int64"
      ]
     },
     "execution_count": 116,
     "metadata": {},
     "output_type": "execute_result"
    }
   ],
   "source": [
    "# count the nulls/missing data in each column\n",
    "# not too bad - we might need to fill/delete these rows later\n",
    "df.isnull().sum()"
   ]
  },
  {
   "cell_type": "code",
   "execution_count": 117,
   "metadata": {},
   "outputs": [
    {
     "data": {
      "text/plain": [
       "murkiness.level              0\n",
       "avg.dolphins.seen.per.day    0\n",
       "previous.week.fishing        0\n",
       "diversity.of.prey            0\n",
       "seals.seen                   0\n",
       "water.temp                   0\n",
       "people.previous.day          0\n",
       "seagull.density              0\n",
       "common.surfboard.colour      0\n",
       "overcast.weather             0\n",
       "time.of.day                  0\n",
       "shark                        0\n",
       "ID                           0\n",
       "dtype: int64"
      ]
     },
     "execution_count": 117,
     "metadata": {},
     "output_type": "execute_result"
    }
   ],
   "source": [
    "df = df.dropna()\n",
    "df.isnull().sum()"
   ]
  },
  {
   "cell_type": "code",
   "execution_count": 118,
   "metadata": {},
   "outputs": [
    {
     "data": {
      "text/plain": [
       "array([[<AxesSubplot:title={'center':'murkiness.level'}>,\n",
       "        <AxesSubplot:title={'center':'avg.dolphins.seen.per.day'}>,\n",
       "        <AxesSubplot:title={'center':'previous.week.fishing'}>],\n",
       "       [<AxesSubplot:title={'center':'diversity.of.prey'}>,\n",
       "        <AxesSubplot:title={'center':'seals.seen'}>,\n",
       "        <AxesSubplot:title={'center':'water.temp'}>],\n",
       "       [<AxesSubplot:title={'center':'people.previous.day'}>,\n",
       "        <AxesSubplot:title={'center':'seagull.density'}>,\n",
       "        <AxesSubplot:title={'center':'overcast.weather'}>],\n",
       "       [<AxesSubplot:title={'center':'shark'}>,\n",
       "        <AxesSubplot:title={'center':'ID'}>, <AxesSubplot:>]],\n",
       "      dtype=object)"
      ]
     },
     "execution_count": 118,
     "metadata": {},
     "output_type": "execute_result"
    },
    {
     "data": {
      "image/png": "[encoded data removed]",
      "text/plain": [
       "<Figure size 1080x1440 with 12 Axes>"
      ]
     },
     "metadata": {
      "needs_background": "light"
     },
     "output_type": "display_data"
    }
   ],
   "source": [
    "# Plot distributions...\n",
    "df.hist(figsize = (15,20))"
   ]
  },
  {
   "cell_type": "code",
   "execution_count": null,
   "metadata": {},
   "outputs": [],
   "source": []
  },
  {
   "cell_type": "code",
   "execution_count": 119,
   "metadata": {},
   "outputs": [
    {
     "data": {
      "image/png": "[encoded data removed]",
      "text/plain": [
       "<Figure size 432x432 with 1 Axes>"
      ]
     },
     "metadata": {
      "needs_background": "light"
     },
     "output_type": "display_data"
    }
   ],
   "source": [
    "df['ID'].value_counts(ascending=True).plot(figsize = (6,6), kind='bar')\n",
    "plt.xlabel('ID')\n",
    "plt.ylabel('Frequency')\n",
    "plt.show()"
   ]
  },
  {
   "cell_type": "code",
   "execution_count": 120,
   "metadata": {},
   "outputs": [
    {
     "data": {
      "text/plain": [
       "<AxesSubplot:>"
      ]
     },
     "execution_count": 120,
     "metadata": {},
     "output_type": "execute_result"
    },
    {
     "data": {
      "image/png": "[encoded data removed]",
      "text/plain": [
       "<Figure size 432x288 with 1 Axes>"
      ]
     },
     "metadata": {
      "needs_background": "light"
     },
     "output_type": "display_data"
    }
   ],
   "source": [
    "df['murkiness.level'].hist(bins=300)"
   ]
  },
  {
   "cell_type": "code",
   "execution_count": 121,
   "metadata": {},
   "outputs": [
    {
     "data": {
      "image/png": "[encoded data removed]",
      "text/plain": [
       "<Figure size 432x288 with 1 Axes>"
      ]
     },
     "metadata": {
      "needs_background": "light"
     },
     "output_type": "display_data"
    }
   ],
   "source": [
    "df[\"overcast.weather\"].value_counts().plot(kind='bar')\n",
    "plt.xlabel(\"Overcast\")\n",
    "plt.ylabel(\"Count\")\n",
    "plt.show()"
   ]
  },
  {
   "cell_type": "code",
   "execution_count": 122,
   "metadata": {},
   "outputs": [
    {
     "data": {
      "image/png": "[encoded data removed]",
      "text/plain": [
       "<Figure size 864x1152 with 6 Axes>"
      ]
     },
     "metadata": {
      "needs_background": "light"
     },
     "output_type": "display_data"
    }
   ],
   "source": [
    "import seaborn as sns\n",
    "fig, axs = plt.subplots(3, 2, figsize=(12, 16))\n",
    "\n",
    "sns.histplot(data=df, x=\"avg.dolphins.seen.per.day\", kde=True, color=\"skyblue\", ax=axs[0, 0])\n",
    "sns.histplot(data=df, x=\"previous.week.fishing\", kde=True, color=\"olive\", ax=axs[0, 1])\n",
    "sns.histplot(data=df, x=\"diversity.of.prey\", bins= 20, kde=True, color=\"gold\", ax=axs[1, 0])\n",
    "sns.histplot(data=df, x=\"people.previous.day\", kde=True, color=\"teal\", ax=axs[1, 1])\n",
    "sns.histplot(data=df, x=\"seagull.density\", kde=True, color=\"teal\", ax=axs[2, 0])\n",
    "plt.show()"
   ]
  },
  {
   "cell_type": "code",
   "execution_count": 123,
   "metadata": {},
   "outputs": [
    {
     "data": {
      "image/png": "[encoded data removed]",
      "text/plain": [
       "<Figure size 432x288 with 1 Axes>"
      ]
     },
     "metadata": {
      "needs_background": "light"
     },
     "output_type": "display_data"
    }
   ],
   "source": [
    "df['shark'].value_counts().plot(kind='bar')\n",
    "  \n",
    "    # display the plot\n",
    "plt.xlabel(\"Shark appearance\")\n",
    "plt.ylabel(\"Count\")\n",
    "plt.show()"
   ]
  },
  {
   "cell_type": "code",
   "execution_count": 124,
   "metadata": {},
   "outputs": [
    {
     "data": {
      "text/plain": [
       "0    283\n",
       "1    166\n",
       "Name: shark, dtype: int64"
      ]
     },
     "execution_count": 124,
     "metadata": {},
     "output_type": "execute_result"
    }
   ],
   "source": [
    "df['shark'].value_counts()"
   ]
  },
  {
   "cell_type": "code",
   "execution_count": 125,
   "metadata": {},
   "outputs": [
    {
     "data": {
      "image/png": "[encoded data removed]",
      "text/plain": [
       "<Figure size 576x288 with 2 Axes>"
      ]
     },
     "metadata": {
      "needs_background": "light"
     },
     "output_type": "display_data"
    }
   ],
   "source": [
    "\n",
    "fig, axs = plt.subplots(1, 2, figsize=(8, 4))\n",
    "\n",
    "sns.histplot(data=df, x=\"seals.seen\", bins = 15, kde=True, color=\"skyblue\", ax=axs[0])\n",
    "sns.histplot(data=df, x=\"water.temp\", bins = 15, kde=True, color=\"olive\", ax=axs[1])\n",
    "\n",
    "\n",
    "\n",
    "plt.show()"
   ]
  },
  {
   "cell_type": "code",
   "execution_count": 126,
   "metadata": {},
   "outputs": [
    {
     "data": {
      "image/png": "[encoded data removed]",
      "text/plain": [
       "<Figure size 432x288 with 1 Axes>"
      ]
     },
     "metadata": {
      "needs_background": "light"
     },
     "output_type": "display_data"
    }
   ],
   "source": [
    "df['time.of.day'].value_counts(ascending=True).plot(kind='bar')\n",
    "plt.xticks(fontsize=10,rotation=45)\n",
    "plt.xlabel('Time of day')\n",
    "plt.ylabel('Count')\n",
    "plt.show()\n",
    "\n",
    "#Clearly, they are data entry errors"
   ]
  },
  {
   "cell_type": "code",
   "execution_count": 127,
   "metadata": {},
   "outputs": [
    {
     "data": {
      "image/png": "[encoded data removed]",
      "text/plain": [
       "<Figure size 432x288 with 1 Axes>"
      ]
     },
     "metadata": {
      "needs_background": "light"
     },
     "output_type": "display_data"
    }
   ],
   "source": [
    "df['common.surfboard.colour'].value_counts(ascending=True).plot(kind='bar')\n",
    "plt.xticks(fontsize=10,rotation=45)\n",
    "plt.xlabel('Common surfboard colour')\n",
    "plt.ylabel('Count')\n",
    "plt.show()\n",
    "#Clearly, they are data entry errors"
   ]
  },
  {
   "cell_type": "code",
   "execution_count": 128,
   "metadata": {},
   "outputs": [],
   "source": [
    "#let's discard id\n",
    "# Load data\n"
   ]
  },
  {
   "cell_type": "code",
   "execution_count": 129,
   "metadata": {},
   "outputs": [],
   "source": [
    "# Load data\n",
    "#let's discard ID\n",
    "#from sklearn.model_selection import train_test_split\n",
    "#X = df.iloc[:,0:11]\n",
    "#y = df.iloc[:, 11]\n",
    "\n",
    "# Split the dataset into training and testing data\n",
    "#X_train, X_test, y_train, y_test = train_test_split(X, y, test_size=0.25, random_state=0)"
   ]
  },
  {
   "cell_type": "code",
   "execution_count": 130,
   "metadata": {},
   "outputs": [],
   "source": [
    "df_copy = df.copy()\n",
    "df_train = df_copy.sample(frac=0.75, random_state=42)\n",
    "df_test = df_copy.drop(df_train.index)"
   ]
  },
  {
   "cell_type": "code",
   "execution_count": 131,
   "metadata": {},
   "outputs": [],
   "source": [
    "df_train = df_train[df_train['murkiness.level'] != 1990.200000]"
   ]
  },
  {
   "cell_type": "code",
   "execution_count": 132,
   "metadata": {},
   "outputs": [],
   "source": [
    "df_test = df_test[df_test['murkiness.level'] != 1990.200000]"
   ]
  },
  {
   "cell_type": "code",
   "execution_count": 133,
   "metadata": {
    "scrolled": true
   },
   "outputs": [
    {
     "data": {
      "text/html": [
       "<div>\n",
       "<style scoped>\n",
       "    .dataframe tbody tr th:only-of-type {\n",
       "        vertical-align: middle;\n",
       "    }\n",
       "\n",
       "    .dataframe tbody tr th {\n",
       "        vertical-align: top;\n",
       "    }\n",
       "\n",
       "    .dataframe thead th {\n",
       "        text-align: right;\n",
       "    }\n",
       "</style>\n",
       "<table border=\"1\" class=\"dataframe\">\n",
       "  <thead>\n",
       "    <tr style=\"text-align: right;\">\n",
       "      <th></th>\n",
       "      <th>murkiness.level</th>\n",
       "      <th>avg.dolphins.seen.per.day</th>\n",
       "      <th>previous.week.fishing</th>\n",
       "      <th>diversity.of.prey</th>\n",
       "      <th>seals.seen</th>\n",
       "      <th>water.temp</th>\n",
       "      <th>people.previous.day</th>\n",
       "      <th>seagull.density</th>\n",
       "      <th>overcast.weather</th>\n",
       "      <th>shark</th>\n",
       "      <th>ID</th>\n",
       "    </tr>\n",
       "  </thead>\n",
       "  <tbody>\n",
       "    <tr>\n",
       "      <th>count</th>\n",
       "      <td>336.000000</td>\n",
       "      <td>336.000000</td>\n",
       "      <td>336.000000</td>\n",
       "      <td>336.000000</td>\n",
       "      <td>336.000000</td>\n",
       "      <td>336.000000</td>\n",
       "      <td>336.000000</td>\n",
       "      <td>336.000000</td>\n",
       "      <td>336.000000</td>\n",
       "      <td>336.000000</td>\n",
       "      <td>336.000000</td>\n",
       "    </tr>\n",
       "    <tr>\n",
       "      <th>mean</th>\n",
       "      <td>14.238970</td>\n",
       "      <td>3.018856</td>\n",
       "      <td>0.550248</td>\n",
       "      <td>42.310646</td>\n",
       "      <td>6.628096</td>\n",
       "      <td>3.133017</td>\n",
       "      <td>62.136905</td>\n",
       "      <td>0.614206</td>\n",
       "      <td>0.005952</td>\n",
       "      <td>0.363095</td>\n",
       "      <td>223.309524</td>\n",
       "    </tr>\n",
       "    <tr>\n",
       "      <th>std</th>\n",
       "      <td>3.669538</td>\n",
       "      <td>0.334441</td>\n",
       "      <td>0.041852</td>\n",
       "      <td>52.309165</td>\n",
       "      <td>0.563063</td>\n",
       "      <td>0.084744</td>\n",
       "      <td>29.288666</td>\n",
       "      <td>0.068860</td>\n",
       "      <td>0.077036</td>\n",
       "      <td>0.481609</td>\n",
       "      <td>134.460667</td>\n",
       "    </tr>\n",
       "    <tr>\n",
       "      <th>min</th>\n",
       "      <td>7.729000</td>\n",
       "      <td>2.718282</td>\n",
       "      <td>0.500000</td>\n",
       "      <td>6.802000</td>\n",
       "      <td>5.489764</td>\n",
       "      <td>2.926373</td>\n",
       "      <td>34.000000</td>\n",
       "      <td>0.500000</td>\n",
       "      <td>0.000000</td>\n",
       "      <td>0.000000</td>\n",
       "      <td>1.000000</td>\n",
       "    </tr>\n",
       "    <tr>\n",
       "      <th>25%</th>\n",
       "      <td>11.707500</td>\n",
       "      <td>2.793157</td>\n",
       "      <td>0.519110</td>\n",
       "      <td>17.822500</td>\n",
       "      <td>6.262778</td>\n",
       "      <td>3.075777</td>\n",
       "      <td>45.000000</td>\n",
       "      <td>0.561995</td>\n",
       "      <td>0.000000</td>\n",
       "      <td>0.000000</td>\n",
       "      <td>105.750000</td>\n",
       "    </tr>\n",
       "    <tr>\n",
       "      <th>50%</th>\n",
       "      <td>13.320000</td>\n",
       "      <td>2.891958</td>\n",
       "      <td>0.533335</td>\n",
       "      <td>24.650000</td>\n",
       "      <td>6.525905</td>\n",
       "      <td>3.126846</td>\n",
       "      <td>53.000000</td>\n",
       "      <td>0.598840</td>\n",
       "      <td>0.000000</td>\n",
       "      <td>0.000000</td>\n",
       "      <td>215.500000</td>\n",
       "    </tr>\n",
       "    <tr>\n",
       "      <th>75%</th>\n",
       "      <td>16.040000</td>\n",
       "      <td>3.141527</td>\n",
       "      <td>0.577678</td>\n",
       "      <td>45.385000</td>\n",
       "      <td>6.978664</td>\n",
       "      <td>3.182567</td>\n",
       "      <td>70.000000</td>\n",
       "      <td>0.665525</td>\n",
       "      <td>0.000000</td>\n",
       "      <td>1.000000</td>\n",
       "      <td>340.250000</td>\n",
       "    </tr>\n",
       "    <tr>\n",
       "      <th>max</th>\n",
       "      <td>28.110000</td>\n",
       "      <td>4.629025</td>\n",
       "      <td>0.701200</td>\n",
       "      <td>542.200000</td>\n",
       "      <td>8.355615</td>\n",
       "      <td>3.487973</td>\n",
       "      <td>267.000000</td>\n",
       "      <td>0.791000</td>\n",
       "      <td>1.000000</td>\n",
       "      <td>1.000000</td>\n",
       "      <td>456.000000</td>\n",
       "    </tr>\n",
       "  </tbody>\n",
       "</table>\n",
       "</div>"
      ],
      "text/plain": [
       "       murkiness.level  avg.dolphins.seen.per.day  previous.week.fishing  \\\n",
       "count       336.000000                 336.000000             336.000000   \n",
       "mean         14.238970                   3.018856               0.550248   \n",
       "std           3.669538                   0.334441               0.041852   \n",
       "min           7.729000                   2.718282               0.500000   \n",
       "25%          11.707500                   2.793157               0.519110   \n",
       "50%          13.320000                   2.891958               0.533335   \n",
       "75%          16.040000                   3.141527               0.577678   \n",
       "max          28.110000                   4.629025               0.701200   \n",
       "\n",
       "       diversity.of.prey  seals.seen  water.temp  people.previous.day  \\\n",
       "count         336.000000  336.000000  336.000000           336.000000   \n",
       "mean           42.310646    6.628096    3.133017            62.136905   \n",
       "std            52.309165    0.563063    0.084744            29.288666   \n",
       "min             6.802000    5.489764    2.926373            34.000000   \n",
       "25%            17.822500    6.262778    3.075777            45.000000   \n",
       "50%            24.650000    6.525905    3.126846            53.000000   \n",
       "75%            45.385000    6.978664    3.182567            70.000000   \n",
       "max           542.200000    8.355615    3.487973           267.000000   \n",
       "\n",
       "       seagull.density  overcast.weather       shark          ID  \n",
       "count       336.000000        336.000000  336.000000  336.000000  \n",
       "mean          0.614206          0.005952    0.363095  223.309524  \n",
       "std           0.068860          0.077036    0.481609  134.460667  \n",
       "min           0.500000          0.000000    0.000000    1.000000  \n",
       "25%           0.561995          0.000000    0.000000  105.750000  \n",
       "50%           0.598840          0.000000    0.000000  215.500000  \n",
       "75%           0.665525          0.000000    1.000000  340.250000  \n",
       "max           0.791000          1.000000    1.000000  456.000000  "
      ]
     },
     "execution_count": 133,
     "metadata": {},
     "output_type": "execute_result"
    }
   ],
   "source": [
    "df_train.describe()"
   ]
  },
  {
   "cell_type": "code",
   "execution_count": 134,
   "metadata": {},
   "outputs": [
    {
     "data": {
      "text/html": [
       "<div>\n",
       "<style scoped>\n",
       "    .dataframe tbody tr th:only-of-type {\n",
       "        vertical-align: middle;\n",
       "    }\n",
       "\n",
       "    .dataframe tbody tr th {\n",
       "        vertical-align: top;\n",
       "    }\n",
       "\n",
       "    .dataframe thead th {\n",
       "        text-align: right;\n",
       "    }\n",
       "</style>\n",
       "<table border=\"1\" class=\"dataframe\">\n",
       "  <thead>\n",
       "    <tr style=\"text-align: right;\">\n",
       "      <th></th>\n",
       "      <th>murkiness.level</th>\n",
       "      <th>avg.dolphins.seen.per.day</th>\n",
       "      <th>previous.week.fishing</th>\n",
       "      <th>diversity.of.prey</th>\n",
       "      <th>seals.seen</th>\n",
       "      <th>water.temp</th>\n",
       "      <th>people.previous.day</th>\n",
       "      <th>seagull.density</th>\n",
       "      <th>overcast.weather</th>\n",
       "      <th>shark</th>\n",
       "      <th>ID</th>\n",
       "    </tr>\n",
       "  </thead>\n",
       "  <tbody>\n",
       "    <tr>\n",
       "      <th>count</th>\n",
       "      <td>111.000000</td>\n",
       "      <td>111.000000</td>\n",
       "      <td>111.000000</td>\n",
       "      <td>111.000000</td>\n",
       "      <td>111.000000</td>\n",
       "      <td>111.000000</td>\n",
       "      <td>111.000000</td>\n",
       "      <td>111.000000</td>\n",
       "      <td>111.0</td>\n",
       "      <td>111.000000</td>\n",
       "      <td>111.00000</td>\n",
       "    </tr>\n",
       "    <tr>\n",
       "      <th>mean</th>\n",
       "      <td>14.023153</td>\n",
       "      <td>2.989661</td>\n",
       "      <td>0.547575</td>\n",
       "      <td>40.384387</td>\n",
       "      <td>6.606366</td>\n",
       "      <td>3.133610</td>\n",
       "      <td>58.747748</td>\n",
       "      <td>0.612262</td>\n",
       "      <td>0.0</td>\n",
       "      <td>0.396396</td>\n",
       "      <td>243.72973</td>\n",
       "    </tr>\n",
       "    <tr>\n",
       "      <th>std</th>\n",
       "      <td>3.488792</td>\n",
       "      <td>0.267439</td>\n",
       "      <td>0.036300</td>\n",
       "      <td>39.070714</td>\n",
       "      <td>0.571059</td>\n",
       "      <td>0.070528</td>\n",
       "      <td>20.209570</td>\n",
       "      <td>0.062734</td>\n",
       "      <td>0.0</td>\n",
       "      <td>0.491367</td>\n",
       "      <td>125.12052</td>\n",
       "    </tr>\n",
       "    <tr>\n",
       "      <th>min</th>\n",
       "      <td>6.981000</td>\n",
       "      <td>2.718282</td>\n",
       "      <td>0.500000</td>\n",
       "      <td>7.228000</td>\n",
       "      <td>5.221436</td>\n",
       "      <td>2.967521</td>\n",
       "      <td>36.000000</td>\n",
       "      <td>0.500000</td>\n",
       "      <td>0.0</td>\n",
       "      <td>0.000000</td>\n",
       "      <td>8.00000</td>\n",
       "    </tr>\n",
       "    <tr>\n",
       "      <th>25%</th>\n",
       "      <td>11.535000</td>\n",
       "      <td>2.809171</td>\n",
       "      <td>0.520685</td>\n",
       "      <td>17.720000</td>\n",
       "      <td>6.220119</td>\n",
       "      <td>3.080796</td>\n",
       "      <td>46.000000</td>\n",
       "      <td>0.565360</td>\n",
       "      <td>0.0</td>\n",
       "      <td>0.000000</td>\n",
       "      <td>135.50000</td>\n",
       "    </tr>\n",
       "    <tr>\n",
       "      <th>50%</th>\n",
       "      <td>13.110000</td>\n",
       "      <td>2.886619</td>\n",
       "      <td>0.533840</td>\n",
       "      <td>24.280000</td>\n",
       "      <td>6.487684</td>\n",
       "      <td>3.127381</td>\n",
       "      <td>52.000000</td>\n",
       "      <td>0.600100</td>\n",
       "      <td>0.0</td>\n",
       "      <td>0.000000</td>\n",
       "      <td>265.00000</td>\n",
       "    </tr>\n",
       "    <tr>\n",
       "      <th>75%</th>\n",
       "      <td>15.725000</td>\n",
       "      <td>3.081148</td>\n",
       "      <td>0.574020</td>\n",
       "      <td>48.870000</td>\n",
       "      <td>7.088634</td>\n",
       "      <td>3.172190</td>\n",
       "      <td>67.500000</td>\n",
       "      <td>0.656000</td>\n",
       "      <td>0.0</td>\n",
       "      <td>1.000000</td>\n",
       "      <td>348.50000</td>\n",
       "    </tr>\n",
       "    <tr>\n",
       "      <th>max</th>\n",
       "      <td>24.630000</td>\n",
       "      <td>4.286941</td>\n",
       "      <td>0.660400</td>\n",
       "      <td>224.100000</td>\n",
       "      <td>8.052933</td>\n",
       "      <td>3.332825</td>\n",
       "      <td>164.000000</td>\n",
       "      <td>0.750800</td>\n",
       "      <td>0.0</td>\n",
       "      <td>1.000000</td>\n",
       "      <td>448.00000</td>\n",
       "    </tr>\n",
       "  </tbody>\n",
       "</table>\n",
       "</div>"
      ],
      "text/plain": [
       "       murkiness.level  avg.dolphins.seen.per.day  previous.week.fishing  \\\n",
       "count       111.000000                 111.000000             111.000000   \n",
       "mean         14.023153                   2.989661               0.547575   \n",
       "std           3.488792                   0.267439               0.036300   \n",
       "min           6.981000                   2.718282               0.500000   \n",
       "25%          11.535000                   2.809171               0.520685   \n",
       "50%          13.110000                   2.886619               0.533840   \n",
       "75%          15.725000                   3.081148               0.574020   \n",
       "max          24.630000                   4.286941               0.660400   \n",
       "\n",
       "       diversity.of.prey  seals.seen  water.temp  people.previous.day  \\\n",
       "count         111.000000  111.000000  111.000000           111.000000   \n",
       "mean           40.384387    6.606366    3.133610            58.747748   \n",
       "std            39.070714    0.571059    0.070528            20.209570   \n",
       "min             7.228000    5.221436    2.967521            36.000000   \n",
       "25%            17.720000    6.220119    3.080796            46.000000   \n",
       "50%            24.280000    6.487684    3.127381            52.000000   \n",
       "75%            48.870000    7.088634    3.172190            67.500000   \n",
       "max           224.100000    8.052933    3.332825           164.000000   \n",
       "\n",
       "       seagull.density  overcast.weather       shark         ID  \n",
       "count       111.000000             111.0  111.000000  111.00000  \n",
       "mean          0.612262               0.0    0.396396  243.72973  \n",
       "std           0.062734               0.0    0.491367  125.12052  \n",
       "min           0.500000               0.0    0.000000    8.00000  \n",
       "25%           0.565360               0.0    0.000000  135.50000  \n",
       "50%           0.600100               0.0    0.000000  265.00000  \n",
       "75%           0.656000               0.0    1.000000  348.50000  \n",
       "max           0.750800               0.0    1.000000  448.00000  "
      ]
     },
     "execution_count": 134,
     "metadata": {},
     "output_type": "execute_result"
    }
   ],
   "source": [
    "df_test.describe()"
   ]
  },
  {
   "cell_type": "code",
   "execution_count": 135,
   "metadata": {},
   "outputs": [],
   "source": [
    "\n",
    "\n",
    "# define the list of features to keep\n",
    "selected_features = ['murkiness.level','avg.dolphins.seen.per.day','previous.week.fishing','diversity.of.prey','seals.seen','water.temp',\n",
    "                     'people.previous.day','seagull.density','common.surfboard.colour', 'time.of.day']\n",
    "\n",
    "# update the data frame\n",
    "X_train = df_train[selected_features]\n",
    "y_train = df_train['shark']"
   ]
  },
  {
   "cell_type": "code",
   "execution_count": 136,
   "metadata": {},
   "outputs": [],
   "source": [
    "X_test = df_test[selected_features]\n",
    "y_test = df_test['shark']"
   ]
  },
  {
   "cell_type": "code",
   "execution_count": 137,
   "metadata": {},
   "outputs": [
    {
     "name": "stdout",
     "output_type": "stream",
     "text": [
      "(336, 10)\n",
      "(336,)\n",
      "(111, 10)\n",
      "(111,)\n"
     ]
    }
   ],
   "source": [
    "print(X_train.shape)\n",
    "print(y_train.shape)\n",
    "print(X_test.shape)\n",
    "print(y_test.shape)"
   ]
  },
  {
   "cell_type": "code",
   "execution_count": 138,
   "metadata": {},
   "outputs": [
    {
     "data": {
      "text/plain": [
       "290    1\n",
       "301    1\n",
       "120    1\n",
       "352    0\n",
       "73     1\n",
       "      ..\n",
       "27     1\n",
       "356    0\n",
       "235    0\n",
       "265    0\n",
       "293    0\n",
       "Name: shark, Length: 336, dtype: int64"
      ]
     },
     "execution_count": 138,
     "metadata": {},
     "output_type": "execute_result"
    }
   ],
   "source": [
    "y_train"
   ]
  },
  {
   "cell_type": "code",
   "execution_count": 139,
   "metadata": {},
   "outputs": [
    {
     "data": {
      "image/png": "[encoded data removed]",
      "text/plain": [
       "<Figure size 432x288 with 1 Axes>"
      ]
     },
     "metadata": {
      "needs_background": "light"
     },
     "output_type": "display_data"
    }
   ],
   "source": [
    "X_train['time.of.day'].value_counts(ascending=True).plot(kind='bar')\n",
    "plt.xticks(fontsize=10,rotation=45)\n",
    "plt.xlabel('Time of day')\n",
    "plt.ylabel('Count')\n",
    "plt.show()\n",
    "\n",
    "#Clearly, they are data entry errors"
   ]
  },
  {
   "cell_type": "code",
   "execution_count": 140,
   "metadata": {},
   "outputs": [
    {
     "name": "stderr",
     "output_type": "stream",
     "text": [
      "C:\\Users\\super\\anaconda3\\lib\\site-packages\\pandas\\core\\indexing.py:1765: SettingWithCopyWarning: \n",
      "A value is trying to be set on a copy of a slice from a DataFrame.\n",
      "Try using .loc[row_indexer,col_indexer] = value instead\n",
      "\n",
      "See the caveats in the documentation: https://pandas.pydata.org/pandas-docs/stable/user_guide/indexing.html#returning-a-view-versus-a-copy\n",
      "  isetter(loc, value)\n"
     ]
    },
    {
     "data": {
      "text/plain": [
       "<AxesSubplot:>"
      ]
     },
     "execution_count": 140,
     "metadata": {},
     "output_type": "execute_result"
    },
    {
     "data": {
      "image/png": "[encoded data removed]",
      "text/plain": [
       "<Figure size 432x288 with 1 Axes>"
      ]
     },
     "metadata": {
      "needs_background": "light"
     },
     "output_type": "display_data"
    }
   ],
   "source": [
    "#X_train.loc[:,'time.of.day'] = X_train.loc[:,'time.of.day'].replace({'morni7ng':'morning'})\n",
    "X_train.loc[(X_train['time.of.day'] ==  'morni7ng'), 'time.of.day'] = 'morning'\n",
    "\n",
    "\n",
    "# just to check it's worked...\n",
    "X_train['time.of.day'].value_counts(ascending=True).plot(kind='bar')"
   ]
  },
  {
   "cell_type": "code",
   "execution_count": 141,
   "metadata": {},
   "outputs": [
    {
     "data": {
      "text/plain": [
       "<AxesSubplot:>"
      ]
     },
     "execution_count": 141,
     "metadata": {},
     "output_type": "execute_result"
    },
    {
     "data": {
      "image/png": "[encoded data removed]",
      "text/plain": [
       "<Figure size 432x288 with 1 Axes>"
      ]
     },
     "metadata": {
      "needs_background": "light"
     },
     "output_type": "display_data"
    }
   ],
   "source": [
    "X_test.loc[(X_test['time.of.day'] ==  'morni7ng'), 'time.of.day'] = 'morning'\n",
    "\n",
    "\n",
    "# just to check it's worked...\n",
    "X_test['time.of.day'].value_counts(ascending=True).plot(kind='bar')"
   ]
  },
  {
   "cell_type": "code",
   "execution_count": null,
   "metadata": {},
   "outputs": [],
   "source": []
  },
  {
   "cell_type": "code",
   "execution_count": 142,
   "metadata": {},
   "outputs": [
    {
     "data": {
      "text/plain": [
       "<AxesSubplot:>"
      ]
     },
     "execution_count": 142,
     "metadata": {},
     "output_type": "execute_result"
    },
    {
     "data": {
      "image/png": "[encoded data removed]",
      "text/plain": [
       "<Figure size 432x288 with 1 Axes>"
      ]
     },
     "metadata": {
      "needs_background": "light"
     },
     "output_type": "display_data"
    }
   ],
   "source": [
    "X_train.loc[(X_train['common.surfboard.colour'] ==  'yyellow'), 'common.surfboard.colour'] = 'yellow'\n",
    "\n",
    "# just to check it's worked...\n",
    "X_train['common.surfboard.colour'].value_counts(ascending=True).plot(kind='bar')"
   ]
  },
  {
   "cell_type": "code",
   "execution_count": null,
   "metadata": {},
   "outputs": [],
   "source": []
  },
  {
   "cell_type": "code",
   "execution_count": 143,
   "metadata": {},
   "outputs": [
    {
     "data": {
      "text/plain": [
       "murkiness.level              0\n",
       "avg.dolphins.seen.per.day    0\n",
       "previous.week.fishing        0\n",
       "diversity.of.prey            0\n",
       "seals.seen                   0\n",
       "water.temp                   0\n",
       "people.previous.day          0\n",
       "seagull.density              0\n",
       "common.surfboard.colour      0\n",
       "time.of.day                  0\n",
       "dtype: int64"
      ]
     },
     "execution_count": 143,
     "metadata": {},
     "output_type": "execute_result"
    }
   ],
   "source": [
    "#X_train = X_train.dropna()\n",
    "X_train.isnull().sum()"
   ]
  },
  {
   "cell_type": "code",
   "execution_count": 144,
   "metadata": {},
   "outputs": [
    {
     "data": {
      "text/plain": [
       "murkiness.level              0\n",
       "avg.dolphins.seen.per.day    0\n",
       "previous.week.fishing        0\n",
       "diversity.of.prey            0\n",
       "seals.seen                   0\n",
       "water.temp                   0\n",
       "people.previous.day          0\n",
       "seagull.density              0\n",
       "common.surfboard.colour      0\n",
       "time.of.day                  0\n",
       "dtype: int64"
      ]
     },
     "execution_count": 144,
     "metadata": {},
     "output_type": "execute_result"
    }
   ],
   "source": [
    "X_test.isnull().sum()"
   ]
  },
  {
   "cell_type": "code",
   "execution_count": 145,
   "metadata": {},
   "outputs": [
    {
     "data": {
      "text/html": [
       "<div>\n",
       "<style scoped>\n",
       "    .dataframe tbody tr th:only-of-type {\n",
       "        vertical-align: middle;\n",
       "    }\n",
       "\n",
       "    .dataframe tbody tr th {\n",
       "        vertical-align: top;\n",
       "    }\n",
       "\n",
       "    .dataframe thead th {\n",
       "        text-align: right;\n",
       "    }\n",
       "</style>\n",
       "<table border=\"1\" class=\"dataframe\">\n",
       "  <thead>\n",
       "    <tr style=\"text-align: right;\">\n",
       "      <th></th>\n",
       "      <th>murkiness.level</th>\n",
       "      <th>avg.dolphins.seen.per.day</th>\n",
       "      <th>previous.week.fishing</th>\n",
       "      <th>diversity.of.prey</th>\n",
       "      <th>seals.seen</th>\n",
       "      <th>water.temp</th>\n",
       "      <th>people.previous.day</th>\n",
       "      <th>seagull.density</th>\n",
       "      <th>common.surfboard.colour_red</th>\n",
       "      <th>common.surfboard.colour_yellow</th>\n",
       "      <th>time.of.day_morning</th>\n",
       "      <th>time.of.day_night</th>\n",
       "    </tr>\n",
       "  </thead>\n",
       "  <tbody>\n",
       "    <tr>\n",
       "      <th>290</th>\n",
       "      <td>14.58</td>\n",
       "      <td>3.168167</td>\n",
       "      <td>0.58783</td>\n",
       "      <td>21.05</td>\n",
       "      <td>6.798944</td>\n",
       "      <td>3.205097</td>\n",
       "      <td>134.0</td>\n",
       "      <td>0.77010</td>\n",
       "      <td>0</td>\n",
       "      <td>1</td>\n",
       "      <td>0</td>\n",
       "      <td>1</td>\n",
       "    </tr>\n",
       "    <tr>\n",
       "      <th>301</th>\n",
       "      <td>20.16</td>\n",
       "      <td>3.072325</td>\n",
       "      <td>0.57726</td>\n",
       "      <td>74.85</td>\n",
       "      <td>7.412764</td>\n",
       "      <td>3.037865</td>\n",
       "      <td>46.0</td>\n",
       "      <td>0.64250</td>\n",
       "      <td>1</td>\n",
       "      <td>0</td>\n",
       "      <td>1</td>\n",
       "      <td>0</td>\n",
       "    </tr>\n",
       "    <tr>\n",
       "      <th>120</th>\n",
       "      <td>18.22</td>\n",
       "      <td>3.299826</td>\n",
       "      <td>0.60600</td>\n",
       "      <td>98.81</td>\n",
       "      <td>7.186144</td>\n",
       "      <td>3.116009</td>\n",
       "      <td>55.0</td>\n",
       "      <td>0.63250</td>\n",
       "      <td>0</td>\n",
       "      <td>0</td>\n",
       "      <td>0</td>\n",
       "      <td>1</td>\n",
       "    </tr>\n",
       "    <tr>\n",
       "      <th>352</th>\n",
       "      <td>12.98</td>\n",
       "      <td>2.926059</td>\n",
       "      <td>0.52950</td>\n",
       "      <td>20.65</td>\n",
       "      <td>6.452522</td>\n",
       "      <td>3.118845</td>\n",
       "      <td>68.0</td>\n",
       "      <td>0.59858</td>\n",
       "      <td>1</td>\n",
       "      <td>0</td>\n",
       "      <td>0</td>\n",
       "      <td>0</td>\n",
       "    </tr>\n",
       "    <tr>\n",
       "      <th>73</th>\n",
       "      <td>17.68</td>\n",
       "      <td>3.332825</td>\n",
       "      <td>0.60540</td>\n",
       "      <td>93.91</td>\n",
       "      <td>7.171657</td>\n",
       "      <td>3.165611</td>\n",
       "      <td>72.0</td>\n",
       "      <td>0.65150</td>\n",
       "      <td>1</td>\n",
       "      <td>0</td>\n",
       "      <td>0</td>\n",
       "      <td>1</td>\n",
       "    </tr>\n",
       "  </tbody>\n",
       "</table>\n",
       "</div>"
      ],
      "text/plain": [
       "     murkiness.level  avg.dolphins.seen.per.day  previous.week.fishing  \\\n",
       "290            14.58                   3.168167                0.58783   \n",
       "301            20.16                   3.072325                0.57726   \n",
       "120            18.22                   3.299826                0.60600   \n",
       "352            12.98                   2.926059                0.52950   \n",
       "73             17.68                   3.332825                0.60540   \n",
       "\n",
       "     diversity.of.prey  seals.seen  water.temp  people.previous.day  \\\n",
       "290              21.05    6.798944    3.205097                134.0   \n",
       "301              74.85    7.412764    3.037865                 46.0   \n",
       "120              98.81    7.186144    3.116009                 55.0   \n",
       "352              20.65    6.452522    3.118845                 68.0   \n",
       "73               93.91    7.171657    3.165611                 72.0   \n",
       "\n",
       "     seagull.density  common.surfboard.colour_red  \\\n",
       "290          0.77010                            0   \n",
       "301          0.64250                            1   \n",
       "120          0.63250                            0   \n",
       "352          0.59858                            1   \n",
       "73           0.65150                            1   \n",
       "\n",
       "     common.surfboard.colour_yellow  time.of.day_morning  time.of.day_night  \n",
       "290                               1                    0                  1  \n",
       "301                               0                    1                  0  \n",
       "120                               0                    0                  1  \n",
       "352                               0                    0                  0  \n",
       "73                                0                    0                  1  "
      ]
     },
     "execution_count": 145,
     "metadata": {},
     "output_type": "execute_result"
    }
   ],
   "source": [
    "X_train = pd.get_dummies(X_train, prefix_sep='_', drop_first=True)\n",
    "X_train.head()"
   ]
  },
  {
   "cell_type": "code",
   "execution_count": 146,
   "metadata": {},
   "outputs": [
    {
     "data": {
      "text/plain": [
       "(336, 12)"
      ]
     },
     "execution_count": 146,
     "metadata": {},
     "output_type": "execute_result"
    }
   ],
   "source": [
    "X_train.shape"
   ]
  },
  {
   "cell_type": "code",
   "execution_count": 147,
   "metadata": {},
   "outputs": [
    {
     "data": {
      "text/html": [
       "<div>\n",
       "<style scoped>\n",
       "    .dataframe tbody tr th:only-of-type {\n",
       "        vertical-align: middle;\n",
       "    }\n",
       "\n",
       "    .dataframe tbody tr th {\n",
       "        vertical-align: top;\n",
       "    }\n",
       "\n",
       "    .dataframe thead th {\n",
       "        text-align: right;\n",
       "    }\n",
       "</style>\n",
       "<table border=\"1\" class=\"dataframe\">\n",
       "  <thead>\n",
       "    <tr style=\"text-align: right;\">\n",
       "      <th></th>\n",
       "      <th>murkiness.level</th>\n",
       "      <th>avg.dolphins.seen.per.day</th>\n",
       "      <th>previous.week.fishing</th>\n",
       "      <th>diversity.of.prey</th>\n",
       "      <th>seals.seen</th>\n",
       "      <th>water.temp</th>\n",
       "      <th>people.previous.day</th>\n",
       "      <th>seagull.density</th>\n",
       "      <th>common.surfboard.colour_red</th>\n",
       "      <th>common.surfboard.colour_yellow</th>\n",
       "      <th>time.of.day_morning</th>\n",
       "      <th>time.of.day_night</th>\n",
       "    </tr>\n",
       "  </thead>\n",
       "  <tbody>\n",
       "    <tr>\n",
       "      <th>1</th>\n",
       "      <td>11.990</td>\n",
       "      <td>2.874611</td>\n",
       "      <td>0.54274</td>\n",
       "      <td>19.390</td>\n",
       "      <td>6.242029</td>\n",
       "      <td>3.127024</td>\n",
       "      <td>49.0</td>\n",
       "      <td>0.62020</td>\n",
       "      <td>0</td>\n",
       "      <td>0</td>\n",
       "      <td>1</td>\n",
       "      <td>0</td>\n",
       "    </tr>\n",
       "    <tr>\n",
       "      <th>8</th>\n",
       "      <td>8.571</td>\n",
       "      <td>2.789833</td>\n",
       "      <td>0.51510</td>\n",
       "      <td>7.254</td>\n",
       "      <td>5.618951</td>\n",
       "      <td>3.248951</td>\n",
       "      <td>54.0</td>\n",
       "      <td>0.58512</td>\n",
       "      <td>0</td>\n",
       "      <td>0</td>\n",
       "      <td>1</td>\n",
       "      <td>0</td>\n",
       "    </tr>\n",
       "    <tr>\n",
       "      <th>13</th>\n",
       "      <td>11.470</td>\n",
       "      <td>2.790463</td>\n",
       "      <td>0.52322</td>\n",
       "      <td>12.250</td>\n",
       "      <td>6.164998</td>\n",
       "      <td>3.207339</td>\n",
       "      <td>42.0</td>\n",
       "      <td>0.56548</td>\n",
       "      <td>1</td>\n",
       "      <td>0</td>\n",
       "      <td>0</td>\n",
       "      <td>1</td>\n",
       "    </tr>\n",
       "    <tr>\n",
       "      <th>14</th>\n",
       "      <td>8.878</td>\n",
       "      <td>2.852917</td>\n",
       "      <td>0.52381</td>\n",
       "      <td>30.180</td>\n",
       "      <td>5.710427</td>\n",
       "      <td>3.024754</td>\n",
       "      <td>43.0</td>\n",
       "      <td>0.54762</td>\n",
       "      <td>1</td>\n",
       "      <td>0</td>\n",
       "      <td>0</td>\n",
       "      <td>1</td>\n",
       "    </tr>\n",
       "    <tr>\n",
       "      <th>20</th>\n",
       "      <td>18.650</td>\n",
       "      <td>3.381202</td>\n",
       "      <td>0.60090</td>\n",
       "      <td>71.560</td>\n",
       "      <td>7.356918</td>\n",
       "      <td>3.263559</td>\n",
       "      <td>99.0</td>\n",
       "      <td>0.73780</td>\n",
       "      <td>0</td>\n",
       "      <td>0</td>\n",
       "      <td>1</td>\n",
       "      <td>0</td>\n",
       "    </tr>\n",
       "  </tbody>\n",
       "</table>\n",
       "</div>"
      ],
      "text/plain": [
       "    murkiness.level  avg.dolphins.seen.per.day  previous.week.fishing  \\\n",
       "1            11.990                   2.874611                0.54274   \n",
       "8             8.571                   2.789833                0.51510   \n",
       "13           11.470                   2.790463                0.52322   \n",
       "14            8.878                   2.852917                0.52381   \n",
       "20           18.650                   3.381202                0.60090   \n",
       "\n",
       "    diversity.of.prey  seals.seen  water.temp  people.previous.day  \\\n",
       "1              19.390    6.242029    3.127024                 49.0   \n",
       "8               7.254    5.618951    3.248951                 54.0   \n",
       "13             12.250    6.164998    3.207339                 42.0   \n",
       "14             30.180    5.710427    3.024754                 43.0   \n",
       "20             71.560    7.356918    3.263559                 99.0   \n",
       "\n",
       "    seagull.density  common.surfboard.colour_red  \\\n",
       "1           0.62020                            0   \n",
       "8           0.58512                            0   \n",
       "13          0.56548                            1   \n",
       "14          0.54762                            1   \n",
       "20          0.73780                            0   \n",
       "\n",
       "    common.surfboard.colour_yellow  time.of.day_morning  time.of.day_night  \n",
       "1                                0                    1                  0  \n",
       "8                                0                    1                  0  \n",
       "13                               0                    0                  1  \n",
       "14                               0                    0                  1  \n",
       "20                               0                    1                  0  "
      ]
     },
     "execution_count": 147,
     "metadata": {},
     "output_type": "execute_result"
    }
   ],
   "source": [
    "X_test = pd.get_dummies(X_test, prefix_sep='_', drop_first=True)\n",
    "X_test.head()"
   ]
  },
  {
   "cell_type": "markdown",
   "metadata": {},
   "source": [
    "The variables with skewness > 1 such as wheelbase, compressionratio, horsepower, price are highly positively skewed.\n",
    "The variables with skewness < -1 are highly negatively skewed.\n",
    "The variables with 0.5 < skewness < 1 such as carwidth, curbweight, citympg are moderately positively skewed.\n",
    "The variables with -0.5 < skewness < -1 such as stroke are moderately negatively skewed.\n",
    "And, the variables with -0.5 < skewness < 0.5 are symmetric i.e normally distributed such as symboling, carheight, boreration, peakrpm, highwaympg."
   ]
  },
  {
   "cell_type": "code",
   "execution_count": 148,
   "metadata": {},
   "outputs": [
    {
     "data": {
      "text/plain": [
       "array([[0.33614641, 0.23545024, 0.43653082, ..., 1.        , 0.        ,\n",
       "        1.        ],\n",
       "       [0.60993082, 0.18529072, 0.38399602, ..., 0.        , 1.        ,\n",
       "        0.        ],\n",
       "       [0.51474412, 0.30435522, 0.52683897, ..., 0.        , 0.        ,\n",
       "        1.        ],\n",
       "       ...,\n",
       "       [0.26892694, 0.0437956 , 0.16277336, ..., 0.        , 0.        ,\n",
       "        1.        ],\n",
       "       [0.0985722 , 0.        , 0.        , ..., 0.        , 0.        ,\n",
       "        0.        ],\n",
       "       [0.17521221, 0.259283  , 0.14184891, ..., 0.        , 0.        ,\n",
       "        1.        ]])"
      ]
     },
     "execution_count": 148,
     "metadata": {},
     "output_type": "execute_result"
    }
   ],
   "source": [
    "from sklearn.preprocessing import MinMaxScaler\n",
    "mm_scaler = MinMaxScaler()\n",
    "X_train = mm_scaler.fit_transform(X_train)\n",
    "X_train"
   ]
  },
  {
   "cell_type": "code",
   "execution_count": 149,
   "metadata": {},
   "outputs": [
    {
     "data": {
      "text/plain": [
       "array([[0.28381211, 0.09965795, 0.26645885, ..., 0.        , 1.        ,\n",
       "        0.        ],\n",
       "       [0.09009009, 0.04561303, 0.09413965, ..., 0.        , 1.        ,\n",
       "        0.        ],\n",
       "       [0.25434869, 0.04601456, 0.14476309, ..., 0.        , 0.        ,\n",
       "        1.        ],\n",
       "       ...,\n",
       "       [0.38240127, 0.46374181, 0.50031172, ..., 0.        , 0.        ,\n",
       "        1.        ],\n",
       "       [0.38070146, 0.08253584, 0.19700748, ..., 1.        , 0.        ,\n",
       "        1.        ],\n",
       "       [0.1623888 , 0.0413352 , 0.15062344, ..., 0.        , 0.        ,\n",
       "        1.        ]])"
      ]
     },
     "execution_count": 149,
     "metadata": {},
     "output_type": "execute_result"
    }
   ],
   "source": [
    "X_test = mm_scaler.fit_transform(X_test)\n",
    "X_test"
   ]
  },
  {
   "cell_type": "code",
   "execution_count": 150,
   "metadata": {},
   "outputs": [],
   "source": [
    "y_train = y_train.to_numpy()\n"
   ]
  },
  {
   "cell_type": "code",
   "execution_count": 151,
   "metadata": {},
   "outputs": [],
   "source": [
    "y_test = y_test.to_numpy()"
   ]
  },
  {
   "cell_type": "code",
   "execution_count": 152,
   "metadata": {},
   "outputs": [
    {
     "data": {
      "text/plain": [
       "array([1, 1, 1, 0, 1, 0, 0, 0, 1, 0, 0, 1, 0, 0, 0, 0, 0, 0, 0, 0, 0, 0,\n",
       "       1, 1, 1, 0, 0, 0, 0, 1, 1, 0, 0, 0, 0, 0, 1, 0, 0, 1, 0, 0, 1, 0,\n",
       "       0, 1, 1, 0, 0, 0, 0, 0, 1, 0, 1, 0, 0, 1, 1, 1, 0, 0, 0, 0, 1, 1,\n",
       "       0, 0, 0, 1, 0, 0, 0, 0, 0, 0, 1, 1, 0, 1, 1, 1, 1, 0, 1, 0, 0, 0,\n",
       "       1, 1, 0, 0, 0, 0, 0, 1, 0, 1, 1, 0, 1, 0, 0, 1, 0, 0, 0, 0, 0, 0,\n",
       "       0, 0, 0, 0, 0, 0, 1, 1, 1, 1, 1, 0, 0, 0, 1, 0, 0, 1, 0, 0, 1, 1,\n",
       "       0, 1, 0, 1, 0, 0, 1, 0, 0, 0, 0, 0, 0, 0, 0, 1, 0, 0, 0, 0, 0, 0,\n",
       "       1, 1, 1, 1, 0, 1, 1, 0, 1, 1, 0, 0, 0, 0, 0, 0, 0, 0, 0, 0, 0, 1,\n",
       "       1, 0, 0, 1, 0, 1, 0, 0, 0, 1, 0, 1, 0, 0, 0, 0, 0, 0, 1, 1, 0, 1,\n",
       "       0, 1, 0, 1, 0, 0, 0, 0, 0, 0, 1, 0, 0, 1, 0, 0, 1, 0, 1, 1, 1, 0,\n",
       "       0, 0, 1, 0, 0, 0, 0, 0, 0, 1, 1, 0, 0, 0, 1, 0, 0, 1, 1, 1, 0, 0,\n",
       "       0, 0, 1, 1, 1, 1, 1, 1, 1, 1, 1, 1, 1, 0, 1, 0, 0, 0, 0, 1, 0, 1,\n",
       "       1, 1, 0, 0, 1, 1, 1, 0, 1, 1, 0, 1, 0, 0, 0, 1, 0, 0, 0, 1, 0, 0,\n",
       "       0, 1, 0, 0, 1, 0, 0, 0, 0, 0, 0, 0, 0, 0, 0, 1, 1, 0, 0, 0, 0, 0,\n",
       "       1, 0, 1, 0, 1, 1, 1, 0, 0, 0, 0, 0, 0, 1, 0, 1, 1, 1, 0, 0, 1, 0,\n",
       "       0, 1, 0, 0, 0, 0], dtype=int64)"
      ]
     },
     "execution_count": 152,
     "metadata": {},
     "output_type": "execute_result"
    }
   ],
   "source": [
    "y_train"
   ]
  },
  {
   "cell_type": "code",
   "execution_count": 153,
   "metadata": {},
   "outputs": [
    {
     "data": {
      "text/plain": [
       "array([0, 0, 0, 0, 1, 1, 1, 1, 0, 1, 0, 0, 0, 1, 0, 0, 0, 1, 0, 1, 1, 0,\n",
       "       0, 0, 0, 0, 0, 1, 0, 1, 0, 1, 1, 1, 0, 0, 0, 1, 0, 1, 1, 1, 0, 0,\n",
       "       1, 0, 0, 1, 1, 0, 1, 0, 0, 0, 1, 0, 1, 1, 1, 1, 1, 0, 0, 0, 0, 0,\n",
       "       0, 0, 1, 0, 0, 1, 1, 1, 0, 1, 0, 0, 0, 0, 0, 0, 1, 0, 1, 0, 1, 0,\n",
       "       1, 0, 0, 0, 1, 0, 0, 1, 0, 0, 1, 0, 0, 1, 0, 1, 1, 1, 0, 0, 0, 0,\n",
       "       0], dtype=int64)"
      ]
     },
     "execution_count": 153,
     "metadata": {},
     "output_type": "execute_result"
    }
   ],
   "source": [
    "y_test"
   ]
  },
  {
   "cell_type": "code",
   "execution_count": null,
   "metadata": {},
   "outputs": [],
   "source": [
    "#log_reg = LogisticRegression(solver='liblinear', penalty='l2')\n",
    "#log_reg.fit(X_train, y_train)"
   ]
  },
  {
   "cell_type": "code",
   "execution_count": null,
   "metadata": {},
   "outputs": [],
   "source": [
    "#from sklearn.model_selection import cross_validate\n",
    "#metrics_to_calculate = ['accuracy', 'roc_auc', 'precision', 'f1','recall']\n",
    "\n",
    "#tree_cv_scores = cross_validate(tree_clf, X_train, y_train, cv=5, scoring=metrics_to_calculate)\n",
    "#knn_cv_scores = cross_validate(knn_clf, X_train, y_train, cv=5, scoring=metrics_to_calculate)\n",
    "\n",
    "#print(tree_cv_scores)\n",
    "#print(knn_cv_scores)"
   ]
  },
  {
   "cell_type": "markdown",
   "metadata": {},
   "source": [
    "# Logistic Regression"
   ]
  },
  {
   "cell_type": "code",
   "execution_count": 154,
   "metadata": {},
   "outputs": [],
   "source": [
    "from sklearn.metrics import accuracy_score, confusion_matrix, classification_report\n",
    "from sklearn.linear_model import LogisticRegression"
   ]
  },
  {
   "cell_type": "code",
   "execution_count": 155,
   "metadata": {},
   "outputs": [
    {
     "data": {
      "text/html": [
       "<style>#sk-container-id-4 {color: black;background-color: white;}#sk-container-id-4 pre{padding: 0;}#sk-container-id-4 div.sk-toggleable {background-color: white;}#sk-container-id-4 label.sk-toggleable__label {cursor: pointer;display: block;width: 100%;margin-bottom: 0;padding: 0.3em;box-sizing: border-box;text-align: center;}#sk-container-id-4 label.sk-toggleable__label-arrow:before {content: \"▸\";float: left;margin-right: 0.25em;color: #696969;}#sk-container-id-4 label.sk-toggleable__label-arrow:hover:before {color: black;}#sk-container-id-4 div.sk-estimator:hover label.sk-toggleable__label-arrow:before {color: black;}#sk-container-id-4 div.sk-toggleable__content {max-height: 0;max-width: 0;overflow: hidden;text-align: left;background-color: #f0f8ff;}#sk-container-id-4 div.sk-toggleable__content pre {margin: 0.2em;color: black;border-radius: 0.25em;background-color: #f0f8ff;}#sk-container-id-4 input.sk-toggleable__control:checked~div.sk-toggleable__content {max-height: 200px;max-width: 100%;overflow: auto;}#sk-container-id-4 input.sk-toggleable__control:checked~label.sk-toggleable__label-arrow:before {content: \"▾\";}#sk-container-id-4 div.sk-estimator input.sk-toggleable__control:checked~label.sk-toggleable__label {background-color: #d4ebff;}#sk-container-id-4 div.sk-label input.sk-toggleable__control:checked~label.sk-toggleable__label {background-color: #d4ebff;}#sk-container-id-4 input.sk-hidden--visually {border: 0;clip: rect(1px 1px 1px 1px);clip: rect(1px, 1px, 1px, 1px);height: 1px;margin: -1px;overflow: hidden;padding: 0;position: absolute;width: 1px;}#sk-container-id-4 div.sk-estimator {font-family: monospace;background-color: #f0f8ff;border: 1px dotted black;border-radius: 0.25em;box-sizing: border-box;margin-bottom: 0.5em;}#sk-container-id-4 div.sk-estimator:hover {background-color: #d4ebff;}#sk-container-id-4 div.sk-parallel-item::after {content: \"\";width: 100%;border-bottom: 1px solid gray;flex-grow: 1;}#sk-container-id-4 div.sk-label:hover label.sk-toggleable__label {background-color: #d4ebff;}#sk-container-id-4 div.sk-serial::before {content: \"\";position: absolute;border-left: 1px solid gray;box-sizing: border-box;top: 0;bottom: 0;left: 50%;z-index: 0;}#sk-container-id-4 div.sk-serial {display: flex;flex-direction: column;align-items: center;background-color: white;padding-right: 0.2em;padding-left: 0.2em;position: relative;}#sk-container-id-4 div.sk-item {position: relative;z-index: 1;}#sk-container-id-4 div.sk-parallel {display: flex;align-items: stretch;justify-content: center;background-color: white;position: relative;}#sk-container-id-4 div.sk-item::before, #sk-container-id-4 div.sk-parallel-item::before {content: \"\";position: absolute;border-left: 1px solid gray;box-sizing: border-box;top: 0;bottom: 0;left: 50%;z-index: -1;}#sk-container-id-4 div.sk-parallel-item {display: flex;flex-direction: column;z-index: 1;position: relative;background-color: white;}#sk-container-id-4 div.sk-parallel-item:first-child::after {align-self: flex-end;width: 50%;}#sk-container-id-4 div.sk-parallel-item:last-child::after {align-self: flex-start;width: 50%;}#sk-container-id-4 div.sk-parallel-item:only-child::after {width: 0;}#sk-container-id-4 div.sk-dashed-wrapped {border: 1px dashed gray;margin: 0 0.4em 0.5em 0.4em;box-sizing: border-box;padding-bottom: 0.4em;background-color: white;}#sk-container-id-4 div.sk-label label {font-family: monospace;font-weight: bold;display: inline-block;line-height: 1.2em;}#sk-container-id-4 div.sk-label-container {text-align: center;}#sk-container-id-4 div.sk-container {/* jupyter's `normalize.less` sets `[hidden] { display: none; }` but bootstrap.min.css set `[hidden] { display: none !important; }` so we also need the `!important` here to be able to override the default hidden behavior on the sphinx rendered scikit-learn.org. See: https://github.com/scikit-learn/scikit-learn/issues/21755 */display: inline-block !important;position: relative;}#sk-container-id-4 div.sk-text-repr-fallback {display: none;}</style><div id=\"sk-container-id-4\" class=\"sk-top-container\"><div class=\"sk-text-repr-fallback\"><pre>LogisticRegression()</pre><b>In a Jupyter environment, please rerun this cell to show the HTML representation or trust the notebook. <br />On GitHub, the HTML representation is unable to render, please try loading this page with nbviewer.org.</b></div><div class=\"sk-container\" hidden><div class=\"sk-item\"><div class=\"sk-estimator sk-toggleable\"><input class=\"sk-toggleable__control sk-hidden--visually\" id=\"sk-estimator-id-4\" type=\"checkbox\" checked><label for=\"sk-estimator-id-4\" class=\"sk-toggleable__label sk-toggleable__label-arrow\">LogisticRegression</label><div class=\"sk-toggleable__content\"><pre>LogisticRegression()</pre></div></div></div></div></div>"
      ],
      "text/plain": [
       "LogisticRegression()"
      ]
     },
     "execution_count": 155,
     "metadata": {},
     "output_type": "execute_result"
    }
   ],
   "source": [
    "log_reg = LogisticRegression()\n",
    "log_reg.fit(X_train, y_train)"
   ]
  },
  {
   "cell_type": "code",
   "execution_count": 156,
   "metadata": {},
   "outputs": [
    {
     "name": "stdout",
     "output_type": "stream",
     "text": [
      "LogisticRegression()\n"
     ]
    }
   ],
   "source": [
    "print(log_reg)"
   ]
  },
  {
   "cell_type": "code",
   "execution_count": 157,
   "metadata": {},
   "outputs": [],
   "source": [
    "train_preds = log_reg.predict(X_train)"
   ]
  },
  {
   "cell_type": "code",
   "execution_count": 158,
   "metadata": {},
   "outputs": [
    {
     "data": {
      "text/plain": [
       "0.8958333333333334"
      ]
     },
     "execution_count": 158,
     "metadata": {},
     "output_type": "execute_result"
    }
   ],
   "source": [
    "accuracy_score(y_train, train_preds)"
   ]
  },
  {
   "cell_type": "code",
   "execution_count": 159,
   "metadata": {},
   "outputs": [
    {
     "name": "stdout",
     "output_type": "stream",
     "text": [
      "{'fit_time': array([0.00610018, 0.00690746, 0.00499201, 0.00299001, 0.00596476,\n",
      "       0.00598073, 0.00714517, 0.00496888, 0.00402594, 0.00299191]), 'score_time': array([0.00685811, 0.0049634 , 0.00297928, 0.00601959, 0.00523496,\n",
      "       0.00500607, 0.00399208, 0.0059824 , 0.00298905, 0.00398993]), 'test_accuracy': array([0.91176471, 0.91176471, 0.76470588, 0.88235294, 0.82352941,\n",
      "       0.85294118, 0.96969697, 0.96969697, 0.93939394, 0.90909091]), 'test_precision': array([1.        , 0.92857143, 0.77777778, 0.90909091, 1.        ,\n",
      "       0.83333333, 0.90909091, 1.        , 0.91666667, 0.88888889]), 'test_recall': array([0.7       , 0.86666667, 0.53846154, 0.76923077, 0.53846154,\n",
      "       0.76923077, 1.        , 0.92307692, 0.91666667, 0.8       ]), 'test_f1': array([0.82352941, 0.89655172, 0.63636364, 0.83333333, 0.7       ,\n",
      "       0.8       , 0.95238095, 0.96      , 0.91666667, 0.84210526]), 'test_roc_auc': array([1.        , 0.9754386 , 0.76190476, 0.94871795, 0.82051282,\n",
      "       0.92673993, 1.        , 0.98846154, 0.98015873, 0.94347826])}\n"
     ]
    }
   ],
   "source": [
    "from sklearn import model_selection\n",
    "kfold = model_selection.KFold(n_splits=10, shuffle=True, random_state=42)\n",
    "cv_results = model_selection.cross_validate(log_reg, X_train, y_train, cv=kfold, scoring=['accuracy', 'precision','recall', 'f1', 'roc_auc'])\n",
    "print(cv_results)"
   ]
  },
  {
   "cell_type": "code",
   "execution_count": 160,
   "metadata": {},
   "outputs": [
    {
     "name": "stdout",
     "output_type": "stream",
     "text": [
      "fit_time : 0.005206704139709473\n",
      "score_time : 0.004801487922668457\n",
      "test_accuracy : 0.8934937611408198\n",
      "test_precision : 0.9163419913419913\n",
      "test_recall : 0.7821794871794872\n",
      "test_f1 : 0.8360930987805121\n",
      "test_roc_auc : 0.9345412583856518\n"
     ]
    }
   ],
   "source": [
    "for key,value in cv_results.items():\n",
    "    print(key, ':', value.mean())\n"
   ]
  },
  {
   "cell_type": "code",
   "execution_count": 161,
   "metadata": {},
   "outputs": [
    {
     "name": "stdout",
     "output_type": "stream",
     "text": [
      "LogisticRegression()\n"
     ]
    }
   ],
   "source": [
    "print(log_reg)"
   ]
  },
  {
   "cell_type": "code",
   "execution_count": 162,
   "metadata": {},
   "outputs": [
    {
     "name": "stdout",
     "output_type": "stream",
     "text": [
      "Correlation for feature 0 : 0.6712988272389973\n",
      "Correlation for feature 1 : 0.5597236651450135\n",
      "Correlation for feature 2 : 0.6851125613908227\n",
      "Correlation for feature 3 : 0.4730185869709712\n",
      "Correlation for feature 4 : 0.7159579254012333\n",
      "Correlation for feature 5 : 0.3168372240281584\n",
      "Correlation for feature 6 : 0.441294874899389\n",
      "Correlation for feature 7 : 0.7044145310452449\n",
      "Correlation for feature 8 : -0.013572026264770774\n",
      "Correlation for feature 9 : 0.008889542918121444\n",
      "Correlation for feature 10 : 0.06672852993434251\n",
      "Correlation for feature 11 : -0.023405700592273565\n"
     ]
    }
   ],
   "source": [
    "corr_coef_list = []\n",
    "for i in range(0,X_train.shape[1]):\n",
    "    corr_coeff = np.corrcoef(X_train[:,i], y_train)[0,1]\n",
    "    corr_coef_list.append(corr_coeff)\n",
    "    print(\"Correlation for feature\", i, \":\", corr_coeff)"
   ]
  },
  {
   "cell_type": "code",
   "execution_count": 163,
   "metadata": {},
   "outputs": [
    {
     "data": {
      "text/plain": [
       "12"
      ]
     },
     "execution_count": 163,
     "metadata": {},
     "output_type": "execute_result"
    }
   ],
   "source": [
    "X_train.shape[1]"
   ]
  },
  {
   "cell_type": "code",
   "execution_count": 164,
   "metadata": {},
   "outputs": [
    {
     "data": {
      "text/plain": [
       "[0.6712988272389973,\n",
       " 0.5597236651450135,\n",
       " 0.6851125613908227,\n",
       " 0.4730185869709712,\n",
       " 0.7159579254012333,\n",
       " 0.3168372240281584,\n",
       " 0.441294874899389,\n",
       " 0.7044145310452449,\n",
       " -0.013572026264770774,\n",
       " 0.008889542918121444,\n",
       " 0.06672852993434251,\n",
       " -0.023405700592273565]"
      ]
     },
     "execution_count": 164,
     "metadata": {},
     "output_type": "execute_result"
    }
   ],
   "source": [
    "corr_coef_list"
   ]
  },
  {
   "cell_type": "code",
   "execution_count": 165,
   "metadata": {},
   "outputs": [],
   "source": [
    "selected_features_encoded = ['murkiness.level','avg.dolphins.seen.per.day','previous.week.fishing','diversity.of.prey','seals.seen','water.temp','people.previous.day','seagull.density','common.surfboard.colour_red','common.surfboard.colour_yellow','time.of.day_morning','time.of.day_night']"
   ]
  },
  {
   "cell_type": "code",
   "execution_count": 166,
   "metadata": {},
   "outputs": [
    {
     "data": {
      "text/plain": [
       "{'features': ['murkiness.level',\n",
       "  'avg.dolphins.seen.per.day',\n",
       "  'previous.week.fishing',\n",
       "  'diversity.of.prey',\n",
       "  'seals.seen',\n",
       "  'water.temp',\n",
       "  'people.previous.day',\n",
       "  'seagull.density',\n",
       "  'common.surfboard.colour_red',\n",
       "  'common.surfboard.colour_yellow',\n",
       "  'time.of.day_morning',\n",
       "  'time.of.day_night'],\n",
       " 'weights': [0.6712988272389973,\n",
       "  0.5597236651450135,\n",
       "  0.6851125613908227,\n",
       "  0.4730185869709712,\n",
       "  0.7159579254012333,\n",
       "  0.3168372240281584,\n",
       "  0.441294874899389,\n",
       "  0.7044145310452449,\n",
       "  -0.013572026264770774,\n",
       "  0.008889542918121444,\n",
       "  0.06672852993434251,\n",
       "  -0.023405700592273565]}"
      ]
     },
     "execution_count": 166,
     "metadata": {},
     "output_type": "execute_result"
    }
   ],
   "source": [
    "data = {'features': selected_features_encoded,\n",
    "        'weights': corr_coef_list}\n",
    "data"
   ]
  },
  {
   "cell_type": "code",
   "execution_count": 167,
   "metadata": {},
   "outputs": [
    {
     "data": {
      "text/html": [
       "<div>\n",
       "<style scoped>\n",
       "    .dataframe tbody tr th:only-of-type {\n",
       "        vertical-align: middle;\n",
       "    }\n",
       "\n",
       "    .dataframe tbody tr th {\n",
       "        vertical-align: top;\n",
       "    }\n",
       "\n",
       "    .dataframe thead th {\n",
       "        text-align: right;\n",
       "    }\n",
       "</style>\n",
       "<table border=\"1\" class=\"dataframe\">\n",
       "  <thead>\n",
       "    <tr style=\"text-align: right;\">\n",
       "      <th></th>\n",
       "      <th>features</th>\n",
       "      <th>weights</th>\n",
       "    </tr>\n",
       "  </thead>\n",
       "  <tbody>\n",
       "    <tr>\n",
       "      <th>0</th>\n",
       "      <td>murkiness.level</td>\n",
       "      <td>0.671299</td>\n",
       "    </tr>\n",
       "    <tr>\n",
       "      <th>1</th>\n",
       "      <td>avg.dolphins.seen.per.day</td>\n",
       "      <td>0.559724</td>\n",
       "    </tr>\n",
       "    <tr>\n",
       "      <th>2</th>\n",
       "      <td>previous.week.fishing</td>\n",
       "      <td>0.685113</td>\n",
       "    </tr>\n",
       "    <tr>\n",
       "      <th>3</th>\n",
       "      <td>diversity.of.prey</td>\n",
       "      <td>0.473019</td>\n",
       "    </tr>\n",
       "    <tr>\n",
       "      <th>4</th>\n",
       "      <td>seals.seen</td>\n",
       "      <td>0.715958</td>\n",
       "    </tr>\n",
       "    <tr>\n",
       "      <th>5</th>\n",
       "      <td>water.temp</td>\n",
       "      <td>0.316837</td>\n",
       "    </tr>\n",
       "    <tr>\n",
       "      <th>6</th>\n",
       "      <td>people.previous.day</td>\n",
       "      <td>0.441295</td>\n",
       "    </tr>\n",
       "    <tr>\n",
       "      <th>7</th>\n",
       "      <td>seagull.density</td>\n",
       "      <td>0.704415</td>\n",
       "    </tr>\n",
       "    <tr>\n",
       "      <th>8</th>\n",
       "      <td>common.surfboard.colour_red</td>\n",
       "      <td>-0.013572</td>\n",
       "    </tr>\n",
       "    <tr>\n",
       "      <th>9</th>\n",
       "      <td>common.surfboard.colour_yellow</td>\n",
       "      <td>0.008890</td>\n",
       "    </tr>\n",
       "    <tr>\n",
       "      <th>10</th>\n",
       "      <td>time.of.day_morning</td>\n",
       "      <td>0.066729</td>\n",
       "    </tr>\n",
       "    <tr>\n",
       "      <th>11</th>\n",
       "      <td>time.of.day_night</td>\n",
       "      <td>-0.023406</td>\n",
       "    </tr>\n",
       "  </tbody>\n",
       "</table>\n",
       "</div>"
      ],
      "text/plain": [
       "                          features   weights\n",
       "0                  murkiness.level  0.671299\n",
       "1        avg.dolphins.seen.per.day  0.559724\n",
       "2            previous.week.fishing  0.685113\n",
       "3                diversity.of.prey  0.473019\n",
       "4                       seals.seen  0.715958\n",
       "5                       water.temp  0.316837\n",
       "6              people.previous.day  0.441295\n",
       "7                  seagull.density  0.704415\n",
       "8      common.surfboard.colour_red -0.013572\n",
       "9   common.surfboard.colour_yellow  0.008890\n",
       "10             time.of.day_morning  0.066729\n",
       "11               time.of.day_night -0.023406"
      ]
     },
     "execution_count": 167,
     "metadata": {},
     "output_type": "execute_result"
    }
   ],
   "source": [
    "weight_df = pd.DataFrame(data)\n",
    "weight_df"
   ]
  },
  {
   "cell_type": "code",
   "execution_count": 168,
   "metadata": {},
   "outputs": [
    {
     "data": {
      "text/plain": [
       "<AxesSubplot:xlabel='weights', ylabel='features'>"
      ]
     },
     "execution_count": 168,
     "metadata": {},
     "output_type": "execute_result"
    },
    {
     "data": {
      "image/png": "[encoded data removed]",
      "text/plain": [
       "<Figure size 432x288 with 1 Axes>"
      ]
     },
     "metadata": {
      "needs_background": "light"
     },
     "output_type": "display_data"
    }
   ],
   "source": [
    "sns.barplot(x=\"weights\", y=\"features\", data=weight_df)"
   ]
  },
  {
   "cell_type": "code",
   "execution_count": 169,
   "metadata": {},
   "outputs": [
    {
     "data": {
      "text/plain": [
       "12"
      ]
     },
     "execution_count": 169,
     "metadata": {},
     "output_type": "execute_result"
    }
   ],
   "source": [
    "X_train.shape[1]"
   ]
  },
  {
   "cell_type": "code",
   "execution_count": 170,
   "metadata": {},
   "outputs": [
    {
     "name": "stdout",
     "output_type": "stream",
     "text": [
      "fit_time : 0.003988003730773926\n",
      "score_time : 0.0017203569412231445\n",
      "test_accuracy : 0.8905525846702316\n",
      "test_recall : 0.7867948717948717\n"
     ]
    }
   ],
   "source": [
    "# We can use a list of boolean variables to represent which features we want to keep\n",
    "features_include = [True] * (X_train.shape[1])\n",
    "# To remove a feature, we just set the boolean at its index to false. Here we are removing feature 18\n",
    "features_include[8] = False\n",
    "features_include[9] = False\n",
    "features_include[10] = False\n",
    "features_include[11] = False\n",
    "# Use this list to index the columns, and it will use only the features that are set to True\n",
    "score = model_selection.cross_validate(log_reg, X_train[:, features_include], y_train, cv=kfold, scoring=['accuracy', 'recall'])\n",
    "for key,value in score.items():\n",
    "    print(key, ':', value.mean())\n"
   ]
  },
  {
   "cell_type": "code",
   "execution_count": 85,
   "metadata": {},
   "outputs": [
    {
     "data": {
      "text/plain": [
       "0.8905525846702316"
      ]
     },
     "execution_count": 85,
     "metadata": {},
     "output_type": "execute_result"
    }
   ],
   "source": [
    "cv_results1 = model_selection.cross_val_score(log_reg, X_train[:, features_include], y_train, cv=kfold, scoring='accuracy')\n",
    "np.mean(cv_results1)"
   ]
  },
  {
   "cell_type": "code",
   "execution_count": 97,
   "metadata": {},
   "outputs": [],
   "source": [
    "X_new = X_train[:, features_include]"
   ]
  },
  {
   "cell_type": "code",
   "execution_count": 102,
   "metadata": {},
   "outputs": [
    {
     "data": {
      "text/plain": [
       "(336, 8)"
      ]
     },
     "execution_count": 102,
     "metadata": {},
     "output_type": "execute_result"
    }
   ],
   "source": [
    "X_new.shape"
   ]
  },
  {
   "cell_type": "code",
   "execution_count": 86,
   "metadata": {},
   "outputs": [
    {
     "name": "stdout",
     "output_type": "stream",
     "text": [
      "Best Hyperparameters found: {'C': 0.615848211066026, 'max_iter': 100, 'penalty': 'l1', 'solver': 'saga'}\n",
      "Cross Validation accuracy: 0.8988095238095238\n"
     ]
    },
    {
     "name": "stderr",
     "output_type": "stream",
     "text": [
      "C:\\Users\\super\\anaconda3\\lib\\site-packages\\sklearn\\model_selection\\_validation.py:378: FitFailedWarning: \n",
      "12600 fits failed out of a total of 28000.\n",
      "The score on these train-test partitions for these parameters will be set to nan.\n",
      "If these failures are not expected, you can try to debug them by setting error_score='raise'.\n",
      "\n",
      "Below are more details about the failures:\n",
      "--------------------------------------------------------------------------------\n",
      "1400 fits failed with the following error:\n",
      "Traceback (most recent call last):\n",
      "  File \"C:\\Users\\super\\anaconda3\\lib\\site-packages\\sklearn\\model_selection\\_validation.py\", line 686, in _fit_and_score\n",
      "    estimator.fit(X_train, y_train, **fit_params)\n",
      "  File \"C:\\Users\\super\\anaconda3\\lib\\site-packages\\sklearn\\linear_model\\_logistic.py\", line 1091, in fit\n",
      "    solver = _check_solver(self.solver, self.penalty, self.dual)\n",
      "  File \"C:\\Users\\super\\anaconda3\\lib\\site-packages\\sklearn\\linear_model\\_logistic.py\", line 61, in _check_solver\n",
      "    raise ValueError(\n",
      "ValueError: Solver lbfgs supports only 'l2' or 'none' penalties, got l1 penalty.\n",
      "\n",
      "--------------------------------------------------------------------------------\n",
      "1400 fits failed with the following error:\n",
      "Traceback (most recent call last):\n",
      "  File \"C:\\Users\\super\\anaconda3\\lib\\site-packages\\sklearn\\model_selection\\_validation.py\", line 686, in _fit_and_score\n",
      "    estimator.fit(X_train, y_train, **fit_params)\n",
      "  File \"C:\\Users\\super\\anaconda3\\lib\\site-packages\\sklearn\\linear_model\\_logistic.py\", line 1091, in fit\n",
      "    solver = _check_solver(self.solver, self.penalty, self.dual)\n",
      "  File \"C:\\Users\\super\\anaconda3\\lib\\site-packages\\sklearn\\linear_model\\_logistic.py\", line 61, in _check_solver\n",
      "    raise ValueError(\n",
      "ValueError: Solver newton-cg supports only 'l2' or 'none' penalties, got l1 penalty.\n",
      "\n",
      "--------------------------------------------------------------------------------\n",
      "1400 fits failed with the following error:\n",
      "Traceback (most recent call last):\n",
      "  File \"C:\\Users\\super\\anaconda3\\lib\\site-packages\\sklearn\\model_selection\\_validation.py\", line 686, in _fit_and_score\n",
      "    estimator.fit(X_train, y_train, **fit_params)\n",
      "  File \"C:\\Users\\super\\anaconda3\\lib\\site-packages\\sklearn\\linear_model\\_logistic.py\", line 1091, in fit\n",
      "    solver = _check_solver(self.solver, self.penalty, self.dual)\n",
      "  File \"C:\\Users\\super\\anaconda3\\lib\\site-packages\\sklearn\\linear_model\\_logistic.py\", line 61, in _check_solver\n",
      "    raise ValueError(\n",
      "ValueError: Solver sag supports only 'l2' or 'none' penalties, got l1 penalty.\n",
      "\n",
      "--------------------------------------------------------------------------------\n",
      "1400 fits failed with the following error:\n",
      "Traceback (most recent call last):\n",
      "  File \"C:\\Users\\super\\anaconda3\\lib\\site-packages\\sklearn\\model_selection\\_validation.py\", line 686, in _fit_and_score\n",
      "    estimator.fit(X_train, y_train, **fit_params)\n",
      "  File \"C:\\Users\\super\\anaconda3\\lib\\site-packages\\sklearn\\linear_model\\_logistic.py\", line 1091, in fit\n",
      "    solver = _check_solver(self.solver, self.penalty, self.dual)\n",
      "  File \"C:\\Users\\super\\anaconda3\\lib\\site-packages\\sklearn\\linear_model\\_logistic.py\", line 61, in _check_solver\n",
      "    raise ValueError(\n",
      "ValueError: Solver lbfgs supports only 'l2' or 'none' penalties, got elasticnet penalty.\n",
      "\n",
      "--------------------------------------------------------------------------------\n",
      "1400 fits failed with the following error:\n",
      "Traceback (most recent call last):\n",
      "  File \"C:\\Users\\super\\anaconda3\\lib\\site-packages\\sklearn\\model_selection\\_validation.py\", line 686, in _fit_and_score\n",
      "    estimator.fit(X_train, y_train, **fit_params)\n",
      "  File \"C:\\Users\\super\\anaconda3\\lib\\site-packages\\sklearn\\linear_model\\_logistic.py\", line 1091, in fit\n",
      "    solver = _check_solver(self.solver, self.penalty, self.dual)\n",
      "  File \"C:\\Users\\super\\anaconda3\\lib\\site-packages\\sklearn\\linear_model\\_logistic.py\", line 61, in _check_solver\n",
      "    raise ValueError(\n",
      "ValueError: Solver newton-cg supports only 'l2' or 'none' penalties, got elasticnet penalty.\n",
      "\n",
      "--------------------------------------------------------------------------------\n",
      "1400 fits failed with the following error:\n",
      "Traceback (most recent call last):\n",
      "  File \"C:\\Users\\super\\anaconda3\\lib\\site-packages\\sklearn\\model_selection\\_validation.py\", line 686, in _fit_and_score\n",
      "    estimator.fit(X_train, y_train, **fit_params)\n",
      "  File \"C:\\Users\\super\\anaconda3\\lib\\site-packages\\sklearn\\linear_model\\_logistic.py\", line 1091, in fit\n",
      "    solver = _check_solver(self.solver, self.penalty, self.dual)\n",
      "  File \"C:\\Users\\super\\anaconda3\\lib\\site-packages\\sklearn\\linear_model\\_logistic.py\", line 71, in _check_solver\n",
      "    raise ValueError(\n",
      "ValueError: Only 'saga' solver supports elasticnet penalty, got solver=liblinear.\n",
      "\n",
      "--------------------------------------------------------------------------------\n",
      "1400 fits failed with the following error:\n",
      "Traceback (most recent call last):\n",
      "  File \"C:\\Users\\super\\anaconda3\\lib\\site-packages\\sklearn\\model_selection\\_validation.py\", line 686, in _fit_and_score\n",
      "    estimator.fit(X_train, y_train, **fit_params)\n",
      "  File \"C:\\Users\\super\\anaconda3\\lib\\site-packages\\sklearn\\linear_model\\_logistic.py\", line 1091, in fit\n",
      "    solver = _check_solver(self.solver, self.penalty, self.dual)\n",
      "  File \"C:\\Users\\super\\anaconda3\\lib\\site-packages\\sklearn\\linear_model\\_logistic.py\", line 61, in _check_solver\n",
      "    raise ValueError(\n",
      "ValueError: Solver sag supports only 'l2' or 'none' penalties, got elasticnet penalty.\n",
      "\n",
      "--------------------------------------------------------------------------------\n",
      "1400 fits failed with the following error:\n",
      "Traceback (most recent call last):\n",
      "  File \"C:\\Users\\super\\anaconda3\\lib\\site-packages\\sklearn\\model_selection\\_validation.py\", line 686, in _fit_and_score\n",
      "    estimator.fit(X_train, y_train, **fit_params)\n",
      "  File \"C:\\Users\\super\\anaconda3\\lib\\site-packages\\sklearn\\linear_model\\_logistic.py\", line 1101, in fit\n",
      "    raise ValueError(\n",
      "ValueError: l1_ratio must be between 0 and 1; got (l1_ratio=None)\n",
      "\n",
      "--------------------------------------------------------------------------------\n",
      "1400 fits failed with the following error:\n",
      "Traceback (most recent call last):\n",
      "  File \"C:\\Users\\super\\anaconda3\\lib\\site-packages\\sklearn\\model_selection\\_validation.py\", line 686, in _fit_and_score\n",
      "    estimator.fit(X_train, y_train, **fit_params)\n",
      "  File \"C:\\Users\\super\\anaconda3\\lib\\site-packages\\sklearn\\linear_model\\_logistic.py\", line 1091, in fit\n",
      "    solver = _check_solver(self.solver, self.penalty, self.dual)\n",
      "  File \"C:\\Users\\super\\anaconda3\\lib\\site-packages\\sklearn\\linear_model\\_logistic.py\", line 78, in _check_solver\n",
      "    raise ValueError(\"penalty='none' is not supported for the liblinear solver\")\n",
      "ValueError: penalty='none' is not supported for the liblinear solver\n",
      "\n",
      "  warnings.warn(some_fits_failed_message, FitFailedWarning)\n",
      "C:\\Users\\super\\anaconda3\\lib\\site-packages\\sklearn\\model_selection\\_search.py:953: UserWarning: One or more of the test scores are non-finite: [       nan        nan 0.63716578 ...        nan 0.88458111 0.8815508 ]\n",
      "  warnings.warn(\n"
     ]
    }
   ],
   "source": [
    "# Grid search cross validation\n",
    "from sklearn.model_selection import GridSearchCV\n",
    "\n",
    "param_grid = [    \n",
    "    {'penalty' : ['l1', 'l2', 'elasticnet', 'none'],\n",
    "    'C' : np.logspace(-4, 4, 20),\n",
    "    'solver' : ['lbfgs','newton-cg','liblinear','sag','saga'],\n",
    "    'max_iter' : [10, 20, 50, 100, 200, 500, 1000]\n",
    "    }\n",
    "]\n",
    "\n",
    "# Determine the splits and perform the grid search\n",
    "grid = GridSearchCV(log_reg, param_grid, cv=kfold, scoring = 'accuracy',n_jobs=-1).fit(X_train, y_train)\n",
    "\n",
    "# Select the best estimators\n",
    "log_reg_tuned=grid.best_estimator_\n",
    "\n",
    "# Output the results\n",
    "print(\"Best Hyperparameters found: \" + str(grid.best_params_))\n",
    "print(\"Cross Validation accuracy: \" + str(log_reg_tuned.score(X_train ,y_train)))\n"
   ]
  },
  {
   "cell_type": "code",
   "execution_count": 89,
   "metadata": {},
   "outputs": [
    {
     "name": "stdout",
     "output_type": "stream",
     "text": [
      "LogisticRegression(C=0.615848211066026, penalty='l1', solver='saga')\n"
     ]
    }
   ],
   "source": [
    "print(log_reg_tuned)"
   ]
  },
  {
   "cell_type": "code",
   "execution_count": 94,
   "metadata": {},
   "outputs": [
    {
     "data": {
      "text/html": [
       "<style>#sk-container-id-3 {color: black;background-color: white;}#sk-container-id-3 pre{padding: 0;}#sk-container-id-3 div.sk-toggleable {background-color: white;}#sk-container-id-3 label.sk-toggleable__label {cursor: pointer;display: block;width: 100%;margin-bottom: 0;padding: 0.3em;box-sizing: border-box;text-align: center;}#sk-container-id-3 label.sk-toggleable__label-arrow:before {content: \"▸\";float: left;margin-right: 0.25em;color: #696969;}#sk-container-id-3 label.sk-toggleable__label-arrow:hover:before {color: black;}#sk-container-id-3 div.sk-estimator:hover label.sk-toggleable__label-arrow:before {color: black;}#sk-container-id-3 div.sk-toggleable__content {max-height: 0;max-width: 0;overflow: hidden;text-align: left;background-color: #f0f8ff;}#sk-container-id-3 div.sk-toggleable__content pre {margin: 0.2em;color: black;border-radius: 0.25em;background-color: #f0f8ff;}#sk-container-id-3 input.sk-toggleable__control:checked~div.sk-toggleable__content {max-height: 200px;max-width: 100%;overflow: auto;}#sk-container-id-3 input.sk-toggleable__control:checked~label.sk-toggleable__label-arrow:before {content: \"▾\";}#sk-container-id-3 div.sk-estimator input.sk-toggleable__control:checked~label.sk-toggleable__label {background-color: #d4ebff;}#sk-container-id-3 div.sk-label input.sk-toggleable__control:checked~label.sk-toggleable__label {background-color: #d4ebff;}#sk-container-id-3 input.sk-hidden--visually {border: 0;clip: rect(1px 1px 1px 1px);clip: rect(1px, 1px, 1px, 1px);height: 1px;margin: -1px;overflow: hidden;padding: 0;position: absolute;width: 1px;}#sk-container-id-3 div.sk-estimator {font-family: monospace;background-color: #f0f8ff;border: 1px dotted black;border-radius: 0.25em;box-sizing: border-box;margin-bottom: 0.5em;}#sk-container-id-3 div.sk-estimator:hover {background-color: #d4ebff;}#sk-container-id-3 div.sk-parallel-item::after {content: \"\";width: 100%;border-bottom: 1px solid gray;flex-grow: 1;}#sk-container-id-3 div.sk-label:hover label.sk-toggleable__label {background-color: #d4ebff;}#sk-container-id-3 div.sk-serial::before {content: \"\";position: absolute;border-left: 1px solid gray;box-sizing: border-box;top: 0;bottom: 0;left: 50%;z-index: 0;}#sk-container-id-3 div.sk-serial {display: flex;flex-direction: column;align-items: center;background-color: white;padding-right: 0.2em;padding-left: 0.2em;position: relative;}#sk-container-id-3 div.sk-item {position: relative;z-index: 1;}#sk-container-id-3 div.sk-parallel {display: flex;align-items: stretch;justify-content: center;background-color: white;position: relative;}#sk-container-id-3 div.sk-item::before, #sk-container-id-3 div.sk-parallel-item::before {content: \"\";position: absolute;border-left: 1px solid gray;box-sizing: border-box;top: 0;bottom: 0;left: 50%;z-index: -1;}#sk-container-id-3 div.sk-parallel-item {display: flex;flex-direction: column;z-index: 1;position: relative;background-color: white;}#sk-container-id-3 div.sk-parallel-item:first-child::after {align-self: flex-end;width: 50%;}#sk-container-id-3 div.sk-parallel-item:last-child::after {align-self: flex-start;width: 50%;}#sk-container-id-3 div.sk-parallel-item:only-child::after {width: 0;}#sk-container-id-3 div.sk-dashed-wrapped {border: 1px dashed gray;margin: 0 0.4em 0.5em 0.4em;box-sizing: border-box;padding-bottom: 0.4em;background-color: white;}#sk-container-id-3 div.sk-label label {font-family: monospace;font-weight: bold;display: inline-block;line-height: 1.2em;}#sk-container-id-3 div.sk-label-container {text-align: center;}#sk-container-id-3 div.sk-container {/* jupyter's `normalize.less` sets `[hidden] { display: none; }` but bootstrap.min.css set `[hidden] { display: none !important; }` so we also need the `!important` here to be able to override the default hidden behavior on the sphinx rendered scikit-learn.org. See: https://github.com/scikit-learn/scikit-learn/issues/21755 */display: inline-block !important;position: relative;}#sk-container-id-3 div.sk-text-repr-fallback {display: none;}</style><div id=\"sk-container-id-3\" class=\"sk-top-container\"><div class=\"sk-text-repr-fallback\"><pre>LogisticRegression(C=0.615848211066026, max_iter=1000, penalty=&#x27;l1&#x27;,\n",
       "                   solver=&#x27;saga&#x27;)</pre><b>In a Jupyter environment, please rerun this cell to show the HTML representation or trust the notebook. <br />On GitHub, the HTML representation is unable to render, please try loading this page with nbviewer.org.</b></div><div class=\"sk-container\" hidden><div class=\"sk-item\"><div class=\"sk-estimator sk-toggleable\"><input class=\"sk-toggleable__control sk-hidden--visually\" id=\"sk-estimator-id-3\" type=\"checkbox\" checked><label for=\"sk-estimator-id-3\" class=\"sk-toggleable__label sk-toggleable__label-arrow\">LogisticRegression</label><div class=\"sk-toggleable__content\"><pre>LogisticRegression(C=0.615848211066026, max_iter=1000, penalty=&#x27;l1&#x27;,\n",
       "                   solver=&#x27;saga&#x27;)</pre></div></div></div></div></div>"
      ],
      "text/plain": [
       "LogisticRegression(C=0.615848211066026, max_iter=1000, penalty='l1',\n",
       "                   solver='saga')"
      ]
     },
     "execution_count": 94,
     "metadata": {},
     "output_type": "execute_result"
    }
   ],
   "source": [
    "log_reg_new = LogisticRegression(C=0.615848211066026, penalty='l1', solver='saga', max_iter=1000)\n",
    "log_reg_new.fit(X_train, y_train)"
   ]
  },
  {
   "cell_type": "code",
   "execution_count": 95,
   "metadata": {},
   "outputs": [
    {
     "name": "stdout",
     "output_type": "stream",
     "text": [
      "Log_reg CV Score: 0.9024955436720143\n"
     ]
    }
   ],
   "source": [
    "from sklearn.model_selection import RepeatedStratifiedKFold, KFold, cross_val_predict, train_test_split, GridSearchCV, cross_val_score, cross_validate\n",
    "reg_cv_scores = cross_val_score(log_reg_new, X_train, y_train, cv=kfold)\n",
    "# print the mean of the list of scores\n",
    "print(\"Log_reg CV Score: {}\".format(np.mean(reg_cv_scores)))"
   ]
  },
  {
   "cell_type": "code",
   "execution_count": null,
   "metadata": {},
   "outputs": [],
   "source": []
  },
  {
   "cell_type": "code",
   "execution_count": 172,
   "metadata": {},
   "outputs": [
    {
     "name": "stdout",
     "output_type": "stream",
     "text": [
      "Log_reg CV Score: 0.8905525846702316\n"
     ]
    }
   ],
   "source": [
    "log_reg_new1 = LogisticRegression()\n",
    "log_reg_new1.fit(X_new, y_train)\n",
    "reg_cv_new1 = cross_val_score(log_reg_new1, X_new, y_train, cv=kfold)\n",
    "# print the mean of the list of scores\n",
    "print(\"Log_reg CV Score: {}\".format(np.mean(reg_cv_new1)))"
   ]
  },
  {
   "cell_type": "code",
   "execution_count": 173,
   "metadata": {},
   "outputs": [
    {
     "name": "stdout",
     "output_type": "stream",
     "text": [
      "Best Hyperparameters found: {'C': 0.615848211066026, 'max_iter': 100, 'penalty': 'l1', 'solver': 'saga'}\n"
     ]
    },
    {
     "name": "stderr",
     "output_type": "stream",
     "text": [
      "C:\\Users\\super\\anaconda3\\lib\\site-packages\\sklearn\\model_selection\\_validation.py:378: FitFailedWarning: \n",
      "12600 fits failed out of a total of 28000.\n",
      "The score on these train-test partitions for these parameters will be set to nan.\n",
      "If these failures are not expected, you can try to debug them by setting error_score='raise'.\n",
      "\n",
      "Below are more details about the failures:\n",
      "--------------------------------------------------------------------------------\n",
      "1400 fits failed with the following error:\n",
      "Traceback (most recent call last):\n",
      "  File \"C:\\Users\\super\\anaconda3\\lib\\site-packages\\sklearn\\model_selection\\_validation.py\", line 686, in _fit_and_score\n",
      "    estimator.fit(X_train, y_train, **fit_params)\n",
      "  File \"C:\\Users\\super\\anaconda3\\lib\\site-packages\\sklearn\\linear_model\\_logistic.py\", line 1091, in fit\n",
      "    solver = _check_solver(self.solver, self.penalty, self.dual)\n",
      "  File \"C:\\Users\\super\\anaconda3\\lib\\site-packages\\sklearn\\linear_model\\_logistic.py\", line 61, in _check_solver\n",
      "    raise ValueError(\n",
      "ValueError: Solver lbfgs supports only 'l2' or 'none' penalties, got l1 penalty.\n",
      "\n",
      "--------------------------------------------------------------------------------\n",
      "1400 fits failed with the following error:\n",
      "Traceback (most recent call last):\n",
      "  File \"C:\\Users\\super\\anaconda3\\lib\\site-packages\\sklearn\\model_selection\\_validation.py\", line 686, in _fit_and_score\n",
      "    estimator.fit(X_train, y_train, **fit_params)\n",
      "  File \"C:\\Users\\super\\anaconda3\\lib\\site-packages\\sklearn\\linear_model\\_logistic.py\", line 1091, in fit\n",
      "    solver = _check_solver(self.solver, self.penalty, self.dual)\n",
      "  File \"C:\\Users\\super\\anaconda3\\lib\\site-packages\\sklearn\\linear_model\\_logistic.py\", line 61, in _check_solver\n",
      "    raise ValueError(\n",
      "ValueError: Solver newton-cg supports only 'l2' or 'none' penalties, got l1 penalty.\n",
      "\n",
      "--------------------------------------------------------------------------------\n",
      "1400 fits failed with the following error:\n",
      "Traceback (most recent call last):\n",
      "  File \"C:\\Users\\super\\anaconda3\\lib\\site-packages\\sklearn\\model_selection\\_validation.py\", line 686, in _fit_and_score\n",
      "    estimator.fit(X_train, y_train, **fit_params)\n",
      "  File \"C:\\Users\\super\\anaconda3\\lib\\site-packages\\sklearn\\linear_model\\_logistic.py\", line 1091, in fit\n",
      "    solver = _check_solver(self.solver, self.penalty, self.dual)\n",
      "  File \"C:\\Users\\super\\anaconda3\\lib\\site-packages\\sklearn\\linear_model\\_logistic.py\", line 61, in _check_solver\n",
      "    raise ValueError(\n",
      "ValueError: Solver sag supports only 'l2' or 'none' penalties, got l1 penalty.\n",
      "\n",
      "--------------------------------------------------------------------------------\n",
      "1400 fits failed with the following error:\n",
      "Traceback (most recent call last):\n",
      "  File \"C:\\Users\\super\\anaconda3\\lib\\site-packages\\sklearn\\model_selection\\_validation.py\", line 686, in _fit_and_score\n",
      "    estimator.fit(X_train, y_train, **fit_params)\n",
      "  File \"C:\\Users\\super\\anaconda3\\lib\\site-packages\\sklearn\\linear_model\\_logistic.py\", line 1091, in fit\n",
      "    solver = _check_solver(self.solver, self.penalty, self.dual)\n",
      "  File \"C:\\Users\\super\\anaconda3\\lib\\site-packages\\sklearn\\linear_model\\_logistic.py\", line 61, in _check_solver\n",
      "    raise ValueError(\n",
      "ValueError: Solver lbfgs supports only 'l2' or 'none' penalties, got elasticnet penalty.\n",
      "\n",
      "--------------------------------------------------------------------------------\n",
      "1400 fits failed with the following error:\n",
      "Traceback (most recent call last):\n",
      "  File \"C:\\Users\\super\\anaconda3\\lib\\site-packages\\sklearn\\model_selection\\_validation.py\", line 686, in _fit_and_score\n",
      "    estimator.fit(X_train, y_train, **fit_params)\n",
      "  File \"C:\\Users\\super\\anaconda3\\lib\\site-packages\\sklearn\\linear_model\\_logistic.py\", line 1091, in fit\n",
      "    solver = _check_solver(self.solver, self.penalty, self.dual)\n",
      "  File \"C:\\Users\\super\\anaconda3\\lib\\site-packages\\sklearn\\linear_model\\_logistic.py\", line 61, in _check_solver\n",
      "    raise ValueError(\n",
      "ValueError: Solver newton-cg supports only 'l2' or 'none' penalties, got elasticnet penalty.\n",
      "\n",
      "--------------------------------------------------------------------------------\n",
      "1400 fits failed with the following error:\n",
      "Traceback (most recent call last):\n",
      "  File \"C:\\Users\\super\\anaconda3\\lib\\site-packages\\sklearn\\model_selection\\_validation.py\", line 686, in _fit_and_score\n",
      "    estimator.fit(X_train, y_train, **fit_params)\n",
      "  File \"C:\\Users\\super\\anaconda3\\lib\\site-packages\\sklearn\\linear_model\\_logistic.py\", line 1091, in fit\n",
      "    solver = _check_solver(self.solver, self.penalty, self.dual)\n",
      "  File \"C:\\Users\\super\\anaconda3\\lib\\site-packages\\sklearn\\linear_model\\_logistic.py\", line 71, in _check_solver\n",
      "    raise ValueError(\n",
      "ValueError: Only 'saga' solver supports elasticnet penalty, got solver=liblinear.\n",
      "\n",
      "--------------------------------------------------------------------------------\n",
      "1400 fits failed with the following error:\n",
      "Traceback (most recent call last):\n",
      "  File \"C:\\Users\\super\\anaconda3\\lib\\site-packages\\sklearn\\model_selection\\_validation.py\", line 686, in _fit_and_score\n",
      "    estimator.fit(X_train, y_train, **fit_params)\n",
      "  File \"C:\\Users\\super\\anaconda3\\lib\\site-packages\\sklearn\\linear_model\\_logistic.py\", line 1091, in fit\n",
      "    solver = _check_solver(self.solver, self.penalty, self.dual)\n",
      "  File \"C:\\Users\\super\\anaconda3\\lib\\site-packages\\sklearn\\linear_model\\_logistic.py\", line 61, in _check_solver\n",
      "    raise ValueError(\n",
      "ValueError: Solver sag supports only 'l2' or 'none' penalties, got elasticnet penalty.\n",
      "\n",
      "--------------------------------------------------------------------------------\n",
      "1400 fits failed with the following error:\n",
      "Traceback (most recent call last):\n",
      "  File \"C:\\Users\\super\\anaconda3\\lib\\site-packages\\sklearn\\model_selection\\_validation.py\", line 686, in _fit_and_score\n",
      "    estimator.fit(X_train, y_train, **fit_params)\n",
      "  File \"C:\\Users\\super\\anaconda3\\lib\\site-packages\\sklearn\\linear_model\\_logistic.py\", line 1101, in fit\n",
      "    raise ValueError(\n",
      "ValueError: l1_ratio must be between 0 and 1; got (l1_ratio=None)\n",
      "\n",
      "--------------------------------------------------------------------------------\n",
      "1400 fits failed with the following error:\n",
      "Traceback (most recent call last):\n",
      "  File \"C:\\Users\\super\\anaconda3\\lib\\site-packages\\sklearn\\model_selection\\_validation.py\", line 686, in _fit_and_score\n",
      "    estimator.fit(X_train, y_train, **fit_params)\n",
      "  File \"C:\\Users\\super\\anaconda3\\lib\\site-packages\\sklearn\\linear_model\\_logistic.py\", line 1091, in fit\n",
      "    solver = _check_solver(self.solver, self.penalty, self.dual)\n",
      "  File \"C:\\Users\\super\\anaconda3\\lib\\site-packages\\sklearn\\linear_model\\_logistic.py\", line 78, in _check_solver\n",
      "    raise ValueError(\"penalty='none' is not supported for the liblinear solver\")\n",
      "ValueError: penalty='none' is not supported for the liblinear solver\n",
      "\n",
      "  warnings.warn(some_fits_failed_message, FitFailedWarning)\n",
      "C:\\Users\\super\\anaconda3\\lib\\site-packages\\sklearn\\model_selection\\_search.py:953: UserWarning: One or more of the test scores are non-finite: [       nan        nan 0.63716578 ...        nan 0.89643494 0.89643494]\n",
      "  warnings.warn(\n"
     ]
    }
   ],
   "source": [
    "# Grid search cross validation\n",
    "\n",
    "# Determine the splits and perform the grid search\n",
    "grid1 = GridSearchCV(log_reg_new1, param_grid, cv=kfold, scoring = 'accuracy',n_jobs=-1).fit(X_new, y_train)\n",
    "\n",
    "# Select the best estimators\n",
    "log_reg_tuned1=grid.best_estimator_\n",
    "\n",
    "# Output the results\n",
    "print(\"Best Hyperparameters found: \" + str(grid.best_params_))\n",
    "#print(\"Cross Validation accuracy: \" + str(log_reg_tuned1.score(X_new ,y_train)))"
   ]
  },
  {
   "cell_type": "code",
   "execution_count": 174,
   "metadata": {},
   "outputs": [
    {
     "name": "stdout",
     "output_type": "stream",
     "text": [
      "Log_reg CV Score: 0.8966131907308379\n"
     ]
    },
    {
     "name": "stderr",
     "output_type": "stream",
     "text": [
      "C:\\Users\\super\\anaconda3\\lib\\site-packages\\sklearn\\linear_model\\_sag.py:350: ConvergenceWarning: The max_iter was reached which means the coef_ did not converge\n",
      "  warnings.warn(\n"
     ]
    }
   ],
   "source": [
    "reg_cv_new1 = cross_val_score(log_reg_tuned1, X_new, y_train, cv=kfold)\n",
    "# print the mean of the list of scores\n",
    "print(\"Log_reg CV Score: {}\".format(np.mean(reg_cv_new1)))"
   ]
  },
  {
   "cell_type": "code",
   "execution_count": 803,
   "metadata": {},
   "outputs": [
    {
     "name": "stdout",
     "output_type": "stream",
     "text": [
      "LogisticRegression(class_weight='balanced', max_iter=20, solver='newton-cg')\n"
     ]
    }
   ],
   "source": [
    "print(log_reg_tuned)"
   ]
  },
  {
   "cell_type": "code",
   "execution_count": 790,
   "metadata": {},
   "outputs": [
    {
     "name": "stdout",
     "output_type": "stream",
     "text": [
      "Log_reg CV Score: 0.8868092691622103\n"
     ]
    }
   ],
   "source": [
    "reg_cv_scores = cross_val_score(log_reg_tuned, X_new, y_train, cv=kfold)\n",
    "# print the mean of the list of scores\n",
    "print(\"Log_reg CV Score: {}\".format(np.mean(reg_cv_scores)))"
   ]
  },
  {
   "cell_type": "code",
   "execution_count": null,
   "metadata": {},
   "outputs": [],
   "source": []
  },
  {
   "cell_type": "code",
   "execution_count": 791,
   "metadata": {},
   "outputs": [
    {
     "data": {
      "text/plain": [
       "array([[0.22523546, 0.03266872, 0.13732604, ..., 0.18772734, 0.02145923,\n",
       "        0.28487973],\n",
       "       [0.27067064, 0.0343823 , 0.1193837 , ..., 0.35918986, 0.05579399,\n",
       "        0.28261168],\n",
       "       [0.1930522 , 0.08111738, 0.16605368, ..., 0.42599411, 0.08583691,\n",
       "        0.36941581],\n",
       "       ...,\n",
       "       [0.24795305, 0.12649741, 0.10765408, ..., 0.41561915, 0.09012876,\n",
       "        0.27793814],\n",
       "       [0.23896067, 0.00220279, 0.02779324, ..., 0.17398877, 0.01716738,\n",
       "        0.09608247],\n",
       "       [0.12423683, 0.13066042, 0.1139165 , ..., 0.30818048, 0.15450644,\n",
       "        0.2790378 ]])"
      ]
     },
     "execution_count": 791,
     "metadata": {},
     "output_type": "execute_result"
    }
   ],
   "source": [
    "X_new"
   ]
  },
  {
   "cell_type": "code",
   "execution_count": 792,
   "metadata": {},
   "outputs": [
    {
     "name": "stdout",
     "output_type": "stream",
     "text": [
      "216 121\n"
     ]
    }
   ],
   "source": [
    "num_zeros = (y_train == 0).sum()\n",
    "num_ones = (y_train == 1).sum()\n",
    "print(num_zeros, num_ones)"
   ]
  },
  {
   "cell_type": "code",
   "execution_count": 744,
   "metadata": {},
   "outputs": [
    {
     "name": "stdout",
     "output_type": "stream",
     "text": [
      "Shape of X_new before SMOTE: (337, 8)\n",
      "Shape of X_train after SMOTE: (432, 8)\n",
      "\n",
      "Balance of positive and negative classes (%):\n",
      "216 216\n"
     ]
    }
   ],
   "source": [
    "from imblearn.over_sampling import SMOTE \n",
    "\n",
    "sm = SMOTE(random_state=0)\n",
    "\n",
    "X_sm, y_sm = sm.fit_resample(X_new, y_train)\n",
    "\n",
    "print(f'''Shape of X_new before SMOTE: {X_new.shape}\n",
    "Shape of X_train after SMOTE: {X_sm.shape}''')\n",
    "\n",
    "print('\\nBalance of positive and negative classes (%):')\n",
    "num_zeros = (y_sm == 0).sum()\n",
    "num_ones = (y_sm == 1).sum()\n",
    "print(num_zeros, num_ones)"
   ]
  },
  {
   "cell_type": "code",
   "execution_count": 796,
   "metadata": {},
   "outputs": [
    {
     "name": "stdout",
     "output_type": "stream",
     "text": [
      "fit_time : 0.006480026245117188\n",
      "score_time : 0.0013978004455566407\n",
      "test_accuracy : 0.8887949260042284\n",
      "test_recall : 0.8627067343832933\n"
     ]
    }
   ],
   "source": [
    "score_smote = model_selection.cross_validate(log_reg_tuned, X_sm, y_sm, cv=kfold, scoring=['accuracy', 'recall'])\n",
    "for key,value in score_smote.items():\n",
    "    print(key, ':', value.mean())"
   ]
  },
  {
   "cell_type": "code",
   "execution_count": 797,
   "metadata": {},
   "outputs": [
    {
     "name": "stdout",
     "output_type": "stream",
     "text": [
      "original dataset shape: 121\n",
      "Resample dataset shape 121\n"
     ]
    }
   ],
   "source": [
    "# import library\n",
    "from imblearn.under_sampling import RandomUnderSampler\n",
    "\n",
    "rus = RandomUnderSampler(random_state=0, replacement=True)# fit predictor and target variable\n",
    "x_rus, y_rus = rus.fit_resample(X_train, y_train)\n",
    "\n",
    "print('original dataset shape:', y_train.sum())\n",
    "print('Resample dataset shape', y_rus.sum())"
   ]
  },
  {
   "cell_type": "code",
   "execution_count": 798,
   "metadata": {
    "scrolled": true
   },
   "outputs": [
    {
     "name": "stdout",
     "output_type": "stream",
     "text": [
      "fit_time : 0.006090927124023438\n",
      "score_time : 0.0014873743057250977\n",
      "test_accuracy : 0.8841666666666667\n",
      "test_recall : 0.8539606227106227\n"
     ]
    }
   ],
   "source": [
    "score_undersamp = model_selection.cross_validate(log_reg_tuned, x_rus, y_rus, cv=kfold, scoring=['accuracy', 'recall'])\n",
    "for key,value in score_undersamp.items():\n",
    "    print(key, ':', value.mean())"
   ]
  },
  {
   "cell_type": "markdown",
   "metadata": {},
   "source": [
    "# test_accuracy : 0.8887949260042284, test_recall : 0.8627067343832933 Feature filters. GridSearch, SMOTE"
   ]
  },
  {
   "cell_type": "markdown",
   "metadata": {},
   "source": [
    "# Random Forest"
   ]
  },
  {
   "cell_type": "code",
   "execution_count": 187,
   "metadata": {},
   "outputs": [
    {
     "data": {
      "text/html": [
       "<style>#sk-container-id-6 {color: black;background-color: white;}#sk-container-id-6 pre{padding: 0;}#sk-container-id-6 div.sk-toggleable {background-color: white;}#sk-container-id-6 label.sk-toggleable__label {cursor: pointer;display: block;width: 100%;margin-bottom: 0;padding: 0.3em;box-sizing: border-box;text-align: center;}#sk-container-id-6 label.sk-toggleable__label-arrow:before {content: \"▸\";float: left;margin-right: 0.25em;color: #696969;}#sk-container-id-6 label.sk-toggleable__label-arrow:hover:before {color: black;}#sk-container-id-6 div.sk-estimator:hover label.sk-toggleable__label-arrow:before {color: black;}#sk-container-id-6 div.sk-toggleable__content {max-height: 0;max-width: 0;overflow: hidden;text-align: left;background-color: #f0f8ff;}#sk-container-id-6 div.sk-toggleable__content pre {margin: 0.2em;color: black;border-radius: 0.25em;background-color: #f0f8ff;}#sk-container-id-6 input.sk-toggleable__control:checked~div.sk-toggleable__content {max-height: 200px;max-width: 100%;overflow: auto;}#sk-container-id-6 input.sk-toggleable__control:checked~label.sk-toggleable__label-arrow:before {content: \"▾\";}#sk-container-id-6 div.sk-estimator input.sk-toggleable__control:checked~label.sk-toggleable__label {background-color: #d4ebff;}#sk-container-id-6 div.sk-label input.sk-toggleable__control:checked~label.sk-toggleable__label {background-color: #d4ebff;}#sk-container-id-6 input.sk-hidden--visually {border: 0;clip: rect(1px 1px 1px 1px);clip: rect(1px, 1px, 1px, 1px);height: 1px;margin: -1px;overflow: hidden;padding: 0;position: absolute;width: 1px;}#sk-container-id-6 div.sk-estimator {font-family: monospace;background-color: #f0f8ff;border: 1px dotted black;border-radius: 0.25em;box-sizing: border-box;margin-bottom: 0.5em;}#sk-container-id-6 div.sk-estimator:hover {background-color: #d4ebff;}#sk-container-id-6 div.sk-parallel-item::after {content: \"\";width: 100%;border-bottom: 1px solid gray;flex-grow: 1;}#sk-container-id-6 div.sk-label:hover label.sk-toggleable__label {background-color: #d4ebff;}#sk-container-id-6 div.sk-serial::before {content: \"\";position: absolute;border-left: 1px solid gray;box-sizing: border-box;top: 0;bottom: 0;left: 50%;z-index: 0;}#sk-container-id-6 div.sk-serial {display: flex;flex-direction: column;align-items: center;background-color: white;padding-right: 0.2em;padding-left: 0.2em;position: relative;}#sk-container-id-6 div.sk-item {position: relative;z-index: 1;}#sk-container-id-6 div.sk-parallel {display: flex;align-items: stretch;justify-content: center;background-color: white;position: relative;}#sk-container-id-6 div.sk-item::before, #sk-container-id-6 div.sk-parallel-item::before {content: \"\";position: absolute;border-left: 1px solid gray;box-sizing: border-box;top: 0;bottom: 0;left: 50%;z-index: -1;}#sk-container-id-6 div.sk-parallel-item {display: flex;flex-direction: column;z-index: 1;position: relative;background-color: white;}#sk-container-id-6 div.sk-parallel-item:first-child::after {align-self: flex-end;width: 50%;}#sk-container-id-6 div.sk-parallel-item:last-child::after {align-self: flex-start;width: 50%;}#sk-container-id-6 div.sk-parallel-item:only-child::after {width: 0;}#sk-container-id-6 div.sk-dashed-wrapped {border: 1px dashed gray;margin: 0 0.4em 0.5em 0.4em;box-sizing: border-box;padding-bottom: 0.4em;background-color: white;}#sk-container-id-6 div.sk-label label {font-family: monospace;font-weight: bold;display: inline-block;line-height: 1.2em;}#sk-container-id-6 div.sk-label-container {text-align: center;}#sk-container-id-6 div.sk-container {/* jupyter's `normalize.less` sets `[hidden] { display: none; }` but bootstrap.min.css set `[hidden] { display: none !important; }` so we also need the `!important` here to be able to override the default hidden behavior on the sphinx rendered scikit-learn.org. See: https://github.com/scikit-learn/scikit-learn/issues/21755 */display: inline-block !important;position: relative;}#sk-container-id-6 div.sk-text-repr-fallback {display: none;}</style><div id=\"sk-container-id-6\" class=\"sk-top-container\"><div class=\"sk-text-repr-fallback\"><pre>RandomForestClassifier(random_state=42)</pre><b>In a Jupyter environment, please rerun this cell to show the HTML representation or trust the notebook. <br />On GitHub, the HTML representation is unable to render, please try loading this page with nbviewer.org.</b></div><div class=\"sk-container\" hidden><div class=\"sk-item\"><div class=\"sk-estimator sk-toggleable\"><input class=\"sk-toggleable__control sk-hidden--visually\" id=\"sk-estimator-id-6\" type=\"checkbox\" checked><label for=\"sk-estimator-id-6\" class=\"sk-toggleable__label sk-toggleable__label-arrow\">RandomForestClassifier</label><div class=\"sk-toggleable__content\"><pre>RandomForestClassifier(random_state=42)</pre></div></div></div></div></div>"
      ],
      "text/plain": [
       "RandomForestClassifier(random_state=42)"
      ]
     },
     "execution_count": 187,
     "metadata": {},
     "output_type": "execute_result"
    }
   ],
   "source": [
    "from sklearn.ensemble import RandomForestClassifier\n",
    "\n",
    "rf = RandomForestClassifier(random_state=42)\n",
    "rf.fit(X_train, y_train)"
   ]
  },
  {
   "cell_type": "code",
   "execution_count": 188,
   "metadata": {},
   "outputs": [
    {
     "data": {
      "text/plain": [
       "1.0"
      ]
     },
     "execution_count": 188,
     "metadata": {},
     "output_type": "execute_result"
    }
   ],
   "source": [
    "train_preds = rf.predict(X_train)\n",
    "\n",
    "accuracy_score(y_train, train_preds)"
   ]
  },
  {
   "cell_type": "code",
   "execution_count": 232,
   "metadata": {},
   "outputs": [],
   "source": [
    "kfold = model_selection.KFold(n_splits=10, shuffle=True, random_state=18)"
   ]
  },
  {
   "cell_type": "code",
   "execution_count": 189,
   "metadata": {},
   "outputs": [
    {
     "name": "stdout",
     "output_type": "stream",
     "text": [
      "fit_time : 0.14811487197875978\n",
      "score_time : 0.022787976264953613\n",
      "test_accuracy : 0.8875222816399286\n",
      "test_precision : 0.863548951048951\n",
      "test_recall : 0.8275641025641025\n",
      "test_f1 : 0.8398578088578088\n",
      "test_roc_auc : 0.9290492640464038\n"
     ]
    }
   ],
   "source": [
    "from sklearn.model_selection import cross_val_score\n",
    "# Use this list to index the columns, and it will use only the features that are set to True\n",
    "cv_results_rf = model_selection.cross_validate(rf, X_train, y_train, cv=kfold, scoring=['accuracy', 'precision','recall', 'f1', 'roc_auc'])\n",
    "\n",
    "for key,value in cv_results_rf.items():\n",
    "    print(key, ':', value.mean())"
   ]
  },
  {
   "cell_type": "code",
   "execution_count": null,
   "metadata": {},
   "outputs": [],
   "source": [
    "\n"
   ]
  },
  {
   "cell_type": "code",
   "execution_count": 233,
   "metadata": {},
   "outputs": [
    {
     "name": "stdout",
     "output_type": "stream",
     "text": [
      "Best Hyperparameters found: {'max_depth': 9, 'max_features': 3, 'min_samples_split': 5, 'n_estimators': 50}\n",
      "Cross Validation accuracy: 0.9732142857142857\n"
     ]
    }
   ],
   "source": [
    "# Grid search cross validation\n",
    "from sklearn.model_selection import GridSearchCV\n",
    "\n",
    "param_grid_rf = {'n_estimators':[50, 100, 300],\n",
    "             'max_features':[2, 3, 4],\n",
    "             'max_depth':[3, 5, 7, 9],\n",
    "             'min_samples_split':[2, 5, 8]}\n",
    "\n",
    "# Determine the splits and perform the grid search\n",
    "grid = GridSearchCV(rf, param_grid_rf, cv=kfold, scoring = 'accuracy',n_jobs=-1).fit(X_train, y_train)\n",
    "\n",
    "# Select the best estimators\n",
    "rf_tuned=grid.best_estimator_\n",
    "\n",
    "# Output the results\n",
    "print(\"Best Hyperparameters found: \" + str(grid.best_params_))\n",
    "print(\"Cross Validation accuracy: \" + str(rf_tuned.score(X_train ,y_train)))"
   ]
  },
  {
   "cell_type": "code",
   "execution_count": 191,
   "metadata": {},
   "outputs": [
    {
     "name": "stdout",
     "output_type": "stream",
     "text": [
      "RandomForestClassifier(max_depth=7, max_features=2, min_samples_split=5,\n",
      "                       n_estimators=50, random_state=42)\n"
     ]
    }
   ],
   "source": [
    "print(rf_tuned)"
   ]
  },
  {
   "cell_type": "code",
   "execution_count": 234,
   "metadata": {},
   "outputs": [
    {
     "name": "stdout",
     "output_type": "stream",
     "text": [
      "RandomFores CV Score: 0.901693404634581\n"
     ]
    }
   ],
   "source": [
    "rf_cv_scores = cross_val_score(rf_tuned, X_train, y_train, cv=kfold)\n",
    "# print the mean of the list of scores\n",
    "print(\"RandomFores CV Score: {}\".format(np.mean(rf_cv_scores)))"
   ]
  },
  {
   "cell_type": "code",
   "execution_count": 200,
   "metadata": {},
   "outputs": [
    {
     "name": "stdout",
     "output_type": "stream",
     "text": [
      "RandomFores CV Score: 0.8815508021390375\n"
     ]
    }
   ],
   "source": [
    "rf_cv_scores1 = cross_val_score(rf_tuned, X_new, y_train, cv=kfold)\n",
    "# print the mean of the list of scores\n",
    "print(\"RandomFores CV Score: {}\".format(np.mean(rf_cv_scores1)))"
   ]
  },
  {
   "cell_type": "code",
   "execution_count": 196,
   "metadata": {},
   "outputs": [
    {
     "data": {
      "text/plain": [
       "array([[0.33614641, 0.23545024, 0.43653082, ..., 0.49630415, 0.42918455,\n",
       "        0.92817869],\n",
       "       [0.60993082, 0.18529072, 0.38399602, ..., 0.19852585, 0.05150215,\n",
       "        0.48969072],\n",
       "       [0.51474412, 0.30435522, 0.52683897, ..., 0.33767098, 0.09012876,\n",
       "        0.45532646],\n",
       "       ...,\n",
       "       [0.26892694, 0.0437956 , 0.16277336, ..., 0.20936548, 0.0472103 ,\n",
       "        0.27347079],\n",
       "       [0.0985722 , 0.        , 0.        , ..., 0.30880486, 0.01716738,\n",
       "        0.        ],\n",
       "       [0.17521221, 0.259283  , 0.14184891, ..., 0.38022612, 0.26180258,\n",
       "        0.4185567 ]])"
      ]
     },
     "execution_count": 196,
     "metadata": {},
     "output_type": "execute_result"
    }
   ],
   "source": [
    "from sklearn.feature_selection import SelectKBest\n",
    "from sklearn.feature_selection import chi2\n",
    "X_new_rf = SelectKBest(chi2, k=8).fit_transform(X_train, y_train)\n",
    "X_new_rf"
   ]
  },
  {
   "cell_type": "code",
   "execution_count": 198,
   "metadata": {},
   "outputs": [
    {
     "name": "stdout",
     "output_type": "stream",
     "text": [
      "Best Hyperparameters found: {'max_depth': 3, 'max_features': 4, 'min_samples_split': 2, 'n_estimators': 50}\n",
      "Cross Validation accuracy: 0.9315476190476191\n"
     ]
    }
   ],
   "source": [
    "# Grid search cross validation\n",
    "from sklearn.model_selection import GridSearchCV\n",
    "\n",
    "param_grid_rf = {'n_estimators':[50, 100, 300],\n",
    "             'max_features':[2, 3, 4],\n",
    "             'max_depth':[3, 5, 7, 9],\n",
    "             'min_samples_split':[2, 5, 8]}\n",
    "\n",
    "# Determine the splits and perform the grid search\n",
    "grid = GridSearchCV(rf, param_grid_rf, cv=kfold, scoring = 'accuracy',n_jobs=-1).fit(X_new_rf, y_train)\n",
    "\n",
    "# Select the best estimators\n",
    "rf_tuned1=grid.best_estimator_\n",
    "\n",
    "# Output the results\n",
    "print(\"Best Hyperparameters found: \" + str(grid.best_params_))\n",
    "print(\"Cross Validation accuracy: \" + str(rf_tuned1.score(X_new_rf ,y_train)))"
   ]
  },
  {
   "cell_type": "code",
   "execution_count": 199,
   "metadata": {},
   "outputs": [
    {
     "name": "stdout",
     "output_type": "stream",
     "text": [
      "Random forest CV Score: 0.8904634581105171\n"
     ]
    }
   ],
   "source": [
    "tree_cv_scores = cross_val_score(rf_tuned1, X_new_rf, y_train, cv=kfold)\n",
    "# print the mean of the list of scores\n",
    "print(\"Random forest CV Score: {}\".format(np.mean(tree_cv_scores)))"
   ]
  },
  {
   "cell_type": "code",
   "execution_count": 201,
   "metadata": {},
   "outputs": [
    {
     "name": "stdout",
     "output_type": "stream",
     "text": [
      "Shape of X_new before SMOTE: (336, 12)\n",
      "Shape of X_train after SMOTE: (428, 12)\n",
      "\n",
      "Balance of positive and negative classes (%):\n",
      "214 214\n"
     ]
    }
   ],
   "source": [
    "from imblearn.over_sampling import SMOTE \n",
    "\n",
    "sm1 = SMOTE(random_state=0)\n",
    "\n",
    "#X_sm1, y_sm1 = sm1.fit_resample(X_new_rf, y_train)\n",
    "X_sm1, y_sm1 = sm1.fit_resample(X_train, y_train)\n",
    "\n",
    "#print(f'''Shape of X_new before SMOTE: {X_new_rf.shape}\n",
    "print(f'''Shape of X_new before SMOTE: {X_train.shape}\n",
    "Shape of X_train after SMOTE: {X_sm1.shape}''')\n",
    "\n",
    "print('\\nBalance of positive and negative classes (%):')\n",
    "num_zeros = (y_sm1 == 0).sum()\n",
    "num_ones = (y_sm1 == 1).sum()\n",
    "print(num_zeros, num_ones)"
   ]
  },
  {
   "cell_type": "code",
   "execution_count": 202,
   "metadata": {},
   "outputs": [
    {
     "name": "stdout",
     "output_type": "stream",
     "text": [
      "fit_time : 0.07537705898284912\n",
      "score_time : 0.006188297271728515\n",
      "test_accuracy : 0.89734219269103\n",
      "test_recall : 0.8819975528352835\n"
     ]
    }
   ],
   "source": [
    "score_rf_smote1 = model_selection.cross_validate(rf_tuned, X_sm1, y_sm1, cv=kfold, scoring=['accuracy', 'recall'])\n",
    "for key,value in score_rf_smote1.items():\n",
    "    print(key, ':', value.mean())"
   ]
  },
  {
   "cell_type": "code",
   "execution_count": 204,
   "metadata": {},
   "outputs": [
    {
     "name": "stdout",
     "output_type": "stream",
     "text": [
      "original dataset shape: 122\n",
      "Resample dataset shape 122\n"
     ]
    }
   ],
   "source": [
    "from imblearn.under_sampling import RandomUnderSampler\n",
    "rus1 = RandomUnderSampler(random_state=42, replacement=True)# fit predictor and target variable\n",
    "x_rus1, y_rus1 = rus1.fit_resample(X_train, y_train)\n",
    "\n",
    "print('original dataset shape:', y_train.sum())\n",
    "print('Resample dataset shape', y_rus1.sum())"
   ]
  },
  {
   "cell_type": "code",
   "execution_count": 207,
   "metadata": {},
   "outputs": [
    {
     "name": "stdout",
     "output_type": "stream",
     "text": [
      "fit_time : 0.06866123676300048\n",
      "score_time : 0.0060948610305786135\n",
      "test_accuracy : 0.8889999999999999\n",
      "test_recall : 0.8583549783549783\n"
     ]
    }
   ],
   "source": [
    "score_rf_undersamp1 = model_selection.cross_validate(rf_tuned, x_rus1, y_rus1, cv=kfold, scoring=['accuracy', 'recall'])\n",
    "for key,value in score_rf_undersamp1.items():\n",
    "    print(key, ':', value.mean())"
   ]
  },
  {
   "cell_type": "code",
   "execution_count": null,
   "metadata": {},
   "outputs": [],
   "source": []
  },
  {
   "cell_type": "markdown",
   "metadata": {},
   "source": [
    "# MLP"
   ]
  },
  {
   "cell_type": "code",
   "execution_count": 214,
   "metadata": {},
   "outputs": [
    {
     "data": {
      "text/html": [
       "<style>#sk-container-id-10 {color: black;background-color: white;}#sk-container-id-10 pre{padding: 0;}#sk-container-id-10 div.sk-toggleable {background-color: white;}#sk-container-id-10 label.sk-toggleable__label {cursor: pointer;display: block;width: 100%;margin-bottom: 0;padding: 0.3em;box-sizing: border-box;text-align: center;}#sk-container-id-10 label.sk-toggleable__label-arrow:before {content: \"▸\";float: left;margin-right: 0.25em;color: #696969;}#sk-container-id-10 label.sk-toggleable__label-arrow:hover:before {color: black;}#sk-container-id-10 div.sk-estimator:hover label.sk-toggleable__label-arrow:before {color: black;}#sk-container-id-10 div.sk-toggleable__content {max-height: 0;max-width: 0;overflow: hidden;text-align: left;background-color: #f0f8ff;}#sk-container-id-10 div.sk-toggleable__content pre {margin: 0.2em;color: black;border-radius: 0.25em;background-color: #f0f8ff;}#sk-container-id-10 input.sk-toggleable__control:checked~div.sk-toggleable__content {max-height: 200px;max-width: 100%;overflow: auto;}#sk-container-id-10 input.sk-toggleable__control:checked~label.sk-toggleable__label-arrow:before {content: \"▾\";}#sk-container-id-10 div.sk-estimator input.sk-toggleable__control:checked~label.sk-toggleable__label {background-color: #d4ebff;}#sk-container-id-10 div.sk-label input.sk-toggleable__control:checked~label.sk-toggleable__label {background-color: #d4ebff;}#sk-container-id-10 input.sk-hidden--visually {border: 0;clip: rect(1px 1px 1px 1px);clip: rect(1px, 1px, 1px, 1px);height: 1px;margin: -1px;overflow: hidden;padding: 0;position: absolute;width: 1px;}#sk-container-id-10 div.sk-estimator {font-family: monospace;background-color: #f0f8ff;border: 1px dotted black;border-radius: 0.25em;box-sizing: border-box;margin-bottom: 0.5em;}#sk-container-id-10 div.sk-estimator:hover {background-color: #d4ebff;}#sk-container-id-10 div.sk-parallel-item::after {content: \"\";width: 100%;border-bottom: 1px solid gray;flex-grow: 1;}#sk-container-id-10 div.sk-label:hover label.sk-toggleable__label {background-color: #d4ebff;}#sk-container-id-10 div.sk-serial::before {content: \"\";position: absolute;border-left: 1px solid gray;box-sizing: border-box;top: 0;bottom: 0;left: 50%;z-index: 0;}#sk-container-id-10 div.sk-serial {display: flex;flex-direction: column;align-items: center;background-color: white;padding-right: 0.2em;padding-left: 0.2em;position: relative;}#sk-container-id-10 div.sk-item {position: relative;z-index: 1;}#sk-container-id-10 div.sk-parallel {display: flex;align-items: stretch;justify-content: center;background-color: white;position: relative;}#sk-container-id-10 div.sk-item::before, #sk-container-id-10 div.sk-parallel-item::before {content: \"\";position: absolute;border-left: 1px solid gray;box-sizing: border-box;top: 0;bottom: 0;left: 50%;z-index: -1;}#sk-container-id-10 div.sk-parallel-item {display: flex;flex-direction: column;z-index: 1;position: relative;background-color: white;}#sk-container-id-10 div.sk-parallel-item:first-child::after {align-self: flex-end;width: 50%;}#sk-container-id-10 div.sk-parallel-item:last-child::after {align-self: flex-start;width: 50%;}#sk-container-id-10 div.sk-parallel-item:only-child::after {width: 0;}#sk-container-id-10 div.sk-dashed-wrapped {border: 1px dashed gray;margin: 0 0.4em 0.5em 0.4em;box-sizing: border-box;padding-bottom: 0.4em;background-color: white;}#sk-container-id-10 div.sk-label label {font-family: monospace;font-weight: bold;display: inline-block;line-height: 1.2em;}#sk-container-id-10 div.sk-label-container {text-align: center;}#sk-container-id-10 div.sk-container {/* jupyter's `normalize.less` sets `[hidden] { display: none; }` but bootstrap.min.css set `[hidden] { display: none !important; }` so we also need the `!important` here to be able to override the default hidden behavior on the sphinx rendered scikit-learn.org. See: https://github.com/scikit-learn/scikit-learn/issues/21755 */display: inline-block !important;position: relative;}#sk-container-id-10 div.sk-text-repr-fallback {display: none;}</style><div id=\"sk-container-id-10\" class=\"sk-top-container\"><div class=\"sk-text-repr-fallback\"><pre>MLPClassifier(max_iter=5000, random_state=42)</pre><b>In a Jupyter environment, please rerun this cell to show the HTML representation or trust the notebook. <br />On GitHub, the HTML representation is unable to render, please try loading this page with nbviewer.org.</b></div><div class=\"sk-container\" hidden><div class=\"sk-item\"><div class=\"sk-estimator sk-toggleable\"><input class=\"sk-toggleable__control sk-hidden--visually\" id=\"sk-estimator-id-10\" type=\"checkbox\" checked><label for=\"sk-estimator-id-10\" class=\"sk-toggleable__label sk-toggleable__label-arrow\">MLPClassifier</label><div class=\"sk-toggleable__content\"><pre>MLPClassifier(max_iter=5000, random_state=42)</pre></div></div></div></div></div>"
      ],
      "text/plain": [
       "MLPClassifier(max_iter=5000, random_state=42)"
      ]
     },
     "execution_count": 214,
     "metadata": {},
     "output_type": "execute_result"
    }
   ],
   "source": [
    "from sklearn.neural_network import MLPClassifier\n",
    "#hidden_layer_sizes=(10), alpha=0.001, batch_size='auto', learning_rate='constant', learning_rate_init=0.01, max_iter=1000, random_state=0\n",
    "mlp = MLPClassifier(max_iter=5000, random_state=42)\n",
    "\n",
    "# train the model on (or fit the model to) our training data\n",
    "mlp.fit(X_train, y_train)"
   ]
  },
  {
   "cell_type": "code",
   "execution_count": 211,
   "metadata": {},
   "outputs": [
    {
     "data": {
      "text/plain": [
       "0.9315476190476191"
      ]
     },
     "execution_count": 211,
     "metadata": {},
     "output_type": "execute_result"
    }
   ],
   "source": [
    "train_preds = mlp.predict(X_train)\n",
    "\n",
    "accuracy_score(y_train, train_preds)"
   ]
  },
  {
   "cell_type": "code",
   "execution_count": 215,
   "metadata": {},
   "outputs": [
    {
     "name": "stdout",
     "output_type": "stream",
     "text": [
      "fit_time : 2.51635365486145\n",
      "score_time : 0.004053640365600586\n",
      "test_accuracy : 0.8632798573975045\n",
      "test_precision : 0.8459965034965036\n",
      "test_recall : 0.7755128205128206\n",
      "test_f1 : 0.8041636141636141\n",
      "test_roc_auc : 0.9026886579603971\n"
     ]
    }
   ],
   "source": [
    "#scores = cross_val_score(mlp, X_train, y_train, cv=kfold, scoring='roc_auc')\n",
    "cv_results_mlp = model_selection.cross_validate(mlp, X_train, y_train, cv=kfold, scoring=['accuracy', 'precision','recall', 'f1', 'roc_auc'])\n",
    "for key,value in cv_results_mlp.items():\n",
    "    print(key, ':', value.mean())"
   ]
  },
  {
   "cell_type": "code",
   "execution_count": null,
   "metadata": {},
   "outputs": [],
   "source": []
  },
  {
   "cell_type": "code",
   "execution_count": 216,
   "metadata": {},
   "outputs": [
    {
     "name": "stdout",
     "output_type": "stream",
     "text": [
      "Best Hyperparameters found: {'activation': 'tanh', 'alpha': 0.01, 'hidden_layer_sizes': 10, 'solver': 'adam'}\n",
      "Cross Validation accuracy: 0.8928571428571429\n"
     ]
    }
   ],
   "source": [
    "from sklearn.model_selection import GridSearchCV\n",
    "# Define the Param Grid\n",
    "param_grid_mlp = {\"hidden_layer_sizes\": [(5), (10), (15)],\n",
    "              \"activation\": ['identity', 'tanh', 'logistic', 'relu'],\n",
    "              \"solver\": ['adam', 'sgd', 'lbfgs'],\n",
    "              \"alpha\": [0.01, 0.001, 0.0001]}\n",
    "\n",
    "\n",
    "# Determine the splits and perform the grid search\n",
    "grid = GridSearchCV(mlp, param_grid_mlp, cv=kfold, n_jobs=-1).fit(X_train, y_train)\n",
    "\n",
    "# Select the best estimators\n",
    "mlp_model_tuned=grid.best_estimator_\n",
    "\n",
    "# Output the results\n",
    "print(\"Best Hyperparameters found: \" + str(grid.best_params_))\n",
    "print(\"Cross Validation accuracy: \" + str(mlp_model_tuned.score(X_train,y_train)))"
   ]
  },
  {
   "cell_type": "code",
   "execution_count": 217,
   "metadata": {},
   "outputs": [
    {
     "name": "stdout",
     "output_type": "stream",
     "text": [
      "MLP CV Score: 0.8873440285204991\n"
     ]
    }
   ],
   "source": [
    "mlp_cv_scores = cross_val_score(mlp_model_tuned, X_train, y_train, cv=kfold)\n",
    "# print the mean of the list of scores\n",
    "print(\"MLP CV Score: {}\".format(np.mean(mlp_cv_scores)))"
   ]
  },
  {
   "cell_type": "code",
   "execution_count": 218,
   "metadata": {},
   "outputs": [
    {
     "name": "stdout",
     "output_type": "stream",
     "text": [
      "fit_time : 0.9594061136245727\n",
      "score_time : 0.009570717811584473\n",
      "test_accuracy : 0.8873440285204991\n",
      "test_precision : 0.8806388056388055\n",
      "test_recall : 0.809871794871795\n",
      "test_f1 : 0.8361526573849624\n",
      "test_roc_auc : 0.9322100261802779\n"
     ]
    }
   ],
   "source": [
    "cv_results_mlp_f = model_selection.cross_validate(mlp_model_tuned, X_train, y_train, cv=kfold, scoring=['accuracy', 'precision','recall', 'f1', 'roc_auc'])\n",
    "for key,value in cv_results_mlp_f.items():\n",
    "    print(key, ':', value.mean())"
   ]
  },
  {
   "cell_type": "code",
   "execution_count": 219,
   "metadata": {},
   "outputs": [
    {
     "name": "stdout",
     "output_type": "stream",
     "text": [
      "Best Hyperparameters found: {'activation': 'relu', 'alpha': 0.01, 'hidden_layer_sizes': 5, 'solver': 'lbfgs'}\n",
      "Cross Validation accuracy: 0.9166666666666666\n"
     ]
    }
   ],
   "source": [
    "from sklearn.model_selection import GridSearchCV\n",
    "# Define the Param Grid\n",
    "param_grid_mlp = {\"hidden_layer_sizes\": [(5), (10), (15)],\n",
    "              \"activation\": ['identity', 'tanh', 'logistic', 'relu'],\n",
    "              \"solver\": ['adam', 'sgd', 'lbfgs'],\n",
    "              \"alpha\": [0.01, 0.001, 0.0001]}\n",
    "\n",
    "\n",
    "# Determine the splits and perform the grid search\n",
    "grid1 = GridSearchCV(mlp, param_grid_mlp, cv=kfold, n_jobs=-1).fit(X_new, y_train)\n",
    "\n",
    "# Select the best estimators\n",
    "mlp_model_tuned1=grid1.best_estimator_\n",
    "\n",
    "# Output the results\n",
    "print(\"Best Hyperparameters found: \" + str(grid1.best_params_))\n",
    "print(\"Cross Validation accuracy: \" + str(mlp_model_tuned1.score(X_new,y_train)))"
   ]
  },
  {
   "cell_type": "code",
   "execution_count": 833,
   "metadata": {},
   "outputs": [
    {
     "name": "stdout",
     "output_type": "stream",
     "text": [
      "Cross Validation accuracy: 0.9050445103857567\n"
     ]
    }
   ],
   "source": [
    "print(\"Cross Validation accuracy: \" + str(mlp_model_tuned1.score(X_new,y_train)))"
   ]
  },
  {
   "cell_type": "code",
   "execution_count": 220,
   "metadata": {},
   "outputs": [
    {
     "name": "stdout",
     "output_type": "stream",
     "text": [
      "MLP CV Score: 0.902139037433155\n"
     ]
    }
   ],
   "source": [
    "mlp_cv_scores1 = cross_val_score(mlp_model_tuned1, X_new, y_train, cv=kfold)\n",
    "# print the mean of the list of scores\n",
    "print(\"MLP CV Score: {}\".format(np.mean(mlp_cv_scores1)))"
   ]
  },
  {
   "cell_type": "code",
   "execution_count": 221,
   "metadata": {},
   "outputs": [
    {
     "name": "stdout",
     "output_type": "stream",
     "text": [
      "fit_time : 0.3080102205276489\n",
      "score_time : 0.002587747573852539\n",
      "test_accuracy : 0.8647286821705427\n",
      "test_recall : 0.863794124729311\n"
     ]
    }
   ],
   "source": [
    "score_mlp_smote = model_selection.cross_validate(mlp_model_tuned1, X_sm1, y_sm1, cv=kfold, scoring=['accuracy', 'recall'])\n",
    "for key,value in score_mlp_smote.items():\n",
    "    print(key, ':', value.mean())"
   ]
  },
  {
   "cell_type": "code",
   "execution_count": 223,
   "metadata": {},
   "outputs": [
    {
     "name": "stdout",
     "output_type": "stream",
     "text": [
      "fit_time : 0.2442305088043213\n",
      "score_time : 0.003213953971862793\n",
      "test_accuracy : 0.8355\n",
      "test_recall : 0.8269696969696969\n"
     ]
    }
   ],
   "source": [
    "score_mlp_undersamp = model_selection.cross_validate(mlp_model_tuned1, x_rus1, y_rus1, cv=kfold, scoring=['accuracy', 'recall'])\n",
    "for key,value in score_mlp_undersamp.items():\n",
    "    print(key, ':', value.mean())"
   ]
  },
  {
   "cell_type": "code",
   "execution_count": 759,
   "metadata": {},
   "outputs": [
    {
     "data": {
      "text/plain": [
       "array([[0.38351254, 0.57129814, 0.65135685, ..., 0.        , 0.        ,\n",
       "        0.        ],\n",
       "       [0.40716846, 0.07086304, 0.13778833, ..., 0.        , 0.        ,\n",
       "        1.        ],\n",
       "       [0.19498208, 0.14923319, 0.1504749 , ..., 0.        , 0.        ,\n",
       "        1.        ],\n",
       "       ...,\n",
       "       [0.26523297, 0.07637728, 0.10189959, ..., 0.        , 0.        ,\n",
       "        1.        ],\n",
       "       [0.91971326, 0.61182691, 0.7605156 , ..., 0.        , 0.        ,\n",
       "        1.        ],\n",
       "       [0.38781362, 0.19852992, 0.35630936, ..., 0.        , 0.        ,\n",
       "        1.        ]])"
      ]
     },
     "execution_count": 759,
     "metadata": {},
     "output_type": "execute_result"
    }
   ],
   "source": [
    "X_test"
   ]
  },
  {
   "cell_type": "markdown",
   "metadata": {},
   "source": [
    "Best Hyperparameters found: {'max_depth': 7, 'max_features': 4, 'min_samples_split': 2, 'n_estimators': 50}\n",
    "Cross Validation accuracy: 0.9792284866468842  rf_tuned1"
   ]
  },
  {
   "cell_type": "markdown",
   "metadata": {},
   "source": [
    "# Evaluation"
   ]
  },
  {
   "cell_type": "code",
   "execution_count": 224,
   "metadata": {},
   "outputs": [
    {
     "data": {
      "text/plain": [
       "array([[2.83812114e-01, 9.96579486e-02, 2.66458853e-01, 5.60791619e-02,\n",
       "        3.60442718e-01, 1.01562500e-01, 4.79266348e-01, 0.00000000e+00],\n",
       "       [9.00900901e-02, 4.56130339e-02, 9.41396509e-02, 1.19886385e-04,\n",
       "        1.40390139e-01, 1.40625000e-01, 3.39393939e-01, 0.00000000e+00],\n",
       "       [2.54348688e-01, 4.60145556e-02, 1.44763092e-01, 2.31565163e-02,\n",
       "        3.33237638e-01, 4.68750000e-02, 2.61084530e-01, 1.00000000e+00],\n",
       "       [1.07484843e-01, 8.58284500e-02, 1.48441397e-01, 1.05832012e-01,\n",
       "        1.72696896e-01, 5.46875000e-02, 1.89872408e-01, 1.00000000e+00],\n",
       "       [6.61170605e-01, 4.22602876e-01, 6.29052369e-01, 2.96635804e-01,\n",
       "        7.54188380e-01, 4.92187500e-01, 9.48165869e-01, 0.00000000e+00],\n",
       "       [4.41894725e-01, 2.50614952e-01, 5.62905237e-01, 1.29163746e-01,\n",
       "        5.68061940e-01, 2.65625000e-01, 6.43540670e-01, 1.00000000e+00],\n",
       "       [6.36806618e-01, 2.20216361e-01, 4.95635910e-01, 1.92150208e-01,\n",
       "        7.35206125e-01, 1.95312500e-01, 7.08133971e-01, 1.00000000e+00],\n",
       "       [4.88922885e-01, 7.61175357e-02, 1.77493766e-01, 6.89438932e-02,\n",
       "        5.91508184e-01, 1.01562500e-01, 3.41626794e-01, 0.00000000e+00],\n",
       "       [1.48733639e-01, 1.59153990e-01, 1.42892768e-01, 2.23265336e-02,\n",
       "        2.28405707e-01, 2.65625000e-01, 3.23763955e-01, 0.00000000e+00],\n",
       "       [7.31429543e-01, 2.83540035e-01, 5.87967581e-01, 2.41949168e-01,\n",
       "        7.71559101e-01, 2.57812500e-01, 6.43141946e-01, 0.00000000e+00],\n",
       "       [2.88344949e-01, 6.80774141e-02, 1.74438903e-01, 5.21597993e-02,\n",
       "        3.84355071e-01, 8.59375000e-02, 2.94776715e-01, 1.00000000e+00],\n",
       "       [2.31117910e-01, 4.82993279e-02, 4.51745636e-02, 2.65225571e-02,\n",
       "        3.48419935e-01, 1.09375000e-01, 2.21531100e-01, 1.00000000e+00],\n",
       "       [3.85234291e-01, 1.84763513e-02, 6.19513716e-02, 1.01958759e-01,\n",
       "        4.72904809e-01, 4.68750000e-02, 1.32057416e-01, 1.00000000e+00],\n",
       "       [3.56904074e-01, 1.88926151e-01, 3.83915212e-01, 1.11134679e-01,\n",
       "        5.61161382e-01, 3.04687500e-01, 5.94896332e-01, 0.00000000e+00],\n",
       "       [3.24041022e-01, 4.18801730e-02, 1.49750623e-01, 4.67649120e-02,\n",
       "        3.95107857e-01, 8.59375000e-02, 3.27910686e-01, 1.00000000e+00],\n",
       "       [3.14975353e-01, 1.09128758e-01, 2.04426434e-01, 5.19292486e-02,\n",
       "        3.85701215e-01, 1.01562500e-01, 3.35366826e-01, 0.00000000e+00],\n",
       "       [1.87489376e-01, 1.10517464e-01, 1.70698254e-01, 3.33468590e-02,\n",
       "        2.32378416e-01, 9.37500000e-02, 3.63915470e-01, 1.00000000e+00],\n",
       "       [5.17253102e-01, 1.80479052e-01, 3.70511222e-01, 3.08255561e-01,\n",
       "        6.69529006e-01, 1.40625000e-01, 4.84848485e-01, 0.00000000e+00],\n",
       "       [1.53096493e-01, 4.14623303e-02, 5.99438903e-02, 5.07764949e-02,\n",
       "        2.38837235e-01, 3.12500000e-02, 1.53349282e-01, 0.00000000e+00],\n",
       "       [6.91767239e-01, 2.34085300e-01, 6.02680798e-01, 5.16765650e-01,\n",
       "        7.37576404e-01, 1.25000000e-01, 7.08532695e-01, 0.00000000e+00],\n",
       "       [2.24318658e-01, 9.00899360e-02, 1.82793017e-01, 8.55435464e-02,\n",
       "        3.30704873e-01, 8.59375000e-02, 3.14473684e-01, 0.00000000e+00],\n",
       "       [2.56048501e-01, 4.69460439e-02, 1.28990025e-01, 9.11228743e-02,\n",
       "        3.56989717e-01, 3.90625000e-02, 2.60925040e-01, 0.00000000e+00],\n",
       "       [1.72757663e-01, 4.29078109e-03, 3.21633416e-02, 2.01593567e-02,\n",
       "        2.50380081e-01, 1.56250000e-02, 1.02830941e-01, 0.00000000e+00],\n",
       "       [3.89200521e-01, 2.49603373e-02, 7.11346633e-02, 4.92548600e-02,\n",
       "        4.82421871e-01, 6.25000000e-02, 2.03508772e-01, 1.00000000e+00],\n",
       "       [3.33673296e-01, 7.03058255e-02, 1.00685786e-01, 5.07764949e-02,\n",
       "        4.13674491e-01, 1.01562500e-01, 2.30462520e-01, 0.00000000e+00],\n",
       "       [4.01099212e-01, 4.77321647e-02, 2.02680798e-01, 2.50931425e-02,\n",
       "        4.61682444e-01, 5.46875000e-02, 3.15430622e-01, 1.00000000e+00],\n",
       "       [2.99677036e-01, 5.74780930e-02, 1.65399002e-01, 8.55896566e-02,\n",
       "        4.21102537e-01, 1.01562500e-01, 3.80063796e-01, 0.00000000e+00],\n",
       "       [3.78435039e-01, 7.68725446e-02, 1.54052369e-01, 1.90066030e-02,\n",
       "        4.47200835e-01, 2.34375000e-01, 4.20255183e-01, 0.00000000e+00],\n",
       "       [2.41883393e-01, 1.68893938e-03, 1.83354115e-02, 3.61595780e-02,\n",
       "        3.45564289e-01, 3.90625000e-02, 6.64673046e-02, 0.00000000e+00],\n",
       "       [4.82690237e-01, 3.09624817e-01, 5.28740648e-01, 7.80515696e-01,\n",
       "        7.92793162e-01, 3.43750000e-01, 8.50877193e-01, 1.00000000e+00],\n",
       "       [3.45571987e-01, 8.29158907e-02, 1.93890274e-01, 3.43151721e-02,\n",
       "        4.32660517e-01, 1.95312500e-01, 2.90390750e-01, 0.00000000e+00],\n",
       "       [5.20086124e-01, 2.01365826e-01, 3.49937656e-01, 1.68080711e-01,\n",
       "        6.52512537e-01, 2.26562500e-01, 5.23125997e-01, 1.00000000e+00],\n",
       "       [4.82123633e-01, 4.01007319e-01, 5.68142145e-01, 2.75194585e-01,\n",
       "        7.03892073e-01, 3.28125000e-01, 8.45693780e-01, 0.00000000e+00],\n",
       "       [9.57561335e-02, 0.00000000e+00, 0.00000000e+00, 1.90527131e-02,\n",
       "        1.18722950e-01, 1.56250000e-02, 0.00000000e+00, 0.00000000e+00],\n",
       "       [3.04776475e-01, 1.10830692e-01, 2.33478803e-01, 6.32723450e-02,\n",
       "        3.99934013e-01, 1.64062500e-01, 4.80462520e-01, 0.00000000e+00],\n",
       "       [3.56337470e-01, 5.84029469e-02, 1.65087282e-01, 1.34281973e-01,\n",
       "        5.30006622e-01, 5.46875000e-02, 3.99122807e-01, 0.00000000e+00],\n",
       "       [3.31406879e-01, 1.07312820e-01, 1.91895262e-01, 2.03437973e-02,\n",
       "        4.18546690e-01, 1.79687500e-01, 3.90071770e-01, 0.00000000e+00],\n",
       "       [4.94022324e-01, 1.22215719e-01, 3.23503741e-01, 1.55630971e-01,\n",
       "        6.79692876e-01, 2.81250000e-01, 6.14433812e-01, 1.00000000e+00],\n",
       "       [2.46416228e-01, 2.58061339e-03, 2.07793017e-02, 4.54738279e-02,\n",
       "        3.19771821e-01, 1.56250000e-02, 4.42982456e-02, 0.00000000e+00],\n",
       "       [7.47861069e-01, 1.00000000e+00, 1.00000000e+00, 5.03393707e-01,\n",
       "        7.66589357e-01, 6.79687500e-01, 1.00000000e+00, 1.00000000e+00],\n",
       "       [4.60026064e-01, 9.60271724e-02, 2.07855362e-01, 1.04587038e-01,\n",
       "        6.05996733e-01, 1.25000000e-01, 6.10047847e-01, 0.00000000e+00],\n",
       "       [6.26041135e-01, 2.11506363e-01, 3.89900249e-01, 1.31607584e-01,\n",
       "        6.86036594e-01, 1.87500000e-01, 6.12041467e-01, 0.00000000e+00],\n",
       "       [2.96844014e-01, 1.54083140e-01, 1.35037406e-01, 2.46781512e-02,\n",
       "        3.61403539e-01, 1.48437500e-01, 3.22488038e-01, 1.00000000e+00],\n",
       "       [0.00000000e+00, 0.00000000e+00, 0.00000000e+00, 1.20116935e-02,\n",
       "        0.00000000e+00, 5.46875000e-02, 0.00000000e+00, 0.00000000e+00],\n",
       "       [3.81268061e-01, 1.78777137e-01, 3.73129676e-01, 2.01648899e-01,\n",
       "        5.57168063e-01, 2.96875000e-01, 6.20414673e-01, 0.00000000e+00],\n",
       "       [3.49538217e-01, 1.77245790e-01, 2.17144638e-01, 7.17566122e-02,\n",
       "        4.57947903e-01, 1.48437500e-01, 3.87639553e-01, 0.00000000e+00],\n",
       "       [3.52937844e-01, 4.93980768e-02, 1.28927681e-01, 4.77332251e-02,\n",
       "        4.34002308e-01, 3.90625000e-02, 2.39433812e-01, 1.00000000e+00],\n",
       "       [7.03665930e-01, 4.42461814e-01, 5.53990025e-01, 2.45222989e-01,\n",
       "        7.18652050e-01, 2.18750000e-01, 6.23604466e-01, 0.00000000e+00],\n",
       "       [6.38506431e-01, 2.19560548e-01, 4.61346633e-01, 2.15251393e-01,\n",
       "        7.62870591e-01, 1.79687500e-01, 7.70334928e-01, 0.00000000e+00],\n",
       "       [2.29984702e-01, 6.36926126e-02, 1.29301746e-01, 2.05282379e-02,\n",
       "        3.11265048e-01, 1.17187500e-01, 2.69298246e-01, 0.00000000e+00],\n",
       "       [7.68825429e-01, 4.52112503e-01, 8.24189526e-01, 3.71426464e-01,\n",
       "        8.04907578e-01, 2.34375000e-01, 8.56459330e-01, 1.00000000e+00],\n",
       "       [4.16964134e-01, 1.05149960e-01, 2.86970075e-01, 1.89337489e-01,\n",
       "        5.47670882e-01, 7.81250000e-02, 4.33413078e-01, 0.00000000e+00],\n",
       "       [2.70780214e-01, 2.91960790e-02, 6.95137157e-02, 9.79471762e-02,\n",
       "        3.62225025e-01, 3.12500000e-02, 1.48125997e-01, 1.00000000e+00],\n",
       "       [3.33106692e-01, 7.00996113e-02, 1.44326683e-01, 6.05057361e-02,\n",
       "        4.27923693e-01, 1.32812500e-01, 3.16028708e-01, 0.00000000e+00],\n",
       "       [3.31406879e-01, 3.51551287e-01, 4.27743142e-01, 8.25463868e-02,\n",
       "        4.72604792e-01, 5.39062500e-01, 7.88277512e-01, 0.00000000e+00],\n",
       "       [2.50949062e-01, 1.14086546e-01, 1.47194514e-01, 7.16643919e-02,\n",
       "        3.26795756e-01, 8.59375000e-02, 2.51036683e-01, 1.00000000e+00],\n",
       "       [6.81001756e-01, 1.76784747e-01, 3.50810474e-01, 3.41224317e-01,\n",
       "        7.47591130e-01, 1.48437500e-01, 4.85645933e-01, 1.00000000e+00],\n",
       "       [7.64292594e-01, 3.09862669e-01, 6.32793017e-01, 4.29617470e-01,\n",
       "        7.71344473e-01, 1.71875000e-01, 6.43141946e-01, 0.00000000e+00],\n",
       "       [8.34551533e-01, 2.28559539e-01, 5.27743142e-01, 1.00000000e+00,\n",
       "        1.00000000e+00, 8.59375000e-02, 7.25677831e-01, 0.00000000e+00],\n",
       "       [3.75602017e-01, 1.63341152e-01, 2.79862843e-01, 1.65590763e-01,\n",
       "        5.60888769e-01, 1.17187500e-01, 4.72089314e-01, 0.00000000e+00],\n",
       "       [3.68236161e-01, 2.05668646e-01, 3.39089776e-01, 5.20675790e-02,\n",
       "        4.89406981e-01, 3.67187500e-01, 9.00318979e-01, 0.00000000e+00],\n",
       "       [5.84679019e-01, 2.50389836e-01, 5.20760599e-01, 1.21740013e-01,\n",
       "        6.66364120e-01, 1.56250000e-01, 7.40430622e-01, 0.00000000e+00],\n",
       "       [2.42449997e-01, 8.82512745e-03, 3.53117207e-02, 9.70157512e-03,\n",
       "        3.02305326e-01, 2.34375000e-02, 1.12918660e-01, 1.00000000e+00],\n",
       "       [3.01943453e-01, 6.04594867e-02, 1.41645885e-01, 5.74163562e-02,\n",
       "        4.21623053e-01, 1.09375000e-01, 3.45295056e-01, 1.00000000e+00],\n",
       "       [3.47271800e-01, 1.64996150e-01, 3.18079800e-01, 3.62517983e-02,\n",
       "        4.37555693e-01, 3.98437500e-01, 4.48963317e-01, 0.00000000e+00],\n",
       "       [2.60014732e-01, 1.00509733e-01, 8.90274314e-02, 6.02751854e-02,\n",
       "        3.64949590e-01, 1.17187500e-01, 2.65709729e-01, 0.00000000e+00],\n",
       "       [2.19785824e-01, 0.00000000e+00, 0.00000000e+00, 6.19812608e-02,\n",
       "        2.82647306e-01, 1.56250000e-02, 0.00000000e+00, 1.00000000e+00],\n",
       "       [3.43872174e-01, 1.83764979e-01, 3.49314214e-01, 6.61311741e-02,\n",
       "        4.09930918e-01, 1.87500000e-01, 5.01594896e-01, 0.00000000e+00],\n",
       "       [6.41906057e-01, 3.20859762e-01, 5.89214464e-01, 2.77269541e-01,\n",
       "        7.37103619e-01, 1.71875000e-01, 6.02073365e-01, 0.00000000e+00],\n",
       "       [4.33962264e-01, 1.91452905e-01, 4.40399002e-01, 1.63838578e-01,\n",
       "        5.18335516e-01, 2.34375000e-01, 5.57017544e-01, 0.00000000e+00],\n",
       "       [2.84378718e-01, 7.50238676e-02, 1.16147132e-01, 4.11855841e-02,\n",
       "        3.95730293e-01, 1.25000000e-01, 3.04306220e-01, 0.00000000e+00],\n",
       "       [6.90067426e-01, 4.08767212e-01, 6.02493766e-01, 2.87828765e-01,\n",
       "        7.87910548e-01, 3.20312500e-01, 7.46411483e-01, 0.00000000e+00],\n",
       "       [1.00000000e+00, 5.14224659e-01, 9.17082294e-01, 6.11752555e-01,\n",
       "        9.38674994e-01, 3.67187500e-01, 9.86842105e-01, 0.00000000e+00],\n",
       "       [8.36817950e-01, 4.82086430e-01, 6.78304239e-01, 6.89678704e-01,\n",
       "        9.02384485e-01, 4.37500000e-01, 7.34051037e-01, 1.00000000e+00],\n",
       "       [3.19508187e-01, 9.95999003e-02, 1.26932668e-01, 5.20214689e-02,\n",
       "        4.29000691e-01, 2.73437500e-01, 4.70494418e-01, 1.00000000e+00],\n",
       "       [3.11009122e-01, 1.50608225e-01, 2.38216958e-01, 1.06339223e-01,\n",
       "        4.58260628e-01, 1.56250000e-01, 4.04704944e-01, 0.00000000e+00],\n",
       "       [1.82389937e-01, 1.06123609e-01, 6.67705736e-02, 7.17566122e-02,\n",
       "        2.75202758e-01, 7.03125000e-02, 1.42384370e-01, 0.00000000e+00],\n",
       "       [3.68802765e-01, 8.64006110e-02, 2.10972569e-01, 5.98140839e-02,\n",
       "        4.68984565e-01, 9.37500000e-02, 5.11164274e-01, 1.00000000e+00],\n",
       "       [1.99954672e-01, 1.19900151e-01, 1.91271820e-01, 5.84768896e-02,\n",
       "        2.48592350e-01, 1.25000000e-01, 2.44657097e-01, 0.00000000e+00],\n",
       "       [2.84378718e-01, 7.32165022e-02, 1.21259352e-01, 3.05802501e-02,\n",
       "        3.67114210e-01, 1.09375000e-01, 2.83732057e-01, 0.00000000e+00],\n",
       "       [4.98555159e-01, 4.65101326e-01, 5.90960100e-01, 2.37015382e-01,\n",
       "        6.80526808e-01, 4.68750000e-01, 8.11004785e-01, 0.00000000e+00],\n",
       "       [4.52660207e-01, 4.62884226e-02, 2.35723192e-01, 7.86270242e-02,\n",
       "        5.13957592e-01, 8.59375000e-02, 3.38317384e-01, 0.00000000e+00],\n",
       "       [7.14431413e-01, 5.71556683e-01, 8.01745636e-01, 4.14262791e-01,\n",
       "        8.79117037e-01, 3.20312500e-01, 8.95933014e-01, 0.00000000e+00],\n",
       "       [3.81268061e-01, 9.85749731e-02, 2.35847880e-01, 8.86329263e-02,\n",
       "        4.70547825e-01, 1.79687500e-01, 5.11961722e-01, 0.00000000e+00],\n",
       "       [5.25752167e-01, 3.77527993e-01, 4.97568579e-01, 2.32819359e-01,\n",
       "        5.86688392e-01, 1.32812500e-01, 4.17464115e-01, 1.00000000e+00],\n",
       "       [2.61714545e-01, 3.48933545e-02, 8.18578554e-02, 5.06381644e-02,\n",
       "        3.33756842e-01, 6.25000000e-02, 1.91985646e-01, 1.00000000e+00],\n",
       "       [9.22941810e-01, 2.63526453e-01, 6.04862843e-01, 4.17859382e-01,\n",
       "        9.05188023e-01, 2.89062500e-01, 9.35406699e-01, 0.00000000e+00],\n",
       "       [3.41039152e-01, 5.60925725e-02, 1.64900249e-01, 1.27042680e-01,\n",
       "        4.24844696e-01, 4.68750000e-02, 2.51036683e-01, 0.00000000e+00],\n",
       "       [6.27174344e-01, 3.48838165e-01, 6.73316708e-01, 5.88236379e-01,\n",
       "        7.63749124e-01, 5.85937500e-01, 8.38118022e-01, 0.00000000e+00],\n",
       "       [2.43583206e-01, 8.41902023e-02, 2.99002494e-01, 8.80796046e-02,\n",
       "        3.00762564e-01, 1.01562500e-01, 3.43341308e-01, 1.00000000e+00],\n",
       "       [1.33265341e-01, 7.21074822e-02, 7.99251870e-02, 4.90243093e-02,\n",
       "        1.65370924e-01, 2.34375000e-02, 1.02232855e-01, 0.00000000e+00],\n",
       "       [3.03643266e-01, 3.73307335e-02, 1.28054863e-01, 1.05693681e-01,\n",
       "        3.73397114e-01, 1.56250000e-02, 1.91108453e-01, 0.00000000e+00],\n",
       "       [4.24329990e-01, 1.94092566e-01, 2.42518703e-01, 7.32321369e-02,\n",
       "        5.20657139e-01, 3.67187500e-01, 4.80462520e-01, 1.00000000e+00],\n",
       "       [2.03354298e-01, 5.05760302e-01, 3.70386534e-01, 0.00000000e+00,\n",
       "        2.26703679e-01, 2.96875000e-01, 5.84130781e-01, 0.00000000e+00],\n",
       "       [2.78146071e-01, 1.09148303e-01, 4.61596010e-01, 1.91873548e-01,\n",
       "        3.30704873e-01, 2.34375000e-02, 3.56698565e-01, 0.00000000e+00],\n",
       "       [7.54093716e-01, 4.24179443e-01, 6.50249377e-01, 4.02135822e-01,\n",
       "        7.55986831e-01, 1.25000000e-01, 6.47926635e-01, 0.00000000e+00],\n",
       "       [3.08742705e-01, 2.35707133e-02, 1.05922693e-01, 1.10350806e-01,\n",
       "        3.61814520e-01, 0.00000000e+00, 1.12918660e-01, 0.00000000e+00],\n",
       "       [2.50949062e-01, 6.30599521e-02, 1.63528678e-01, 1.50872404e-02,\n",
       "        3.58098355e-01, 1.56250000e-01, 3.57177033e-01, 0.00000000e+00],\n",
       "       [4.11864695e-01, 2.62387555e-01, 3.49002494e-01, 8.15319636e-02,\n",
       "        5.16573187e-01, 3.75000000e-01, 5.76953748e-01, 0.00000000e+00],\n",
       "       [3.33106692e-01, 6.84328481e-02, 2.11970075e-01, 4.30761002e-02,\n",
       "        4.14854676e-01, 1.40625000e-01, 4.60526316e-01, 1.00000000e+00],\n",
       "       [1.95988441e-01, 1.15883458e-02, 7.58104738e-02, 2.13582205e-02,\n",
       "        2.67865961e-01, 4.68750000e-02, 1.77990431e-01, 1.00000000e+00],\n",
       "       [4.31695847e-01, 1.58495563e-01, 3.28615960e-01, 1.18881183e-01,\n",
       "        4.97797110e-01, 8.59375000e-02, 5.41866029e-01, 0.00000000e+00],\n",
       "       [3.25174231e-01, 2.26099434e-02, 1.19950125e-01, 2.83669630e-02,\n",
       "        3.86787206e-01, 7.81250000e-02, 2.52910686e-01, 1.00000000e+00],\n",
       "       [7.11031787e-01, 4.82638280e-01, 6.62094763e-01, 5.79936552e-01,\n",
       "        8.49593461e-01, 3.59375000e-01, 7.89473684e-01, 1.00000000e+00],\n",
       "       [6.70802878e-01, 3.26882625e-01, 5.45137157e-01, 4.45756022e-01,\n",
       "        7.62210254e-01, 2.73437500e-01, 6.81020734e-01, 0.00000000e+00],\n",
       "       [4.96855346e-01, 6.97585401e-01, 7.74314214e-01, 2.02847763e-01,\n",
       "        5.64300693e-01, 4.92187500e-01, 8.51275917e-01, 0.00000000e+00],\n",
       "       [2.53782084e-01, 5.99402817e-02, 9.36408978e-02, 7.24021543e-02,\n",
       "        3.43479411e-01, 1.01562500e-01, 2.19657097e-01, 1.00000000e+00],\n",
       "       [2.22052241e-01, 5.37115441e-03, 4.10723192e-02, 5.21597993e-02,\n",
       "        3.28906040e-01, 2.34375000e-02, 1.57615630e-01, 0.00000000e+00],\n",
       "       [3.82401269e-01, 4.63741811e-01, 5.00311721e-01, 5.52491792e-02,\n",
       "        4.68428193e-01, 1.00000000e+00, 8.80382775e-01, 1.00000000e+00],\n",
       "       [3.80701456e-01, 8.25358376e-02, 1.97007481e-01, 6.18429304e-02,\n",
       "        4.62712846e-01, 6.25000000e-02, 3.61921850e-01, 1.00000000e+00],\n",
       "       [1.62388804e-01, 4.13351995e-02, 1.50623441e-01, 3.69434505e-02,\n",
       "        2.50567737e-01, 1.40625000e-01, 2.60287081e-01, 1.00000000e+00]])"
      ]
     },
     "execution_count": 224,
     "metadata": {},
     "output_type": "execute_result"
    }
   ],
   "source": [
    "X_new_test = SelectKBest(chi2, k=8).fit_transform(X_test, y_test)\n",
    "X_new_test"
   ]
  },
  {
   "cell_type": "code",
   "execution_count": 764,
   "metadata": {},
   "outputs": [],
   "source": [
    "y_pred = rf_tuned1.predict(X_new_test)"
   ]
  },
  {
   "cell_type": "code",
   "execution_count": 837,
   "metadata": {},
   "outputs": [
    {
     "data": {
      "text/plain": [
       "array([0, 0, 0, 0, 0, 1, 0, 0, 1, 1, 1, 0, 0, 1, 0, 0, 0, 0, 0, 0, 1, 0,\n",
       "       1, 0, 0, 1, 1, 0, 0, 1, 0, 0, 1, 0, 1, 0, 0, 1, 1, 1, 1, 0, 1, 1,\n",
       "       0, 1, 0, 0, 0, 0, 1, 1, 0, 0, 0, 0, 1, 1, 0, 1, 1, 0, 0, 0, 0, 0,\n",
       "       0, 1, 0, 0, 0, 0, 0, 0, 0, 0, 0, 0, 1, 0, 0, 0, 1, 1, 0, 1, 1, 0,\n",
       "       0, 0, 0, 0, 1, 0, 0, 0, 0, 1, 0, 0, 1, 1, 1, 0, 1, 0, 1, 0, 1, 0],\n",
       "      dtype=int64)"
      ]
     },
     "execution_count": 837,
     "metadata": {},
     "output_type": "execute_result"
    }
   ],
   "source": [
    "y_pred"
   ]
  },
  {
   "cell_type": "code",
   "execution_count": 838,
   "metadata": {},
   "outputs": [
    {
     "name": "stdout",
     "output_type": "stream",
     "text": [
      "Accuracy = 0.80\n",
      "Recall = 0.69\n",
      "\n"
     ]
    },
    {
     "data": {
      "image/png": "[encoded data removed]",
      "text/plain": [
       "<Figure size 576x432 with 2 Axes>"
      ]
     },
     "metadata": {
      "needs_background": "light"
     },
     "output_type": "display_data"
    }
   ],
   "source": [
    "from sklearn.metrics import accuracy_score, recall_score, confusion_matrix\n",
    "\n",
    "print(f'Accuracy = {accuracy_score(y_test, y_pred):.2f}\\nRecall = {recall_score(y_test, y_pred):.2f}\\n')\n",
    "cm = confusion_matrix(y_test, y_pred)\n",
    "plt.figure(figsize=(8, 6))\n",
    "plt.title('Confusion Matrix', size=16)\n",
    "sns.heatmap(cm, annot=True, cmap='Blues');"
   ]
  },
  {
   "cell_type": "code",
   "execution_count": 842,
   "metadata": {},
   "outputs": [
    {
     "name": "stdout",
     "output_type": "stream",
     "text": [
      "cv_scores mean: 0.8545454545454545\n"
     ]
    }
   ],
   "source": [
    "cv_scores1 = cross_val_score(rf_tuned1, X_new_test, y_test, cv=kfold)\n",
    "\n",
    "# print the mean of the list of scores\n",
    "print(\"cv_scores mean: {}\".format(np.mean(cv_scores1)))"
   ]
  },
  {
   "cell_type": "code",
   "execution_count": 839,
   "metadata": {},
   "outputs": [
    {
     "name": "stdout",
     "output_type": "stream",
     "text": [
      "roc_auc_score for RandomForest:  0.7829059829059829\n"
     ]
    }
   ],
   "source": [
    "from sklearn.metrics import roc_curve, roc_auc_score\n",
    "\n",
    "false_positive_rate1, true_positive_rate1, threshold1 = roc_curve(y_test, y_pred)\n",
    "\n",
    "\n",
    "print('roc_auc_score for RandomForest: ', roc_auc_score(y_test, y_pred))\n"
   ]
  },
  {
   "cell_type": "code",
   "execution_count": 840,
   "metadata": {},
   "outputs": [
    {
     "data": {
      "image/png": "[encoded data removed]",
      "text/plain": [
       "<Figure size 720x720 with 1 Axes>"
      ]
     },
     "metadata": {
      "needs_background": "light"
     },
     "output_type": "display_data"
    }
   ],
   "source": [
    "import matplotlib.pyplot as plt\n",
    "\n",
    "plt.subplots(1, figsize=(10,10))\n",
    "plt.title('Receiver Operating Characteristic - RandomForest')\n",
    "plt.plot(false_positive_rate1, true_positive_rate1)\n",
    "plt.plot([0, 1], ls=\"--\")\n",
    "plt.plot([0, 0], [1, 0] , c=\".7\"), plt.plot([1, 1] , c=\".7\")\n",
    "plt.ylabel('True Positive Rate')\n",
    "plt.xlabel('False Positive Rate')\n",
    "plt.show()"
   ]
  },
  {
   "cell_type": "code",
   "execution_count": 841,
   "metadata": {},
   "outputs": [
    {
     "name": "stdout",
     "output_type": "stream",
     "text": [
      "cv_scores mean: 0.8545454545454545\n"
     ]
    }
   ],
   "source": [
    "fp_rate, tp_rate, thresholds = roc_curve(y_test, y_pred_proba[:, 1])\n",
    "optimal_idx = np.argmax(tp_rate - fp_rate)\n",
    "optimal_threshold = thresholds[optimal_idx]\n",
    "optimal_threshold\n",
    "0.4841659373541868\n",
    "roc_curve = {\"fp_rate\":fp_rate, \"tp_rate\":tp_rate, \"thresholds\":thresholds}\n",
    "df_roc_curve = pd.DataFrame(roc_curve)\n",
    "df_roc_curve"
   ]
  }
 ],
 "metadata": {
  "kernelspec": {
   "display_name": "Python 3 (ipykernel)",
   "language": "python",
   "name": "python3"
  },
  "language_info": {
   "codemirror_mode": {
    "name": "ipython",
    "version": 3
   },
   "file_extension": ".py",
   "mimetype": "text/x-python",
   "name": "python",
   "nbconvert_exporter": "python",
   "pygments_lexer": "ipython3",
   "version": "3.10.9"
  }
 },
 "nbformat": 4,
 "nbformat_minor": 4
}
